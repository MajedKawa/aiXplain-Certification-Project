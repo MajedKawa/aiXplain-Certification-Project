{
 "cells": [
  {
   "cell_type": "code",
   "execution_count": 1,
   "metadata": {
    "colab": {
     "base_uri": "https://localhost:8080/"
    },
    "collapsed": true,
    "id": "88KSX5A6vdWR",
    "outputId": "f07843af-be5b-4a3e-df95-19a4469d25bc"
   },
   "outputs": [],
   "source": [
    "!pip install aixplain\n",
    "!pip install kagglehub[pandas-datasets]\n",
    "!pip install langchain langchain-community pypdf PyPDF2"
   ]
  },
  {
   "cell_type": "code",
   "execution_count": 2,
   "metadata": {
    "id": "RtdtuH5hSgkI"
   },
   "outputs": [],
   "source": [
    "import pandas as pd\n",
    "import kagglehub\n",
    "import os\n",
    "import pandas as pd\n",
    "import numpy as np\n",
    "import matplotlib.pyplot as plt\n",
    "import seaborn as sns\n",
    "import json\n",
    "import requests\n",
    "from typing import List, Dict, Any\n",
    "import tempfile\n",
    "from pathlib import Path"
   ]
  },
  {
   "cell_type": "code",
   "execution_count": 3,
   "metadata": {
    "id": "yBVGM85J1YeW"
   },
   "outputs": [],
   "source": [
    "# MyKey to delete later\n",
    "Key = \"Enter you aiXplain key\" #@param {type:\"string\"}\n",
    "\n",
    "os.environ[\"AIXPLAIN_API_KEY\"] = Key"
   ]
  },
  {
   "cell_type": "code",
   "execution_count": 4,
   "metadata": {
    "id": "pxdFlWE2-WWr"
   },
   "outputs": [],
   "source": [
    "from aixplain.factories import AgentFactory, TeamAgentFactory, ModelFactory\n",
    "from aixplain.modules.model.record import Record\n",
    "from google.colab import files\n",
    "from kagglehub import KaggleDatasetAdapter\n",
    "from huggingface_hub import notebook_login\n",
    "from google.cloud import bigquery\n",
    "from bs4 import BeautifulSoup\n",
    "from aixplain.factories import IndexFactory"
   ]
  },
  {
   "cell_type": "markdown",
   "metadata": {
    "id": "C7Pf2_1Ay-PX"
   },
   "source": [
    " ### First DataSource (Dataset): Dataset about GDPR"
   ]
  },
  {
   "cell_type": "code",
   "execution_count": 24,
   "metadata": {
    "colab": {
     "base_uri": "https://localhost:8080/",
     "height": 90
    },
    "id": "i28PjV8KkqvH",
    "outputId": "7c6fc72a-7a25-465b-c946-3127ace0f027"
   },
   "outputs": [],
   "source": [
    "files.upload()  # Upload kaggle.json"
   ]
  },
  {
   "cell_type": "code",
   "execution_count": 25,
   "metadata": {
    "id": "n_MAtfE7VR54"
   },
   "outputs": [],
   "source": [
    "!mkdir -p ~/.kaggle\n",
    "!cp kaggle.json ~/.kaggle/\n",
    "!chmod 600 ~/.kaggle/kaggle.json"
   ]
  },
  {
   "cell_type": "code",
   "execution_count": 26,
   "metadata": {
    "colab": {
     "base_uri": "https://localhost:8080/"
    },
    "id": "S1AmADAEUOyN",
    "outputId": "e2bb7976-f8e0-41b1-a8f3-e06ad689faaa"
   },
   "outputs": [
    {
     "name": "stdout",
     "output_type": "stream",
     "text": [
      "Dataset URL: https://www.kaggle.com/datasets/jessemostipak/gdpr-violations\n",
      "License(s): unknown\n",
      "Downloading gdpr-violations.zip to /content\n",
      "  0% 0.00/108k [00:00<?, ?B/s]\n",
      "100% 108k/108k [00:00<00:00, 347MB/s]\n",
      "Archive:  gdpr-violations.zip\n",
      "  inflating: gdpr_text.csv           \n",
      "  inflating: gdpr_violations.csv     \n"
     ]
    }
   ],
   "source": [
    "!kaggle datasets download -d \"jessemostipak/gdpr-violations\"\n",
    "!unzip \"gdpr-violations.zip\""
   ]
  },
  {
   "cell_type": "code",
   "execution_count": 27,
   "metadata": {
    "colab": {
     "base_uri": "https://localhost:8080/"
    },
    "id": "gu11Lq5XT7FS",
    "outputId": "b5a7fe9f-5ed3-485f-da8a-afea31f0b699"
   },
   "outputs": [
    {
     "name": "stdout",
     "output_type": "stream",
     "text": [
      "Index(['id', 'picture', 'name', 'price', 'authority', 'date', 'controller',\n",
      "       'article_violated', 'type', 'source', 'summary'],\n",
      "      dtype='object')\n",
      "   id                                            picture     name   price  \\\n",
      "0   1  https://www.privacyaffairs.com/wp-content/uplo...   Poland    9380   \n",
      "1   2  https://www.privacyaffairs.com/wp-content/uplo...  Romania    2500   \n",
      "2   3  https://www.privacyaffairs.com/wp-content/uplo...    Spain   60000   \n",
      "3   4  https://www.privacyaffairs.com/wp-content/uplo...    Spain    8000   \n",
      "4   5  https://www.privacyaffairs.com/wp-content/uplo...  Romania  150000   \n",
      "\n",
      "                                           authority        date  \\\n",
      "0  Polish National Personal Data Protection Offic...  10/18/2019   \n",
      "1  Romanian National Supervisory Authority for Pe...  10/17/2019   \n",
      "2           Spanish Data Protection Authority (AEPD)  10/16/2019   \n",
      "3           Spanish Data Protection Authority (AEPD)  10/16/2019   \n",
      "4  Romanian National Supervisory Authority for Pe...  10/09/2019   \n",
      "\n",
      "           controller                                   article_violated  \\\n",
      "0        Polish Mayor                                       Art. 28 GDPR   \n",
      "1    UTTIS INDUSTRIES  Art. 12 GDPR|Art. 13 GDPR|Art. 5 (1) c) GDPR|A...   \n",
      "2  Xfera Moviles S.A.                            Art. 5 GDPR|Art. 6 GDPR   \n",
      "3  Iberdrola Clientes                                       Art. 31 GDPR   \n",
      "4  Raiffeisen Bank SA                                       Art. 32 GDPR   \n",
      "\n",
      "                                                type  \\\n",
      "0  Non-compliance with lawful basis for data proc...   \n",
      "1              Information obligation non-compliance   \n",
      "2  Non-compliance with lawful basis for data proc...   \n",
      "3    Failure to cooperate with supervisory authority   \n",
      "4  Failure to implement sufficient measures to en...   \n",
      "\n",
      "                                              source  \\\n",
      "0        https://uodo.gov.pl/decyzje/ZSPU.421.3.2019   \n",
      "1  https://www.dataprotection.ro/?page=A_patra_am...   \n",
      "2  https://www.aepd.es/resoluciones/PS-00262-2019...   \n",
      "3  https://www.aepd.es/resoluciones/PS-00304-2019...   \n",
      "4  https://www.dataprotection.ro/?page=Comunicat_...   \n",
      "\n",
      "                                             summary  \n",
      "0  No data processing agreement has been conclude...  \n",
      "1  A controller was sanctioned because he had unl...  \n",
      "2  The company had unlawfully processed the perso...  \n",
      "3  Iberdrola Clientes violated Article 13 of the ...  \n",
      "4  Raiffeisen Bank Romania did not observe the ne...  \n"
     ]
    }
   ],
   "source": [
    "df = pd.read_csv(\"gdpr_violations.csv\")\n",
    "print(df.columns)\n",
    "print(df.head())"
   ]
  },
  {
   "cell_type": "markdown",
   "metadata": {
    "id": "sYIYVmHjlLA8"
   },
   "source": [
    "Some datasets that are related to laws and policies I found:\n",
    "\n",
    "\n",
    "1.   Climate laws and policies >> https://huggingface.co/datasets/ClimatePolicyRadar/all-document-text-data\n",
    "2.   https://huggingface.co/datasets/ClimatePolicyRadar/national-climate-targets\n",
    "\n",
    "3.  reported incidents of crime (with the exception of murders where data exists for each victim) that occurred in the City of Chicago from 2001 to present > https://www.kaggle.com/datasets/chicago/chicago-crime\n",
    "\n",
    "4. The one used: Data privacy in EU https://www.kaggle.com/datasets/jessemostipak/gdpr-violations\n",
    "\n",
    "\n",
    "\n"
   ]
  },
  {
   "cell_type": "code",
   "execution_count": 28,
   "metadata": {
    "colab": {
     "base_uri": "https://localhost:8080/",
     "height": 36
    },
    "collapsed": true,
    "id": "rB2IfYguXLRX",
    "outputId": "a2eb47a2-66dd-4c6e-8083-8d1a32c99a28"
   },
   "outputs": [
    {
     "data": {
      "application/vnd.google.colaboratory.intrinsic+json": {
       "type": "string"
      },
      "text/plain": [
       "'68983c17258eaad69a1cd36e'"
      ]
     },
     "execution_count": 28,
     "metadata": {},
     "output_type": "execute_result"
    }
   ],
   "source": [
    "## Creating the dataset index\n",
    "# Step 1: Create the index\n",
    "datasetIndex = IndexFactory.create(\n",
    "    name=\"GDPR Violation Index\",\n",
    "    description=\"Index for GDPR violations retrieval\",\n",
    ")\n",
    "\n",
    "# Step 2: Prepare the data as records\n",
    "records = []\n",
    "\n",
    "for _, row in df.iterrows():\n",
    "    record_id = str(row['id'])\n",
    "    value = f\"{row['summary']} | Type: {row['type']} | Violated Articles: {row['article_violated']}\"\n",
    "\n",
    "    attributes = {\n",
    "        \"country\": row['name'],\n",
    "        \"price\": row['price'],\n",
    "        \"authority\": row['authority'],\n",
    "        \"controller\": row['controller'],\n",
    "        \"date\": row['date'],\n",
    "        \"type\": row['type'],\n",
    "        \"article_violated\": row['article_violated'],\n",
    "        \"source\": row['source'],\n",
    "    }\n",
    "\n",
    "    record = Record(id=record_id, value=value, attributes=attributes)\n",
    "    records.append(record)\n",
    "\n",
    "# Step 3: Upsert records into the index\n",
    "datasetIndex.upsert(records)\n",
    "datasetIndex.id"
   ]
  },
  {
   "cell_type": "code",
   "execution_count": 29,
   "metadata": {
    "colab": {
     "base_uri": "https://localhost:8080/"
    },
    "collapsed": true,
    "id": "ogiL4w30Hmoy",
    "outputId": "06aaae0d-9211-4548-c01b-ee5c2e50acaf"
   },
   "outputs": [
    {
     "data": {
      "text/plain": [
       "{'results': [Model: GDPR Violation Index by aiXplain (id=68983c17258eaad69a1cd36e),\n",
       "  Model: Financial Fact Index Collection by aiXplain (id=67be2ed622816c001dcea674),\n",
       "  Model: Recipes Index 2 by aiXplain (id=67fd8527bd087e001dc420be),\n",
       "  Model: StockIndex by aiXplain (id=684aef6ddecefbc9b788bd90),\n",
       "  Model: XBRL Terminology by aiXplain (id=67bc71c322816c001dcac4ae),\n",
       "  Model: Formula Index by aiXplain (id=67bcedd43406f0001e9414a9),\n",
       "  Model: CompanyIndex by aiXplain (id=6849dd3fd208307eba0cc122),\n",
       "  Model: EPA Knowledge Indexer by aiXplain (id=689763a654b69f5684184e83)],\n",
       " 'page_total': 8,\n",
       " 'page_number': 0,\n",
       " 'total': 8}"
      ]
     },
     "execution_count": 29,
     "metadata": {},
     "output_type": "execute_result"
    }
   ],
   "source": [
    "# IndexFactory.list()"
   ]
  },
  {
   "cell_type": "code",
   "execution_count": 17,
   "metadata": {
    "id": "Uk4iSrdNF1pl"
   },
   "outputs": [],
   "source": [
    "# for x in IndexFactory.list(query=\"GlobalFileRAG\")[\"results\"]:\n",
    "#   x.delete()"
   ]
  },
  {
   "cell_type": "code",
   "execution_count": 30,
   "metadata": {
    "colab": {
     "base_uri": "https://localhost:8080/"
    },
    "collapsed": true,
    "id": "EWjzroRefZ4I",
    "outputId": "bdeca1d3-0efa-46a8-8818-fd799f9454c4"
   },
   "outputs": [
    {
     "name": "stderr",
     "output_type": "stream",
     "text": [
      "/usr/local/lib/python3.11/dist-packages/aixplain/factories/agent_factory/__init__.py:95: UserWarning: Use `llm` to define the large language model (aixplain.modules.model.llm_model.LLM) to be used as agent. Use `llm_id` to provide the model ID of the large language model to be used as agent. Note: In upcoming releases, `llm` will become a required parameter.\n",
      "  warnings.warn(\n"
     ]
    },
    {
     "name": "stdout",
     "output_type": "stream",
     "text": [
      "GDPR 68983c2908d90b9df2c1a478\n"
     ]
    }
   ],
   "source": [
    "# Stored Dataset search agent\n",
    "gdpr_agent = AgentFactory.create(\n",
    "    name=\"GDPR\",\n",
    "    description=\"An agent that answers queries related to the data stored\",\n",
    "    instructions=\"You are an agent that answers queries related to GDPR violations based on the informnation indexed\",\n",
    "    tools=[AgentFactory.create_model_tool(model=datasetIndex.id)]\n",
    ")\n",
    "\n",
    "print(gdpr_agent.name, gdpr_agent.id)"
   ]
  },
  {
   "cell_type": "code",
   "execution_count": 31,
   "metadata": {
    "id": "sRXjnuLEZN3U"
   },
   "outputs": [],
   "source": [
    "gdpr_agent.deploy()"
   ]
  },
  {
   "cell_type": "code",
   "execution_count": 32,
   "metadata": {
    "colab": {
     "base_uri": "https://localhost:8080/"
    },
    "id": "5tsRQV16w-yu",
    "outputId": "2c914073-9d77-4626-e39a-73126f31cb53"
   },
   "outputs": [
    {
     "name": "stdout",
     "output_type": "stream",
     "text": [
      "AgentResponseData(input={'input': 'Give me a violation in Romania', 'chat_history': [], 'outputFormat': 'text', 'expectedOutput': 'None'}, output=In Romania, there have been several GDPR violations. For example, the Romanian branch of ING Bank N.V. was fined €80,000 for not respecting data protection principles, leading to the doubling of transactions for 225,525 customers. Another case involved Vodafone Romania, which was fined for sending an email containing personal data of one client to another unrelated client due to inadequate security measures., session_id='121a7dea-e944-46e0-973b-a82df2420fb6', intermediate_steps=[{'agent': 'GDPR', 'input': \"{'input': 'Give me a violation in Romania', 'chat_history': [], 'outputFormat': 'text', 'expectedOutput': 'None'}\", 'output': 'In Romania, there have been several GDPR violations. For example, the Romanian branch of ING Bank N.V. was fined €80,000 for not respecting data protection principles, leading to the doubling of transactions for 225,525 customers. Another case involved Vodafone Romania, which was fined for sending an email containing personal data of one client to another unrelated client due to inadequate security measures.', 'tool_steps': [{'tool': 'search-aixplain-gdpr_violation_index', 'input': \"{'text': 'violation in Romania'}\", 'output': \"['The Romanian branch of ING Bank N.V. Amsterdam was fined with €80,000 due to not respecting data protection principles (privacy by design și privacy by default) by not implementing adequate technical measures to ensure the protection of personal data. As a consequence of this, a total of 225,525 had their transactions doubled on debit card payments during the period of 8-10 October 2018.This is one of the bigger fines in Romania, but it&#8217;s interesting to note that for similar offenses in other countries fines of over several millions of Euros are usually awarded. This denotes again the fact that different countries have different approaches to GDPR enforcement. | Type: Failure to comply with data processing principles | Violated Articles: Art. 25 GDPR', 'The pension Royal President near Bucharest was fined €2,500 after it refused to process a request for the exercise of the right of access. The Romanian Data Processing Authority also determined that customers&#8217; personal data was not processed in accordance with GDPR principles. | Type: Information obligation non-compliance | Violated Articles: Art. 12 GDPR|Art. 15 GDPR', 'A fine of €20,000 was issued to the Romanian national airline Tarom because it failed to implement the necessary technical measures to ensure the security of personal information. As a consequence of these inadequate measures, a Tarom employee was able to access the flight booking application without authorization and see the personal data of 22 passengers, after which the employee took a photo of the list and made it public online. | Type: Failure to implement sufficient measures to ensure information security | Violated Articles: Art. 32 GDPR', 'Vodafone Romania sent an e-mail containing personal data of a client to another unrelated client, thus breaking privacy conventions. They had improper organizational and security measures in effect at that time. | Type: Failure to implement sufficient measures to ensure information security | Violated Articles: Art. 32 GDPR', 'Vodafone Romania employed weak and insufficient security measures, which led to an event of erroneous data processing. When an individual issued a complaint, the company incorrectly processed the client’s data and sent it to a wrong e-mail address. | Type: Failure to comply with data processing principles | Violated Articles: Art. 5 (1) f) GDPR|Art. 32 GDPR', 'The company had not imposed sufficient security measures, which led to the unauthorized access of personal information related to the people who had made transactions with the website avocatoo.ro. This information includes names, emails, phone numbers, jobs, surnames, mailing addresses, and transaction details). Documents dated 10th of November 2018 – 1st of February 2019 had become publicly accessible to anyone. The company was sanctioned following a notification by the National Supervisory Authority when transaction details were publicly accessible via two links. | Type: Failure to implement sufficient measures to ensure information security | Violated Articles: Art. 32 GDPR', 'The Bulgarian Interior Ministry was fined due to the unlawful processing of the personal data of a citizen. The Interior Ministry unlawfully sent the personal data of the citizen to the Togolese Republic. | Type: Non-compliance with lawful basis for data processing | Violated Articles: Art. 6 (1) GDPR', 'Fan Courier Express SRL, which is a national courier service, was given an €11,000 fine because it failed to take appropriate technical and organizational measures to prevent the loss of personal data (name, bank card number, CVV code, cardholder&#8217;s address, personal identification number, serial and identity card number, bank account number, authorized credit limit) of over 1100 private individuals. | Type: Failure to implement sufficient measures to ensure information security | Violated Articles: Art. 32 GDPR', 'Raiffeisen Bank Romania did not observe the necessary security measures required by the GDPR when it assessed the scores of individuals on the WhatsApp platform. The personal data was exchanged via WhatsApp. | Type: Failure to implement sufficient measures to ensure information security | Violated Articles: Art. 32 GDPR', 'A fine of €1,022 was imposed on a national telecom company for the unlawful processing of the personal data of a citizen. The personal data of the individual was unlawfully accessed and processed in order to cancel a contract. | Type: Non-compliance with lawful basis for data processing | Violated Articles: Art. 6 (1) GDPR|Art. 25 (1) GDPR']\"}], 'thought': None, 'runTime': 4.091, 'usedCredits': 0.00040005, 'apiCalls': 2, 'task': None, 'policy': None}], execution_stats={'status': 'SUCCESS', 'api_calls': 2, 'credits': 0.00040005, 'runtime': 4.091, 'api_call_breakdown': {'GDPR': 2}, 'runtime_breakdown': {'GDPR': 4.091}, 'credit_breakdown': {'GDPR': 0.00040005}, 'session_id': '121a7dea-e944-46e0-973b-a82df2420fb6', 'environment': 'prod', 'assets_used': ['tool:search-aixplain-gdpr_violation_index', 'agent:GDPR'], 'time_stamp': '2025-08-10 06:29:05.566380', 'params': {'id': '68983c2908d90b9df2c1a478', 'sessionId': '121a7dea-e944-46e0-973b-a82df2420fb6'}}, critiques='')\n"
     ]
    }
   ],
   "source": [
    "output = gdpr_agent.run(\"Give me a violation in Romania\")\n",
    "print(output.data)"
   ]
  },
  {
   "cell_type": "markdown",
   "metadata": {
    "id": "61pgZPBc7mo4"
   },
   "source": [
    "### Web scraping agent\n",
    "\n",
    "* A utility tool to scrape websites: 66f423426eb563fa213a3531\n",
    "\n",
    "Some websites that might be helpful to scrape:\n",
    "\n",
    "1.   https://www.epa.gov/laws-regulations\n",
    "2.   https://www.epa.gov/laws-regulations/summary-clean-air-act\n",
    "3.   https://www.who.int/publications/who-guidelines\n",
    "\n"
   ]
  },
  {
   "cell_type": "code",
   "execution_count": null,
   "metadata": {
    "collapsed": true,
    "id": "xE_VY6vItWKB"
   },
   "outputs": [],
   "source": [
    "scrape_model = ModelFactory.get(\"66f423426eb563fa213a3531\") # Scraper Website Tool\n",
    "# Try\n",
    "# result = scrape_model.run(\"https://www.bbc.com/news\")\n",
    "# display(result.data)"
   ]
  },
  {
   "cell_type": "markdown",
   "metadata": {
    "id": "NeXPyA1m8Xet"
   },
   "source": [
    " Creating the Agent"
   ]
  },
  {
   "cell_type": "code",
   "execution_count": null,
   "metadata": {
    "colab": {
     "base_uri": "https://localhost:8080/"
    },
    "id": "3DnIoq47tYLi",
    "outputId": "ec209962-3cbc-40b9-f5c3-c29ada35b87e"
   },
   "outputs": [
    {
     "name": "stdout",
     "output_type": "stream",
     "text": [
      "Scraper Agent 6897639b686ec479bfbf910c\n"
     ]
    }
   ],
   "source": [
    "# Web scraper agent\n",
    "scraper_agent = AgentFactory.create(\n",
    "    name=\"Scraper Agent\",\n",
    "    description=\"Answers queries using website scraping.\",\n",
    "    instructions=\"Answers queries using website scraping, a website URL must be provided\",\n",
    "    tools=[AgentFactory.create_model_tool(\n",
    "        model=scrape_model,\n",
    "        description=\"The input query of this tool must be of the form 'text': 'https://website.com'.\")]\n",
    ")\n",
    "\n",
    "print(scraper_agent.name, scraper_agent.id)"
   ]
  },
  {
   "cell_type": "code",
   "execution_count": null,
   "metadata": {
    "id": "jlgSC1EUYxhb"
   },
   "outputs": [],
   "source": [
    "scraper_agent.deploy()"
   ]
  },
  {
   "cell_type": "code",
   "execution_count": null,
   "metadata": {
    "id": "eIRFoVpP8f2v"
   },
   "outputs": [],
   "source": [
    "response = scraper_agent.run(\"What are the latest interesting news listed at https://www.cnn.com/'?\")"
   ]
  },
  {
   "cell_type": "code",
   "execution_count": null,
   "metadata": {
    "colab": {
     "base_uri": "https://localhost:8080/"
    },
    "id": "RYpXSEYLo-vI",
    "outputId": "898e089d-065a-4499-d8cf-f35aacc6d19f"
   },
   "outputs": [
    {
     "name": "stdout",
     "output_type": "stream",
     "text": [
      "Here are some of the latest interesting news from CNN: 1. United Airlines halted its mainline flights due to a technology issue. 2. An Army soldier has been charged with attempting to share sensitive data on US tanks with Russia. 3. Flash flooding in northern India has led to at least 70 evacuations and multiple fatalities. 4. A new species of giant stick insect has been discovered in Australia. 5. The Great Barrier Reef is facing its worst coral bleaching on record.\n",
      "[{'agent': 'Scraper Agent', 'input': '{\\'input\\': \"What are the latest interesting news listed at https://www.cnn.com/\\'?\", \\'chat_history\\': [], \\'outputFormat\\': \\'text\\', \\'expectedOutput\\': \\'None\\'}', 'output': 'Here are some of the latest interesting news from CNN: 1. United Airlines halted its mainline flights due to a technology issue. 2. An Army soldier has been charged with attempting to share sensitive data on US tanks with Russia. 3. Flash flooding in northern India has led to at least 70 evacuations and multiple fatalities. 4. A new species of giant stick insect has been discovered in Australia. 5. The Great Barrier Reef is facing its worst coral bleaching on record.', 'tool_steps': [{'tool': 'utilities-crewai-scrape_website_tool', 'input': \"{'text': 'https://www.cnn.com/'}\", 'output': \"Breaking News, Latest News and Videos | CNN\\nCNN values your feedback\\n 1. How relevant is this ad to you?\\n 2. Did you encounter any technical issues?\\n Video player was slow to load content\\n Video content never loaded\\n Ad froze or did not finish loading\\n Video content did not start after ad\\n Audio on ad was too loud\\n Other issues\\n Ad never loaded\\n Ad prevented/slowed the page from loading\\n Content moved around while ad loaded\\n Ad was repetitive to ads I've seen previously\\n Other issues\\n Cancel\\n Submit\\nThank You!\\n Your effort and contribution in providing this feedback is much\\n appreciated.\\n Close\\nAd Feedback\\nClose icon\\n US\\n World\\n Politics\\n Business\\n Health\\n Entertainment\\n Underscored\\n Style\\n Travel\\n Sports\\n Science\\n Climate\\n Weather\\n Ukraine-Russia War\\n Israel-Hamas War\\n Games\\n More\\n US\\n World\\n Politics\\n Business\\n Health\\n Entertainment\\n Underscored\\n Style\\n Travel\\n Sports\\n Science\\n Climate\\n Weather\\n Ukraine-Russia War\\n Israel-Hamas War\\n Games\\n Watch\\n Listen\\n Live TV\\n Subscribe\\n Sign in\\n My Account\\n Settings\\n Newsletters\\n Topics you follow\\n Sign out\\nYour CNN account\\nSign in to your CNN account\\n Sign in\\n My Account\\n Settings\\n Newsletters\\n Topics you follow\\n Sign out\\nYour CNN account\\nSign in to your CNN account\\n Live TV\\n Listen\\n Watch\\n Edition\\n US\\n International\\n Arabic\\n Español\\n Edition\\n US\\n International\\n Arabic\\n Español\\n US\\n Crime + Justice\\n World\\n Africa\\n Americas\\n Asia\\n Australia\\n China\\n Europe\\n India\\n Middle East\\n United Kingdom\\n Politics\\n Trump\\n Facts First\\n CNN Polls\\n 2025 Elections\\n Business\\n Tech\\n Media\\n Calculators\\n Videos\\n Markets\\n Pre-markets\\n After-Hours\\n Fear & Greed\\n Investing\\n Markets Now\\n Nightcap\\n Health\\n Life, But Better\\n Fitness\\n Food\\n Sleep\\n Mindfulness\\n Relationships\\n CNN Underscored\\n Electronics\\n Fashion\\n Beauty\\n Health & Fitness\\n Home\\n Reviews\\n Deals\\n Gifts\\n Travel\\n Outdoors\\n Pets\\n Entertainment\\n Movies\\n Television\\n Celebrity\\n Tech\\n Innovate\\n Foreseeable Future\\n Mission: Ahead\\n Work Transformed\\n Innovative Cities\\n Style\\n Arts\\n Design\\n Fashion\\n Architecture\\n Luxury\\n Beauty\\n Video\\n Travel\\n Destinations\\n Food & Drink\\n Stay\\n Videos\\n Sports\\n Pro Football\\n College Football\\n Basketball\\n Baseball\\n Soccer\\n Olympics\\n Hockey\\n Science\\n Space\\n Life\\n Unearthed\\n Climate\\n Solutions\\n Weather\\n Weather\\n Video\\n Climate\\n Ukraine-Russia War\\n Israel-Hamas War\\n Watch\\n Live TV\\n CNN Headlines\\n CNN Shorts\\n Shows A-Z\\n CNN10\\n CNN Max\\n CNN TV Schedules\\n FlashDocs\\n Listen\\n CNN 5 Things\\n Chasing Life with Dr. Sanjay Gupta\\n The Assignment with Audie Cornish\\n One Thing\\n Tug of War\\n CNN Political Briefing\\n The Axe Files\\n All There Is with Anderson Cooper\\n All CNN Audio podcasts\\n Games\\n Daily Crossword\\n Jumble Crossword\\n Photo Shuffle\\n Sudoblock\\n Sudoku\\n 5 Things Quiz\\n About CNN\\n Subscribe\\n Photos\\n Investigations\\n CNN Profiles\\n CNN Leadership\\n CNN Newsletters\\n Work for CNN\\nFollow CNN\\ninfo\\n The top numbered articles will be viewable to readers when programmed onto a page. Make sure you have 30 or more cards added to the container for the machine learning (ML) feature to work. Your queued up articles, seen in the violet section, will use ML to surface up relevant content to the reader based on their individual interests and preferences.\\nTrending\\nGerrymandering, explained\\nUnited departures halted\\nGhana helicopter crash\\nUS Antarctic base rescue\\nApple’s $100 billion investment\\ninfo\\n The top numbered articles will be viewable to readers when programmed onto a page. Make sure you have 30 or more cards added to the container for the machine learning (ML) feature to work. Your queued up articles, seen in the violet section, will use ML to surface up relevant content to the reader based on their individual interests and preferences.\\n•\\n Breaking News\\nBreaking News\\nGary Hershorn/Corbis News/Getty Images\\nBreaking News\\nUnited Airlines halts departures for ‘technology issue’\\n United Airlines halted its mainline flights out of departure airports Wednesday night due to a “technology issue,” the airline tells CNN.\\ninfo\\n The top numbered articles will be viewable to readers when programmed onto a page. Make sure you have 30 or more cards added to the container for the machine learning (ML) feature to work. Your queued up articles, seen in the violet section, will use ML to surface up relevant content to the reader based on their individual interests and preferences.\\nJonathan Ernst/Reuters\\nVance dinner seen as potential way to clear air between Bondi, Patel on Epstein scandal\\n A dinner scheduled Wednesday night at Vice President JD Vance’s residence was seen as an opportunity for Trump administration officials to realign amid the ongoing Jeffrey Epstein scandal, though it’s now in flux.\\n•\\n Video\\n1:47\\nThe New York Times\\nVideo\\nNYT obtains previously undisclosed images of Epstein’s home\\n1:47\\n The New York Times has obtained previously undisclosed images and descriptions of the interior of Jeffrey Epstein’s Manhattan townhouse.\\ninfo\\n The top numbered articles will be viewable to readers when programmed onto a page. Make sure you have 30 or more cards added to the container for the machine learning (ML) feature to work. Your queued up articles, seen in the violet section, will use ML to surface up relevant content to the reader based on their individual interests and preferences.\\nWhat we know about the suspect in the Fort Stewart shooting\\nShow\\xa0all\\nWJCL\\nThe 28-year-old suspect was tackled by soldiers after he opened fire with a personal handgun, commanding general says\\n An active-duty Army sergeant was taken into custody Wednesday on suspicion of opening fire at his workplace on the sprawling Fort Stewart military base in Georgia, wounding five of his fellow soldiers, authorities said.\\nWJCL\\nAlleged gunman had a disagreement with one of the victims, source says\\n Five soldiers were shot in a shooting incident at the US Army’s Fort Stewart in Georgia, according to a verified Facebook page for Fort Stewart and the associated Hunter Army Airfield. Follow for live updates.\\n•\\n Video\\n2:42\\nWJCL\\nVideo\\nWitness describes the scene\\n2:42\\n Five soldiers were shot at Fort Stewart in Georgia, according to officials. Witness Ron Peavey talks to CNN’s Boris Sanchez and describes what he saw.\\ninfo\\n The top numbered articles will be viewable to readers when programmed onto a page. Make sure you have 30 or more cards added to the container for the machine learning (ML) feature to work. Your queued up articles, seen in the violet section, will use ML to surface up relevant content to the reader based on their individual interests and preferences.\\nCNN Headlines\\n - Source:\\n CNN\\nWatch the latest CNN Headlines\\ninfo\\n The top numbered articles will be viewable to readers when programmed onto a page. Make sure you have 30 or more cards added to the container for the machine learning (ML) feature to work. Your queued up articles, seen in the violet section, will use ML to surface up relevant content to the reader based on their individual interests and preferences.\\nRobert Markowitz/NASA\\nAstronaut retires after returning from troubled test flight and extended stay in space\\n Aug 6, 2025\\nCDC\\nDo you need to cleanse your body of parasites? A doctor explains\\n Aug 6, 2025\\nNorma Galeana/CNN\\nFor Subscribers\\nThis farmer’s crops are dying. There’s no one to pick the fruit\\n Aug 6, 2025\\nCNN, Reuters\\nVideo\\nDirector says his film about Hiroshima and Nagasaki is ‘a sacred duty’\\n2:54\\n Aug 6, 2025\\ninfo\\n The top numbered articles will be viewable to readers when programmed onto a page. Make sure you have 30 or more cards added to the container for the machine learning (ML) feature to work. Your queued up articles, seen in the violet section, will use ML to surface up relevant content to the reader based on their individual interests and preferences.\\nPavlo Fedykovych\\nFor Subscribers\\nInside an abandoned secret nuclear missile base deep in the forests of Lithuania\\n Jul 31, 2025\\nHerve Lenain/Alamy\\nFrench resort town cracks down on ‘half-naked’ visitors\\n Jul 28, 2025\\nAl Drago/Bloomberg/Getty Images\\nFor Subscribers\\nFrom flag poles to a $200 million ballroom: Inside Trump’s ‘legacy project’ at the White House\\n Aug 2, 2025\\nMiami Herald/Getty Images\\nAnalysis\\nIn the Epstein scandal, like other Washington storms, the victims are an afterthought\\n Aug 1, 2025\\nPrashanth Vishwanathan/Bloomberg/Getty Images\\nHere’s what could get more expensive from Trump’s massive tariff hikes\\n Aug 1, 2025\\nMindful Media/iStockphoto/Getty Images\\nStrengthen your feet with a simple daily routine from a podiatrist\\n Aug 5, 2025\\nCNN / Deltec\\nVideo\\nHow these round homes survive hurricanes\\n3:07\\n Jul 25, 2025\\nSimone Risoluti/Vatican Media/Reuters\\nFor Subscribers\\nFaith, flags and deep-dish pizza: Pope Leo shows Gen Z appeal as a million young people turn out in Rome\\n Aug 3, 2025\\nCarol Yepes/Moment RF/Getty Images\\nIndoor air contains thousands of microplastics small enough to penetrate deep into our lungs, study finds\\n Jul 30, 2025\\nSoccorso Alpino e Speleologico Veneto - CNSAS\\nA British hiker needed rescuing from the Italian Dolomites. He’s now facing a $16,000 fine\\n Aug 5, 2025\\nDoritos\\nDoritos thinks this flavor is its next ‘Cool Ranch’\\n Aug 2, 2025\\nTikTok / @seht876 / @geiamendozaaa / @seht876\\nVideo\\nThis Swiss River is so clean, locals use it to commute to work\\n2:36\\n Jul 24, 2025\\nNoriko Hayashi for CNN\\nFor Subscribers\\nCEO who spent $10M on original Birkin bag says ‘I felt sick to my stomach’\\n Aug 1, 2025\\nCliff Berger/Southwest Area Incident Management Team 2, via TMX\\nVideo\\nThis is how a fire cloud formed in the Grand Canyon ‘megafire’\\n1:02\\n Aug 2, 2025\\nMike Fuentes/Bloomberg/Getty Images\\nHe tried building smartphones in the US over a decade ago. He has advice for companies trying it today\\n Aug 4, 2025\\nDarn Tough\\nForget cotton — Darn Tough merino wool socks are your feet’s new BFF\\n Aug 5, 2025\\nCNN\\nVideo\\nCollege grads compete with AI for entry-level jobs\\n2:11\\n Aug 4, 2025\\nHenry T. Casey/CNN Underscored\\nWe found the best over-ear headphones after years of testing\\n Aug 2, 2025\\nCNN\\nVideo\\nDr. Sanjay Gupta exposes deepfake ads promoting fake health cures with his likeness\\n1:44\\n Jul 31, 2025\\nJanna Tew/Salter House\\nPeople are wearing nightgowns anywhere but to bed\\n Jul 29, 2025\\nPhoto Illustration by Jason Lancaster/CNN/Getty Images\\n‘Ozempic face’ may be driving a cosmetic surgery boom\\n Jul 30, 2025\\nMichael Peterson/GTRI\\n‘Megaflash’ lightning bolt traveled over 500 miles, setting a new record, study says\\n Jul 31, 2025\\nJose Perez/Bauer-Griffin/GC Images/Getty Images\\nWhat has America learned from the Sydney Sweeney situation? We asked the experts\\n Aug 4, 2025\\nCarlo Zanella\\nFed-up Italian farmers set up mountain turnstiles to charge access to Instagram hot spots\\n Jul 31, 2025\\nSeraphinne Vallora\\nYour favorite model? Thanks to AI, they might not be real\\n Jul 31, 2025\\nPATRICK T. FALLON/AFP/AFP via Getty Images\\nVideo\\nShort flights, big pollution: the private jet problem\\n2:42\\n Jul 31, 2025\\nnaikon/iStockphoto/Getty Images\\nWhat you eat may impact your lung cancer risk, according to a new study\\n Jul 29, 2025\\nHans Lucas/AFP/Getty Images\\nAnalysis\\nA viable Palestinian state remains far off, despite growing international clamor\\n Aug 2, 2025\\nfermate/iStockphoto/Getty Images\\nMosquitoes bite! 5 tips for making yourself less attractive to them\\n Jul 30, 2025\\nCNN\\nVideo\\nHow cargo ships deliver made-in-China goods to your door\\n10:26\\n Jul 29, 2025\\nBarry Neild/CNN\\nThe world’s first passenger jet was a luxurious death trap. Now it’s been brought back to life\\n Jul 29, 2025\\nGabe Ramirez, CNN\\nVideo\\nIn a city prone to natural disasters, this museum uses thoughtful design and hidden tech to keep staff and artworks safe\\n3:17\\n Aug 1, 2025\\nKayla Bartkowski/Getty Images\\nFor Subscribers\\nTrump administration takes all-of-government approach to target transgender community\\n Jul 21, 2025\\nFG Trade/E+/Getty Images\\nWorried about Alzheimer’s? Start walking, according to a new 10-year study\\n Jul 28, 2025\\nPhoto illustration by Ian Berry/CNN/Adobe Stock\\nExtreme heat is miserable and dangerous. It’s also making us age faster\\n Jul 25, 2025\\nCNN\\nVideo\\nThe town wanted his farm for affordable housing. Then came the MAGA storm\\n3:53\\n Jul 25, 2025\\nCNN\\nFirst on CNN\\nFighting early-stage Alzheimer’s with intensive lifestyles changes works, study finds\\n Jul 29, 2025\\nTom Winger/500px/Getty Images\\nThis upstate New York town is a showstopper for scenery\\n Jun 26, 2025\\nKyle Grillot/Reuters\\nFor Subscribers\\nWhere the next deadly flood wave could strike\\n Jul 24, 2025\\nJonathan Cohen/Alamy Stock Photo\\nWe searched for America’s best towns to visit. Here are the top 10\\n Jun 27, 2025\\nCNN\\nVideo\\n‘It’s a type of torture’: Hear what it’s like inside ‘Alligator Alcatraz’\\n4:54\\n Jul 25, 2025\\ncnn\\nVideo\\nMeat consumption levels are unsustainable. Going vegan isn’t the only answer\\n2:59\\n Jul 15, 2025\\nKent Nishimura/Getty Images\\nFor Subscribers\\nThe FBI prepares to leave its ‘monstrosity’ of a home – but may end up back where it started\\n Jul 19, 2025\\nMolly Flores/CNN Underscored\\nCNN Underscored\\nThe 35 best fanny packs and belt bags, according to stylists and editors\\n Jul 24, 2025\\nIan Berry, CNN\\nCycling like a pro… for a day: How amateurs measure themselves up to pros on one of the world’s toughest stages\\n Jul 25, 2025\\nWill Lanzoni/CNN\\n‘These mountains are still here.’ Asheville is ready for your visit\\n Jun 26, 2025\\nSonoma County Tourism\\nOnce ‘the world’s egg basket,’ this Gold Rush-era boomtown still delivers culinary riches\\n Jun 26, 2025\\nMolly Flores/CNN Underscored\\nCNN Underscored\\nThe 25 best sympathy gift ideas to offer solace and support, according to etiquette experts\\n Jul 23, 2025\\nRebeca Wright/CNN\\n‘It’s all still here.’ This seafaring town brings the past to life\\n Jun 26, 2025\\nCNN\\nVideo\\nCNN reporter attempts airshow maneuvers in the Goodyear blimp\\n2:17\\n Jul 27, 2025\\ninfo\\n The top numbered articles will be viewable to readers when programmed onto a page. Make sure you have 30 or more cards added to the container for the machine learning (ML) feature to work. Your queued up articles, seen in the violet section, will use ML to surface up relevant content to the reader based on their individual interests and preferences.\\nMore Top Stories\\n•\\n Breaking News\\nBreaking News\\nJoe Raedle/Getty Images\\nBreaking News\\nArmy soldier charged with attempting to share sensitive data on US tanks with Russia\\nApple will invest $100 billion to make US iPhone parts as Trump says a big chip tariff is coming\\nFor Subscribers\\nConversion therapy is quietly spreading across America again. These survivors say it nearly cost them their lives\\nVideo\\nTrump says he’s considering taking over DC police and bringing in National Guard\\n1:52\\nNewly released information and 911 calls reveal mother’s concerns about NYC gunman’s mental health\\nVideo\\nNew bodycam footage shows gunman suffering mental health episodes\\n1:32\\nRFK terminates funding for mRNA vaccines\\ninfo\\n The top numbered articles will be viewable to readers when programmed onto a page. Make sure you have 30 or more cards added to the container for the machine learning (ML) feature to work. Your queued up articles, seen in the violet section, will use ML to surface up relevant content to the reader based on their individual interests and preferences.\\nGender INequality\\nCNN\\nPolice say bystanders were told not to save a drowning woman. Killings didn’t stop there\\n “Social control” campaigns aimed at minority groups have a long history in Colombia, with local vigilantes dealing death and displacement in the name of law and order.\\n•\\n Video\\n9:09\\nCNN\\nVideo\\nA trans woman with broken limbs was thrown into a river to drown. Sara Millerey’s killing was brutal, but not unique\\n9:09\\n Colombia’s gang members tell CNN of a killing campaign aimed at LGBTQ people. Trans women, like Sara Millerey and Nawar Jimenez, are paying the price.\\ninfo\\n The top numbered articles will be viewable to readers when programmed onto a page. Make sure you have 30 or more cards added to the container for the machine learning (ML) feature to work. Your queued up articles, seen in the violet section, will use ML to surface up relevant content to the reader based on their individual interests and preferences.\\nRussia-Ukraine war\\nKevin Lamarque/Reuters/File\\nTrump says there’s a ‘good chance’ he’ll meet with Putin, but no ‘breakthrough’ in Witkoff’s Moscow trip\\n As the Trump administration’s sanctions deadline looms over Russia, the Kremlin said that US special envoy Steve Witkoff and Russian President Vladimir Putin held a “constructive and useful” meeting on Wednesday, according to Russian state media TASS.\\nIvan Antypenko/Suspilne Ukraine/Getty\\nRussian drones hunt civilians as Putin zeroes in on Ukraine’s Kherson\\n Russia has launched a new bid to exert control over the southern Ukrainian city of Kherson by threatening key access roads with its drones and trying to split it in two by striking a vital bridge.\\nAd Feedback\\ninfo\\n The top numbered articles will be viewable to readers when programmed onto a page. Make sure you have 30 or more cards added to the container for the machine learning (ML) feature to work. Your queued up articles, seen in the violet section, will use ML to surface up relevant content to the reader based on their individual interests and preferences.\\nAd Feedback\\nCNN Underscored\\nMolly Flores/CNN Underscored\\nShackets are the greatest mash-up since jorts. Here are stylists’ 17 favorites\\n Aug 6, 2025\\nBonne Maman\\nThe beloved Bonne Maman Advent Calendar has arrived. Grab it before it’s gone\\n Aug 5, 2025\\nNot Your Grandma's\\nAvoid swollen feet with the 15 best compression socks for travel, according to podiatrists\\n Jul 15, 2025\\nAd Feedback\\ninfo\\n The top numbered articles will be viewable to readers when programmed onto a page. Make sure you have 30 or more cards added to the container for the machine learning (ML) feature to work. Your queued up articles, seen in the violet section, will use ML to surface up relevant content to the reader based on their individual interests and preferences.\\nRedistricting fight\\nCNN\\nHow Texas Republicans want to dismantle Democratic districts\\n•\\n Video\\n1:25\\nCNN\\nVideo\\nHear why Republican says they are pursuing redistricting now\\n1:25\\nKamil Krzacynski/AFP/Getty Images/File\\nTexas House Dems faced potential bomb threat in Illinois, police say\\ninfo\\n The top numbered articles will be viewable to readers when programmed onto a page. Make sure you have 30 or more cards added to the container for the machine learning (ML) feature to work. Your queued up articles, seen in the violet section, will use ML to surface up relevant content to the reader based on their individual interests and preferences.\\nTrump Administration\\n•\\n Video\\n4:21\\nCNN\\nVideo\\nVoters in battleground Arizona seeing impacts of Trump’s megabill\\n4:21\\nJim Watson/AFP/Getty Images/File\\nDOJ tells judge it will ask Supreme Court to quickly rule on constitutionality of Trump’s birthright citizenship order\\nCNN\\nHe’s opening a steakhouse in one of the top battlegrounds. Hear what he thinks about Trump’s megabill\\ninfo\\n The top numbered articles will be viewable to readers when programmed onto a page. Make sure you have 30 or more cards added to the container for the machine learning (ML) feature to work. Your queued up articles, seen in the violet section, will use ML to surface up relevant content to the reader based on their individual interests and preferences.\\nFor Subscribers\\n•\\n For Subscribers\\nFor Subscribers\\nWojtek Radwanski/AFP/Getty Images\\nFor Subscribers\\n‘Everyone is terrified of him’: Corey Lewandowski’s power at Homeland Security is growing\\n•\\n For Subscribers\\nFor Subscribers\\nDavid Dee Delgado/Reuters\\nFor Subscribers\\nSee where ICE is making the majority of arrests, by state\\n•\\n For Subscribers\\nFor Subscribers\\nGreg Kahn/The New York Times/Redux\\nFor Subscribers\\nLaura Loomer has the White House scrambling again — and she’s far from finished\\nAd Feedback\\nAd Feedback\\nCNN Underscored\\ninfo\\n The top numbered articles will be viewable to readers when programmed onto a page. Make sure you have 30 or more cards added to the container for the machine learning (ML) feature to work. Your queued up articles, seen in the violet section, will use ML to surface up relevant content to the reader based on their individual interests and preferences.\\nBest-in-class\\nDanielle Poiesz/CNN Underscored\\n11 of the best over-the-toilet organizers for every type of bathroom\\nThe best knee braces, according to physical therapists and orthopedists\\nA good surround sound system is just as crucial as your TV. Here are the best ones\\nA good flashlight is a must when the power goes out. These 3 are actually worth your cash\\nYes, you’ll want to have a cooling towel handy this summer. Here are our favorites\\ninfo\\n The top numbered articles will be viewable to readers when programmed onto a page. Make sure you have 30 or more cards added to the container for the machine learning (ML) feature to work. Your queued up articles, seen in the violet section, will use ML to surface up relevant content to the reader based on their individual interests and preferences.\\nExpert-backed guides\\nMolly Flores/CNN Underscored\\nBelt bags and fanny packs don’t have to be tacky. Here are 35 stylist-approved ones\\nThe Home Depot’s new Halloween collection just dropped, and it’s scarier than ever\\nBidets save you money and reduce waste. We tested the best options out there\\nDrench your patio in pretty colors and prints with these expert-recommended outdoor rugs\\nWe put these hard-shell carry-on bags through rigorous testing. Here are the 3 that stood out\\ninfo\\n The top numbered articles will be viewable to readers when programmed onto a page. Make sure you have 30 or more cards added to the container for the machine learning (ML) feature to work. Your queued up articles, seen in the violet section, will use ML to surface up relevant content to the reader based on their individual interests and preferences.\\nEditors' picks\\nJoe Bloss/CNN Underscored\\n17 game-changing car products our editors never drive without, starting at $5\\nWe slept on a bunch of cooling pillows. The dreamiest one stayed crisp and cool all night\\n72 little things that will really improve your life\\nEverything worth buying during Apple’s back-to-school sale\\nDelta Platinum or Delta Reserve? Here’s the better card, according to a top Delta frequent flyer\\ninfo\\n The top numbered articles will be viewable to readers when programmed onto a page. Make sure you have 30 or more cards added to the container for the machine learning (ML) feature to work. Your queued up articles, seen in the violet section, will use ML to surface up relevant content to the reader based on their individual interests and preferences.\\nCNN Sports\\nJeff Roberson/AP\\nTrailblazing baseball umpire Jen Pawol is going to make more history on Saturday\\nCourtesy the Maclean brothers\\nThree brothers, one boat and a 9,000-mile mission\\nKirby Lee/Imagn/ Reuters\\nAnother sex toy thrown onto WNBA court, this time appears to hit Indiana Fever guard Sophie Cunningham\\ninfo\\n The top numbered articles will be viewable to readers when programmed onto a page. Make sure you have 30 or more cards added to the container for the machine learning (ML) feature to work. Your queued up articles, seen in the violet section, will use ML to surface up relevant content to the reader based on their individual interests and preferences.\\nBleacher Report\\nShow\\xa0all\\nVideo: Shohei Ohtani hits homerun for 1,000th hit\\n21-year-old Red Sox rookie signs megadeal\\nNFL head coach bloodied after breaking up fight\\nCBB coach says this basketball position is dead\\nThe Yankees are in full meltdown mode\\nAd Feedback\\n America’s Best Towns\\ninfo\\n The top numbered articles will be viewable to readers when programmed onto a page. Make sure you have 30 or more cards added to the container for the machine learning (ML) feature to work. Your queued up articles, seen in the violet section, will use ML to surface up relevant content to the reader based on their individual interests and preferences.\\nRebecca Wright/CNN\\nThis maritime town offers boating, great seafood and more than 250 years of history\\ninfo\\n The top numbered articles will be viewable to readers when programmed onto a page. Make sure you have 30 or more cards added to the container for the machine learning (ML) feature to work. Your queued up articles, seen in the violet section, will use ML to surface up relevant content to the reader based on their individual interests and preferences.\\n•\\n Video\\n2:36\\nGabe Ramirez\\nVideo\\nSee why George Lucas chose this small town for his iconic film’s setting\\n2:36\\nWill Lanzoni/CNN\\nThis ‘magical’ North Carolina mountain town is our No. 3 best town to visit\\n•\\n Video\\n2:32\\nCNN\\nVideo\\n‘It’s hard to go to work’: This Oregon town is too much fun\\n2:32\\nHalbergman/iStockphoto/Getty Images\\nJaw-dropping scenery makes this our No. 7 best town to visit this year\\n•\\n Video\\n2:36\\nCNN\\nVideo\\nThis Montana town has amazing food, fly fishing, and even surfing in the center of downtown\\n2:36\\nGarrett Lockrem/Mt. Bachelor\\nPeople flocked to this town during the pandemic and never left. It’s our No. 4 best town to visit\\ninfo\\n The top numbered articles will be viewable to readers when programmed onto a page. Make sure you have 30 or more cards added to the container for the machine learning (ML) feature to work. Your queued up articles, seen in the violet section, will use ML to surface up relevant content to the reader based on their individual interests and preferences.\\nWorld\\nVeronika Silchenko\\nAmerican journalist found after going missing on hike in Norwegian national park\\nJoe Raedle/Getty Images\\nArmy soldier charged with attempting to share sensitive data on US tanks with Russia\\n•\\n Video\\n1:47\\nCNN\\nVideo\\nWomen in Gaza ‘embarrassed’ by dire personal hygiene situation\\n1:47\\ninfo\\n The top numbered articles will be viewable to readers when programmed onto a page. Make sure you have 30 or more cards added to the container for the machine learning (ML) feature to work. Your queued up articles, seen in the violet section, will use ML to surface up relevant content to the reader based on their individual interests and preferences.\\nClimate and environment\\nFlash flooding struck northern India on Tuesday prompting at least 70 people to be evacuated while dozens remain missing, according to officials in Uttarakhand. At least four people have died in the flooding, which triggered a mudslide that was caught on video as it engulfed a Himalayan village.\\nNewsflare\\nWall of water slams Himalayan village, leaving multiple dead and dozens feared trapped or missing\\nIdriss Bigou-Gilles/AFP/Getty Images\\nFrench firefighters battle to contain blaze that killed elderly woman and tore through area bigger than Paris\\nRebecca Wright/CNN\\nAustralia’s Great Barrier Reef devastated by worst coral bleaching on record, new report finds\\ninfo\\n The top numbered articles will be viewable to readers when programmed onto a page. Make sure you have 30 or more cards added to the container for the machine learning (ML) feature to work. Your queued up articles, seen in the violet section, will use ML to surface up relevant content to the reader based on their individual interests and preferences.\\nHealth and Wellness\\nAJ_Watt/E+/Getty Images\\nWhat you should know about metabolism, according to a nutrition scientist\\nridvan_celik/E+/Getty Images\\nChildhood verbal abuse may have deep mental health impacts, study finds\\n•\\n Video\\n3:51\\nCNN/Getty Images\\nVideo\\nRFK Jr. slashed mRNA vaccine development funding. A Nobel Prize winner just responded\\n3:51\\ninfo\\n The top numbered articles will be viewable to readers when programmed onto a page. Make sure you have 30 or more cards added to the container for the machine learning (ML) feature to work. Your queued up articles, seen in the violet section, will use ML to surface up relevant content to the reader based on their individual interests and preferences.\\nBusiness and Economy\\nJoshua Roberts/Reuters/File\\nTrump is meeting with advisers about his next Fed pick. It may be a temporary assignment\\nBrendan Smialowski/AFP/Getty Images\\nTrump says the Bureau of Labor Statistics orchestrated a ‘scam.’ Here’s how the jobs report really works\\ninfo\\n The top numbered articles will be viewable to readers when programmed onto a page. Make sure you have 30 or more cards added to the container for the machine learning (ML) feature to work. Your queued up articles, seen in the violet section, will use ML to surface up relevant content to the reader based on their individual interests and preferences.\\nScience and discovery\\nJuan Mabromata/AFP/Getty Images\\nActing NASA chief fast-tracks plans to put a nuclear reactor on the moon\\nBrett Groehler/University Minnesota Duluth\\nA black goo was oozing from a ship on the Great Lakes — and teeming with life\\nResearchers in Australia have found a new supersized species of stick insect.\\nProfessor Angus Emmott, James Cook University\\nMeet the new species of giant stick insect that weighs about the same as a golf ball\\ninfo\\n The top numbered articles will be viewable to readers when programmed onto a page. Make sure you have 30 or more cards added to the container for the machine learning (ML) feature to work. Your queued up articles, seen in the violet section, will use ML to surface up relevant content to the reader based on their individual interests and preferences.\\nEntertainment and Culture\\nJace Downs/AMC\\n‘The Walking Dead’ actress Kelley Mack dies at 33\\nJeff Kravitz/FilmMagic/Getty Images\\nHulk Hogan’s daughter explains her personal reason for not attending her father’s funeral\\n•\\n CNN Exclusive\\nCNN Exclusive\\nJeenah Moon/Reuters/File\\nCNN Exclusive\\nAttorney for Combs says they’ve approached Trump administration about pardon\\ninfo\\n The top numbered articles will be viewable to readers when programmed onto a page. Make sure you have 30 or more cards added to the container for the machine learning (ML) feature to work. Your queued up articles, seen in the violet section, will use ML to surface up relevant content to the reader based on their individual interests and preferences.\\nLife, But Greener\\nShow\\xa0all\\n•\\n Video\\n2:42\\nPATRICK T. FALLON/AFP/AFP via Getty Images\\nVideo\\nThe numbers behind the private jet backlash\\n2:42\\n•\\n Video\\n2:36\\nTikTok / @seht876 / @geiamendozaaa / @seht876\\nVideo\\nThis Swiss river is so clean, locals use it to commute to work\\n2:36\\n•\\n Video\\n1:48\\nCNN\\nVideo\\nWhy Billie Eilish insists on special rules at all her concerts\\n1:48\\ninfo\\n The top numbered articles will be viewable to readers when programmed onto a page. Make sure you have 30 or more cards added to the container for the machine learning (ML) feature to work. Your queued up articles, seen in the violet section, will use ML to surface up relevant content to the reader based on their individual interests and preferences.\\nLatest Politics\\nAlon Skuy/Getty Images\\nJudge considers whether Florida’s ‘Alligator Alcatraz’ detention center violates environmental law\\nTom Williams/CQ-Roll Call/Getty Images\\nGOP Rep. Cory Mills accused by ex-girlfriend of threatening to release sexually explicit images, videos of her\\nPatrick Semansky/AP/File\\nFormer senior Biden aide appears before House committee in probe of former president’s alleged mental decline\\ninfo\\n The top numbered articles will be viewable to readers when programmed onto a page. Make sure you have 30 or more cards added to the container for the machine learning (ML) feature to work. Your queued up articles, seen in the violet section, will use ML to surface up relevant content to the reader based on their individual interests and preferences.\\nTravel and tourism\\nYara Nardi/Reuters\\nItaly gives final go-ahead for landmark Sicily bridge project\\nKevin Lamarque/Reuters\\nUS demands up to $15,000 visa bond for tourists and business travelers from Zambia and Malawi\\n•\\n Video\\n3:17\\nCNN\\nVideo\\nHow Getty Museum kept its priceless art safe during the Palisades Fire\\n3:17\\n Paid Content\\nMore from CNN Style\\ninfo\\n The top numbered articles will be viewable to readers when programmed onto a page. Make sure you have 30 or more cards added to the container for the machine learning (ML) feature to work. Your queued up articles, seen in the violet section, will use ML to surface up relevant content to the reader based on their individual interests and preferences.\\n•\\n Video\\n2:00\\nNoriko Hayashi for CNN\\n•\\n Video\\n2:00\\nVideo\\nWinning bidder of $10M Birkin bag wanted to inflict ‘psychological damage’ on opponents\\n2:00\\ninfo\\n The top numbered articles will be viewable to readers when programmed onto a page. Make sure you have 30 or more cards added to the container for the machine learning (ML) feature to work. Your queued up articles, seen in the violet section, will use ML to surface up relevant content to the reader based on their individual interests and preferences.\\nCourtesy Cecilie Bahnsen\\n‘Something you can move in’: How this designer became the go-to for unconventional brides\\nAd Feedback\\ninfo\\n The top numbered articles will be viewable to readers when programmed onto a page. Make sure you have 30 or more cards added to the container for the machine learning (ML) feature to work. Your queued up articles, seen in the violet section, will use ML to surface up relevant content to the reader based on their individual interests and preferences.\\nCNN Games + Quizzes\\nShow\\xa0all\\n•\\n Today's crossword\\nToday's crossword\\nCNN\\nToday's crossword\\nNo pencil or eraser required\\n•\\n Sudoblock\\nSudoblock\\nCNN\\nSudoblock\\nSudoku + Blocks = addictive tile-matching puzzle\\n•\\n Jumble Crossword\\nJumble Crossword\\nCNN\\nJumble Crossword\\nTest your smarts with this scrambled word game\\n•\\n Weekly news quiz\\nWeekly news quiz\\ncnn\\nWeekly news quiz\\nWhat do you remember from the week that was?\\n Paid Partner Content\\nIn case you missed it\\ninfo\\n The top numbered articles will be viewable to readers when programmed onto a page. Make sure you have 30 or more cards added to the container for the machine learning (ML) feature to work. Your queued up articles, seen in the violet section, will use ML to surface up relevant content to the reader based on their individual interests and preferences.\\nNebraska Public Media\\nTensions erupt at Nebraska GOP congressman’s town hall\\ninfo\\n The top numbered articles will be viewable to readers when programmed onto a page. Make sure you have 30 or more cards added to the container for the machine learning (ML) feature to work. Your queued up articles, seen in the violet section, will use ML to surface up relevant content to the reader based on their individual interests and preferences.\\nUkrainian tennis player Elina Svitolina faces hateful abuse after loss, blames ‘shameful’ bettors\\nChina used to fine couples for having too many babies. Now it can’t pay them enough\\nWeather Service is now hiring back hundreds of positions that got cut in the DOGE chaos\\n4 killed in medical transport plane crash on Navajo Nation, tribal authorities say\\nTrump says he wants strong testing to keep transgender athletes out of women’s sports at 2028 Olympics\\nRwanda agrees to take in up to 250 migrants deported from the US\\nTennis coach Patrick Mouratoglou opens up on recent split with Naomi Osaka\\n Subscribe\\n Sign in\\n My Account\\n Settings\\n Newsletters\\n Topics you follow\\n Sign out\\nYour CNN account\\nSign in to your CNN account\\n Live TV\\n Listen\\n Watch\\n US\\n Crime + Justice\\n World\\n Africa\\n Americas\\n Asia\\n Australia\\n China\\n Europe\\n India\\n Middle East\\n United Kingdom\\n Politics\\n Trump\\n Facts First\\n CNN Polls\\n 2025 Elections\\n Business\\n Tech\\n Media\\n Calculators\\n Videos\\n Markets\\n Pre-markets\\n After-Hours\\n Fear & Greed\\n Investing\\n Markets Now\\n Nightcap\\n Health\\n Life, But Better\\n Fitness\\n Food\\n Sleep\\n Mindfulness\\n Relationships\\n CNN Underscored\\n Electronics\\n Fashion\\n Beauty\\n Health & Fitness\\n Home\\n Reviews\\n Deals\\n Gifts\\n Travel\\n Outdoors\\n Pets\\n Entertainment\\n Movies\\n Television\\n Celebrity\\n Tech\\n Innovate\\n Foreseeable Future\\n Mission: Ahead\\n Work Transformed\\n Innovative Cities\\n Style\\n Arts\\n Design\\n Fashion\\n Architecture\\n Luxury\\n Beauty\\n Video\\n Travel\\n Destinations\\n Food & Drink\\n Stay\\n News\\n Videos\\n Sports\\n Pro Football\\n College Football\\n Basketball\\n Baseball\\n Soccer\\n Olympics\\n Hockey\\n Science\\n Space\\n Life\\n Unearthed\\n Climate\\n Solutions\\n Weather\\n Weather\\n Video\\n Climate\\n Ukraine-Russia War\\n Israel-Hamas War\\n Watch\\n Live TV\\n CNN Headlines\\n CNN Shorts\\n Shows A-Z\\n CNN10\\n CNN Max\\n CNN TV Schedules\\n FlashDocs\\n Listen\\n CNN 5 Things\\n Chasing Life with Dr. Sanjay Gupta\\n The Assignment with Audie Cornish\\n One Thing\\n Tug of War\\n CNN Political Briefing\\n The Axe Files\\n All There Is with Anderson Cooper\\n All CNN Audio podcasts\\n Games\\n Daily Crossword\\n Jumble Crossword\\n Photo Shuffle\\n Sudoblock\\n Sudoku\\n 5 Things Quiz\\n About CNN\\n Subscribe\\n Photos\\n Investigations\\n CNN Profiles\\n CNN Leadership\\n CNN Newsletters\\n Work for CNN\\n Watch\\n Listen\\n Live TV\\nFollow CNN\\n Subscribe\\n Sign in\\n My Account\\n Settings\\n Newsletters\\n Topics you follow\\n Sign out\\nYour CNN account\\nSign in to your CNN account\\n Terms of Use\\n Privacy Policy\\n Ad Choices\\n Accessibility & CC\\n About\\n Subscribe\\n Newsletters\\n Transcripts\\n Help Center\\n© 2025 Cable News Network. A Warner Bros. Discovery Company. All Rights Reserved. CNN Sans ™ & © 2016 Cable News Network.\"}], 'thought': None, 'runTime': 6.616, 'usedCredits': 0.0015864, 'apiCalls': 2, 'task': None, 'policy': None}]\n"
     ]
    },
    {
     "data": {
      "text/plain": [
       "{'status': 'SUCCESS',\n",
       " 'api_calls': 2,\n",
       " 'credits': 0.0015864,\n",
       " 'runtime': 6.616,\n",
       " 'api_call_breakdown': {'Scraper Agent': 2},\n",
       " 'runtime_breakdown': {'Scraper Agent': 6.616},\n",
       " 'credit_breakdown': {'Scraper Agent': 0.0015864},\n",
       " 'session_id': '0c2ce5b4-95dd-42ad-8e28-101b8b34e624',\n",
       " 'environment': 'prod',\n",
       " 'assets_used': ['tool:utilities-crewai-scrape_website_tool',\n",
       "  'agent:Scraper Agent'],\n",
       " 'time_stamp': '2025-08-07 01:47:03.036545',\n",
       " 'params': {'id': '6893a09b686ec479bfbf1cd2',\n",
       "  'sessionId': '0c2ce5b4-95dd-42ad-8e28-101b8b34e624'}}"
      ]
     },
     "execution_count": 21,
     "metadata": {},
     "output_type": "execute_result"
    }
   ],
   "source": [
    "print(response.data[\"output\"]) # Final result\n",
    "print(response.data[\"intermediate_steps\"]) # Execution trace\n",
    "response.data[\"execution_stats\"]  # Session and performance metrics"
   ]
  },
  {
   "cell_type": "markdown",
   "metadata": {
    "id": "2pMFkMxZzSgJ"
   },
   "source": [
    "### Second DataSource (website) : EPA website"
   ]
  },
  {
   "cell_type": "markdown",
   "metadata": {
    "id": "KvnK2whDQDQd"
   },
   "source": [
    "Scrape \"Laws\" and \"Regulated Topics\" With Their Links\n"
   ]
  },
  {
   "cell_type": "code",
   "execution_count": null,
   "metadata": {
    "id": "VgABev8wtbrL"
   },
   "outputs": [],
   "source": [
    "def scrape_laws_and_topics_with_links(url: str):\n",
    "    response = requests.get(url)\n",
    "    soup = BeautifulSoup(response.text, 'html.parser')\n",
    "\n",
    "    laws_and_topics = []  # List of dicts: {section, name, link}\n",
    "\n",
    "    boxes = soup.find_all(\"div\", class_=\"box\")\n",
    "\n",
    "    for box in boxes:\n",
    "        h2 = box.find(\"h2\")\n",
    "        if h2 and h2.get_text(strip=True) in [\"Laws\", \"Regulated Topics\"]:\n",
    "            section = h2.get_text(strip=True)\n",
    "            ul_elements = box.find_all(\"ul\")\n",
    "\n",
    "            for ul in ul_elements:\n",
    "                for li in ul.find_all(\"li\"):\n",
    "                    a = li.find(\"a\")\n",
    "                    if a and a.has_attr('href'):\n",
    "                        name = a.get_text(strip=True)\n",
    "                        link = a['href']\n",
    "                        # Ensure full URL\n",
    "                        if not link.startswith(\"http\"):\n",
    "                            link = f\"https://www.epa.gov{link}\"\n",
    "                        laws_and_topics.append({\n",
    "                            \"section\": section,\n",
    "                            \"name\": name,\n",
    "                            \"link\": link\n",
    "                        })\n",
    "\n",
    "    return laws_and_topics"
   ]
  },
  {
   "cell_type": "code",
   "execution_count": null,
   "metadata": {
    "colab": {
     "base_uri": "https://localhost:8080/"
    },
    "id": "sgmS0I4eQc5l",
    "outputId": "f5f3a394-71fe-4d3c-b146-85d29a836be6"
   },
   "outputs": [
    {
     "name": "stdout",
     "output_type": "stream",
     "text": [
      "[{'section': 'Laws', 'name': 'Clean Air Act', 'link': 'https://www.epa.gov/laws-regulations/summary-clean-air-act'}, {'section': 'Laws', 'name': 'Clean Water Act', 'link': 'https://www.epa.gov/laws-regulations/summary-clean-water-act'}, {'section': 'Laws', 'name': 'TSCA', 'link': 'https://www.epa.gov/laws-regulations/summary-toxic-substances-control-act'}, {'section': 'Laws', 'name': 'RCRA', 'link': 'https://www.epa.gov/laws-regulations/summary-resource-conservation-and-recovery-act'}, {'section': 'Laws', 'name': 'Superfund (CERCLA)', 'link': 'https://www.epa.gov/laws-regulations/summary-comprehensive-environmental-response-compensation-and-liability-act'}, {'section': 'Laws', 'name': 'FIFRA', 'link': 'https://www.epa.gov/laws-regulations/summary-federal-insecticide-fungicide-and-rodenticide-act'}, {'section': 'Laws', 'name': 'ESA', 'link': 'https://www.epa.gov/laws-regulations/summary-endangered-species-act'}, {'section': 'Regulated Topics', 'name': 'Asbestos', 'link': 'https://www.epa.gov/regulatory-information-topic/regulatory-and-guidance-information-topic-cross-cutting-issues#asbestos'}, {'section': 'Regulated Topics', 'name': 'Certifications (608, etc.)', 'link': 'https://www.epa.gov/aboutepa/epa-certifications'}, {'section': 'Regulated Topics', 'name': 'Mold', 'link': 'https://www.epa.gov/regulatory-information-topic/regulatory-and-guidance-information-topic-air#mold'}, {'section': 'Regulated Topics', 'name': 'Drinking Water', 'link': 'https://www.epa.gov/regulatory-information-topic/regulatory-and-guidance-information-topic-water#drinking'}, {'section': 'Regulated Topics', 'name': 'Lead', 'link': 'https://www.epa.gov/regulatory-information-topic/regulatory-and-guidance-information-topic-cross-cutting-issues#lead'}, {'section': 'Regulated Topics', 'name': 'Waste', 'link': 'https://www.epa.gov/regulatory-information-topic/regulatory-and-guidance-information-topic-waste'}, {'section': 'Regulated Topics', 'name': 'Per- and Polyfluoroalkyl Substances (PFAS)', 'link': 'https://www.epa.gov/regulatory-information-topic/regulatory-and-guidance-information-topic-cross-cutting-issues#pfas'}]\n"
     ]
    }
   ],
   "source": [
    "print(scrape_laws_and_topics_with_links(\"https://www.epa.gov/laws-regulations\"))"
   ]
  },
  {
   "cell_type": "markdown",
   "metadata": {
    "id": "gECABqEcQHXd"
   },
   "source": [
    "Fetch and Extract Main Content from Each Law/Topic Page"
   ]
  },
  {
   "cell_type": "code",
   "execution_count": null,
   "metadata": {
    "id": "PYYCxrwNQKGl"
   },
   "outputs": [],
   "source": [
    "def extract_page_content(url: str):\n",
    "    try:\n",
    "        response = requests.get(url)\n",
    "        if response.status_code != 200:\n",
    "            return f\"Failed to fetch page: {response.status_code}\"\n",
    "\n",
    "        soup = BeautifulSoup(response.text, 'html.parser')\n",
    "\n",
    "        article = soup.find(\"article\")\n",
    "        if not article:\n",
    "            return \"No <article> tag found on page.\"\n",
    "\n",
    "        paragraphs = article.find_all(\"p\")\n",
    "        content = \"\\n\".join(\n",
    "            p.get_text(strip=True) for p in paragraphs if len(p.get_text(strip=True)) > 30\n",
    "        )\n",
    "\n",
    "        return content[:3000]  # Trim to 3000 characters if needed\n",
    "    except Exception as e:\n",
    "        return f\"Error fetching or parsing page: {e}\""
   ]
  },
  {
   "cell_type": "code",
   "execution_count": null,
   "metadata": {
    "colab": {
     "base_uri": "https://localhost:8080/"
    },
    "id": "ep3BuugUQOAn",
    "outputId": "ef024c02-3973-4449-807a-88a9a0aa6b1f"
   },
   "outputs": [
    {
     "name": "stdout",
     "output_type": "stream",
     "text": [
      "The Clean Air Act (CAA) is the comprehensive federal law that regulates air emissions from stationary and mobile sources. Among other things, this law authorizes EPA to establish National Ambient Air Quality Standards (NAAQS) to protect public health and public welfare and to regulate emissions of hazardous air pollutants.\n",
      "One of the goals of the Act was to set and achieve NAAQS in every state by 1975 in order to address the public health and welfare risks posed by certain widespread air pollutants. The setting of these pollutant standards was coupled with directing the states to develop state implementation plans (SIPs), applicable to appropriate industrial sources in the state, in order to achieve these standards. The Act was amended in 1977 and 1990 primarily to set new goals (dates) for achieving attainment of NAAQS since many areas of the country had failed to meet the deadlines.\n",
      "Section 112 of the Clean Air Act addresses emissions of hazardous air pollutants. Prior to 1990, CAA established a risk-based program under which only a few standards were developed. The 1990 Clean Air Act Amendments revised Section 112 to first require issuance of technology-based standards for major sources and certain area sources. \"Major sources\" are defined as a stationary source or group of stationary sources that emit or have the potential to emit 10 tons per year or more of a hazardous air pollutant or 25 tons per year or more of a combination of hazardous air pollutants. An \"area source\" is any stationary source that is not a major source.\n",
      "For major sources, Section 112 requires that EPA establish emission standards that require the maximum degree of reduction in emissions of hazardous air pollutants. These emission standards are commonly referred to as \"maximum achievable control technology\" or \"MACT\" standards. Eight years after the technology-based MACT standards are issued for a source category, EPA is required to review those standards to determine whether any residual risk exists for that source category and, if necessary, revise the standards to address such risk.\n",
      "TheOffice of Air and Radiation (OAR)develops national programs, policies, and regulations for controlling air pollution and radiation exposure.\n",
      "Under CAA Section 112(r), theOffice of Emergency Management (OEM)administers theRisk Management Plan Rule.\n"
     ]
    }
   ],
   "source": [
    "print(extract_page_content(\"https://www.epa.gov/laws-regulations/summary-clean-air-act\"))"
   ]
  },
  {
   "cell_type": "markdown",
   "metadata": {
    "id": "924_wqDCQ7mx"
   },
   "source": [
    "Index With aiXplain"
   ]
  },
  {
   "cell_type": "code",
   "execution_count": null,
   "metadata": {
    "collapsed": true,
    "id": "AiTlVmmvYVbF"
   },
   "outputs": [],
   "source": [
    "# Create indexer tool\n",
    "EPA_index = IndexFactory.create(\n",
    "    name=\"EPA Knowledge Indexer\",\n",
    "    description=\"Indexes EPA laws and regulations summaries scraped from the web.\"\n",
    ")"
   ]
  },
  {
   "cell_type": "code",
   "execution_count": 23,
   "metadata": {
    "colab": {
     "base_uri": "https://localhost:8080/"
    },
    "collapsed": true,
    "id": "hfkIyNTuppqZ",
    "outputId": "bd65a46b-1702-4ba0-9f0d-f44eb5ff0dc1"
   },
   "outputs": [
    {
     "data": {
      "text/plain": [
       "{'results': [Model: Financial Fact Index Collection by aiXplain (id=67be2ed622816c001dcea674),\n",
       "  Model: Recipes Index 2 by aiXplain (id=67fd8527bd087e001dc420be),\n",
       "  Model: StockIndex by aiXplain (id=684aef6ddecefbc9b788bd90),\n",
       "  Model: XBRL Terminology by aiXplain (id=67bc71c322816c001dcac4ae),\n",
       "  Model: Formula Index by aiXplain (id=67bcedd43406f0001e9414a9),\n",
       "  Model: CompanyIndex by aiXplain (id=6849dd3fd208307eba0cc122),\n",
       "  Model: EPA Knowledge Indexer by aiXplain (id=689763a654b69f5684184e83)],\n",
       " 'page_total': 7,\n",
       " 'page_number': 0,\n",
       " 'total': 7}"
      ]
     },
     "execution_count": 23,
     "metadata": {},
     "output_type": "execute_result"
    }
   ],
   "source": [
    "# IndexFactory.list()"
   ]
  },
  {
   "cell_type": "code",
   "execution_count": 22,
   "metadata": {
    "id": "KWzJz-uBpOT_"
   },
   "outputs": [],
   "source": [
    "# for index in IndexFactory.list(query=\"GlobalFileRAG\")[\"results\"]:\n",
    "#   index.delete()"
   ]
  },
  {
   "cell_type": "code",
   "execution_count": null,
   "metadata": {
    "collapsed": true,
    "id": "zi-hPfqpQ8Ch"
   },
   "outputs": [],
   "source": [
    "# Add data to index\n",
    "def index_laws_content(index_tool, laws_data):\n",
    "    for item in laws_data:\n",
    "        content = extract_page_content(item[\"link\"])\n",
    "        EPA_index.upsert([Record(\n",
    "            value=content,\n",
    "            attributes={\"category\": item[\"name\"], \"url\": item[\"link\"]}\n",
    "        )])\n",
    "\n",
    "# Scrape the target website\n",
    "laws_data = scrape_laws_and_topics_with_links(\"https://www.epa.gov/laws-regulations\")\n",
    "index_laws_content(EPA_index, laws_data)"
   ]
  },
  {
   "cell_type": "markdown",
   "metadata": {
    "id": "qAvIDVTQEqP_"
   },
   "source": [
    "Index usage with agent"
   ]
  },
  {
   "cell_type": "code",
   "execution_count": null,
   "metadata": {
    "collapsed": true,
    "id": "qzngADXnEq1q"
   },
   "outputs": [],
   "source": [
    "EPA_agent = AgentFactory.create(\n",
    "    name=\"EPA Search Assistant\",\n",
    "    description=\"An agent for intelligent search over indexed Environmental Protection Agency knowledge\",\n",
    "    instructions=(\n",
    "        \"\"\"\n",
    "        Perform search queries over EPA structured indexed data.\n",
    "        Accept natural language queries, filter based on metadata like category, and return the most relevant result in a short and concise way.\n",
    "        \"\"\"\n",
    "    ),\n",
    "    tools=[\n",
    "        AgentFactory.create_model_tool(model=EPA_index.id),\n",
    "    ]\n",
    ")"
   ]
  },
  {
   "cell_type": "code",
   "execution_count": null,
   "metadata": {
    "id": "LexNODq5YbTm"
   },
   "outputs": [],
   "source": [
    "EPA_agent.deploy()"
   ]
  },
  {
   "cell_type": "markdown",
   "metadata": {
    "id": "_9-329jdRF32"
   },
   "source": [
    "Result"
   ]
  },
  {
   "cell_type": "code",
   "execution_count": null,
   "metadata": {
    "id": "AeB8XKtqRAy0"
   },
   "outputs": [],
   "source": [
    "response = EPA_agent.run(\"What does the Clean Air Act regulate?\")"
   ]
  },
  {
   "cell_type": "code",
   "execution_count": null,
   "metadata": {
    "colab": {
     "base_uri": "https://localhost:8080/",
     "height": 70
    },
    "id": "vao7JxaFZWjN",
    "outputId": "08527fa3-658b-48b3-d174-6bb4c20c67ee"
   },
   "outputs": [
    {
     "data": {
      "application/vnd.google.colaboratory.intrinsic+json": {
       "type": "string"
      },
      "text/plain": [
       "'The Clean Air Act (CAA) regulates air emissions from stationary and mobile sources. It authorizes the EPA to establish National Ambient Air Quality Standards (NAAQS) to protect public health and welfare, and to regulate emissions of hazardous air pollutants. The Act requires states to develop implementation plans to achieve these standards and mandates major sources to install pollution control equipment and obtain operating permits.'"
      ]
     },
     "execution_count": 30,
     "metadata": {},
     "output_type": "execute_result"
    }
   ],
   "source": [
    "response['data']['output'] # List of top results with scores and metadata"
   ]
  },
  {
   "cell_type": "markdown",
   "metadata": {
    "id": "RjRxnWfMrH1X"
   },
   "source": [
    " ### courtListener"
   ]
  },
  {
   "cell_type": "code",
   "execution_count": null,
   "metadata": {
    "id": "SSE6Xu7_bXcM"
   },
   "outputs": [],
   "source": [
    "# Custom function to get court cases\n",
    "def call(query: str, max_results: int = 3):\n",
    "        \"\"\"\n",
    "        Search CourtListener dockets matching the query.\n",
    "        \"\"\"\n",
    "        url = \"https://www.courtlistener.com/api/rest/v4/search/\"\n",
    "        params = {\n",
    "            \"q\": query,\n",
    "            \"type\": \"r\",  # Federal dockets with nested documents\n",
    "            \"order_by\": \"dateFiled desc\",\n",
    "            \"page_size\": max_results\n",
    "        }\n",
    "        import requests\n",
    "        response = requests.get(url, params=params)\n",
    "        if not response.ok:\n",
    "            return {\"error\": f\"Failed to fetch results. Status: {response.status_code}\"}\n",
    "\n",
    "        data = response.json()\n",
    "        cases = []\n",
    "\n",
    "        for result in data.get(\"results\", []):\n",
    "            case_name = result.get(\"caseName\", \"Unknown Case\")\n",
    "            docket_url = f\"https://www.courtlistener.com{result.get('docket_absolute_url', '')}\"\n",
    "            date_filed = result.get(\"dateFiled\", \"\")\n",
    "            court = result.get(\"court\", \"\")\n",
    "            cause = result.get(\"cause\", \"\")\n",
    "            suit_nature = result.get(\"suitNature\", \"\")\n",
    "            summary = \"\"\n",
    "            documents = []\n",
    "\n",
    "            for doc in result.get(\"recap_documents\", []):\n",
    "                documents.append({\n",
    "                    \"document_number\": doc.get(\"document_number\"),\n",
    "                    \"description\": doc.get(\"description\"),\n",
    "                    \"snippet\": doc.get(\"snippet\", \"\")[:500],  # Optional summary\n",
    "                    \"file_url\": f\"https://www.courtlistener.com{doc['absolute_url']}\" if doc.get(\"absolute_url\") else None,\n",
    "                    \"entry_date\": doc.get(\"entry_date_filed\"),\n",
    "                    \"page_count\": doc.get(\"page_count\")\n",
    "                })\n",
    "\n",
    "            # Use the first available snippet as a summary\n",
    "            if documents:\n",
    "                summary = documents[0].get(\"snippet\", \"\")\n",
    "\n",
    "            cases.append({\n",
    "                \"case_name\": case_name,\n",
    "                \"docket_url\": docket_url,\n",
    "                \"date_filed\": date_filed,\n",
    "                \"court\": court,\n",
    "                \"cause\": cause,\n",
    "                \"suit_nature\": suit_nature,\n",
    "                \"summary\": summary,\n",
    "                \"documents\": documents,\n",
    "            })\n",
    "\n",
    "        return cases if cases else {\"message\": \"No relevant cases found.\"}"
   ]
  },
  {
   "cell_type": "code",
   "execution_count": null,
   "metadata": {
    "id": "xFSmGWATOCUW"
   },
   "outputs": [],
   "source": [
    "# for util in ModelFactory.list(query=\"Get Cases\")[\"results\"]:\n",
    "#   util.delete()"
   ]
  },
  {
   "cell_type": "code",
   "execution_count": null,
   "metadata": {
    "colab": {
     "base_uri": "https://localhost:8080/"
    },
    "id": "21zfDxUNTBCW",
    "outputId": "847dcfe5-77ec-45a4-9b67-2eaaf0f3bbf7"
   },
   "outputs": [
    {
     "name": "stderr",
     "output_type": "stream",
     "text": [
      "/usr/local/lib/python3.11/dist-packages/aixplain/modules/model/utility_model.py:186: UserWarning: WARNING: Non-deployed utility models (status=DRAFT) will expire after 24 hours after creation. Use .deploy() method to make the model permanent.\n",
      "  warnings.warn(\n"
     ]
    }
   ],
   "source": [
    "# Create and deploy the utility model\n",
    "utility = ModelFactory.create_utility_model(\n",
    "    name=\"Get Cases\",\n",
    "    description=\"Retrieve case law details linked to specific topic\",\n",
    "    code=call\n",
    ")\n",
    "\n",
    "# Deploy the model to make it reusable\n",
    "utility.deploy()"
   ]
  },
  {
   "cell_type": "code",
   "execution_count": null,
   "metadata": {
    "collapsed": true,
    "id": "9jXT4ro8T4Bc"
   },
   "outputs": [],
   "source": [
    "caseLawAgent = AgentFactory.create(\n",
    "    name=\"Case Finder Agent\",\n",
    "    description=\"An agent that can retrieve case laws based on the user's query\",\n",
    "    instructions=\"Searches case law documents from U.S. courts using keywords, statutes, or case references (e.g., Section 230, Roommates.com). Returns summaries and metadata for legal cases based on the CourtListener API.\",\n",
    "    tools=[\n",
    "        # Wrap the deployed utility as a tool, and add it to the agent\n",
    "        AgentFactory.create_model_tool(model=utility.id)\n",
    "    ]\n",
    ")"
   ]
  },
  {
   "cell_type": "code",
   "execution_count": null,
   "metadata": {
    "id": "ykXMgakkZAVd"
   },
   "outputs": [],
   "source": [
    "caseLawAgent.deploy()"
   ]
  },
  {
   "cell_type": "code",
   "execution_count": null,
   "metadata": {
    "id": "NgqeomhSVpnR"
   },
   "outputs": [],
   "source": [
    "# Query the agent\n",
    "response = caseLawAgent.run(\"Has Section 230 ever been challenged in court? What was the outcome?\")\n",
    "\n",
    "response"
   ]
  },
  {
   "cell_type": "markdown",
   "metadata": {
    "id": "4TWHfwDx0Px_"
   },
   "source": [
    "### Documents indexing agent"
   ]
  },
  {
   "cell_type": "code",
   "execution_count": 5,
   "metadata": {
    "colab": {
     "base_uri": "https://localhost:8080/"
    },
    "id": "obzTaNtEF4Aj",
    "outputId": "7950cb96-0d0c-43a2-832b-665d3e59de93"
   },
   "outputs": [
    {
     "name": "stderr",
     "output_type": "stream",
     "text": [
      "ERROR:root:Model GET Error: Failed to retrieve model GlobalFileRAG. Status Code: 400. Error: {'message': 'err.invalid_param', 'error': 'Bad Request', 'statusCode': 400}\n"
     ]
    },
    {
     "name": "stdout",
     "output_type": "stream",
     "text": [
      "Created new global index: GlobalFileRAG\n",
      "Initializing Global RAG system...\n",
      "Found 1 PDF files to add to global index\n",
      "Adding who_guidelines.pdf to global index...\n",
      "Successfully added who_guidelines.pdf to global index\n",
      "Global index now contains 1 files\n"
     ]
    },
    {
     "name": "stderr",
     "output_type": "stream",
     "text": [
      "/usr/local/lib/python3.11/dist-packages/aixplain/factories/agent_factory/__init__.py:95: UserWarning: Use `llm` to define the large language model (aixplain.modules.model.llm_model.LLM) to be used as agent. Use `llm_id` to provide the model ID of the large language model to be used as agent. Note: In upcoming releases, `llm` will become a required parameter.\n",
      "  warnings.warn(\n"
     ]
    },
    {
     "name": "stdout",
     "output_type": "stream",
     "text": [
      "Global RAG Agent created: Global Document RAG Agent\n",
      "Agent ID: 6898176508d90b9df2c19f79\n",
      "Global Index ID: 68981759e93911493e67e146\n",
      "Available indexed files: ['who_guidelines.pdf']\n"
     ]
    }
   ],
   "source": [
    "import os\n",
    "import hashlib\n",
    "import time\n",
    "import re\n",
    "from aixplain.factories import AgentFactory, ModelFactory, IndexFactory\n",
    "from aixplain.modules.model.record import Record\n",
    "\n",
    "class GlobalRAGManager:\n",
    "    \"\"\"Manages a single global index with files as records for RAG operations\"\"\"\n",
    "\n",
    "    def __init__(self, index_name: str = \"GlobalFileRAG\"):\n",
    "        self.index_name = index_name\n",
    "        self.index = None\n",
    "        self.indexed_files = {}  # Track indexed files: {filename: record_id}\n",
    "        self.docling_model = ModelFactory.get(\"677bee6c6eb56331f9192a91\")\n",
    "        self._initialize_index()\n",
    "\n",
    "    def _initialize_index(self):\n",
    "        \"\"\"Initialize or get existing global index\"\"\"\n",
    "        try:\n",
    "            # Try to get existing index first\n",
    "            self.index = IndexFactory.get(self.index_name)\n",
    "            print(f\"Using existing global index: {self.index_name}\")\n",
    "        except:\n",
    "            # Create new index if it doesn't exist\n",
    "            self.index = IndexFactory.create(\n",
    "                name=self.index_name,\n",
    "                description=\"Global RAG index for all PDF documents\"\n",
    "            )\n",
    "            print(f\"Created new global index: {self.index_name}\")\n",
    "\n",
    "    def add_file_to_index(self, filename: str) -> str:\n",
    "        \"\"\"Add a single PDF file to the global index as a record\"\"\"\n",
    "        try:\n",
    "            if not os.path.exists(filename):\n",
    "                # Try case insensitive match\n",
    "                for file in os.listdir('.'):\n",
    "                    if file.lower() == filename.lower():\n",
    "                        filename = file\n",
    "                        break\n",
    "                else:\n",
    "                    raise FileNotFoundError(f\"File {filename} not found\")\n",
    "\n",
    "            print(f\"Adding {filename} to global index...\")\n",
    "\n",
    "            # Check if file already indexed\n",
    "            if filename in self.indexed_files:\n",
    "                print(f\"File {filename} already in index\")\n",
    "                return self.indexed_files[filename]\n",
    "\n",
    "            # Extract text content\n",
    "            text_response = self.docling_model.run(os.path.abspath(filename))\n",
    "            text_content = text_response.data\n",
    "\n",
    "            if not text_content or text_content.strip() == \"\":\n",
    "                raise ValueError(f\"No text content extracted from {filename}\")\n",
    "\n",
    "            # Create unique record ID\n",
    "            content_hash = hashlib.md5(text_content.encode()).hexdigest()[:8]\n",
    "            record_id = f\"file_{filename.replace('.', '_')}_{content_hash}\"\n",
    "\n",
    "            # Create record\n",
    "            record = Record(\n",
    "                id=record_id,\n",
    "                value=text_content,\n",
    "                attributes={\n",
    "                    \"filename\": filename,\n",
    "                    \"document_type\": \"pdf\",\n",
    "                    \"indexed_at\": str(int(time.time())),\n",
    "                    \"content_hash\": content_hash\n",
    "                }\n",
    "            )\n",
    "\n",
    "            # Upsert record to global index\n",
    "            self.index.upsert([record])\n",
    "            self.indexed_files[filename] = record_id\n",
    "\n",
    "            print(f\"Successfully added {filename} to global index\")\n",
    "            return record_id\n",
    "\n",
    "        except Exception as e:\n",
    "            print(f\"Error adding {filename} to index: {e}\")\n",
    "            raise\n",
    "\n",
    "    def add_all_pdfs(self):\n",
    "        \"\"\"Add all PDF files in the current directory to the global index\"\"\"\n",
    "        pdf_files = [f for f in os.listdir('.') if f.lower().endswith('.pdf')]\n",
    "        print(f\"Found {len(pdf_files)} PDF files to add to global index\")\n",
    "\n",
    "        for filename in pdf_files:\n",
    "            try:\n",
    "                self.add_file_to_index(filename)\n",
    "            except Exception as e:\n",
    "                print(f\"Failed to add {filename}: {e}\")\n",
    "\n",
    "        print(f\"Global index now contains {len(self.indexed_files)} files\")\n",
    "        return self.indexed_files\n",
    "\n",
    "    def remove_file_from_index(self, filename: str):\n",
    "        \"\"\"Remove a file record from the global index\"\"\"\n",
    "        try:\n",
    "            if filename not in self.indexed_files:\n",
    "                print(f\"File {filename} not found in index\")\n",
    "                return False\n",
    "\n",
    "            record_id = self.indexed_files[filename]\n",
    "            self.index.delete([record_id])\n",
    "            del self.indexed_files[filename]\n",
    "            print(f\"Removed {filename} from global index\")\n",
    "            return True\n",
    "\n",
    "        except Exception as e:\n",
    "            print(f\"Error removing {filename}: {e}\")\n",
    "            return False\n",
    "\n",
    "    def list_indexed_files(self):\n",
    "        \"\"\"List all files in the global index\"\"\"\n",
    "        print(f\"Global Index ({self.index_name}) contains {len(self.indexed_files)} files:\")\n",
    "        for filename, record_id in self.indexed_files.items():\n",
    "            print(f\"  - {filename} (Record ID: {record_id})\")\n",
    "        return list(self.indexed_files.keys())\n",
    "\n",
    "    def get_index_info(self):\n",
    "        \"\"\"Get information about the global index\"\"\"\n",
    "        return {\n",
    "            \"index_name\": self.index_name,\n",
    "            \"index_id\": self.index.id,\n",
    "            \"total_records\": self.index.count(),\n",
    "            \"indexed_files\": list(self.indexed_files.keys())\n",
    "        }\n",
    "\n",
    "    def search_index(self, query: str, top_k: int = 5):\n",
    "        \"\"\"Search the global index directly\"\"\"\n",
    "        try:\n",
    "            results = self.index.query(query, top_k=top_k)\n",
    "            return results\n",
    "        except Exception as e:\n",
    "            print(f\"Error searching index: {e}\")\n",
    "            return None\n",
    "\n",
    "# Initialize the global RAG manager\n",
    "global_rag_manager = GlobalRAGManager()\n",
    "\n",
    "# Add all PDF files at startup\n",
    "print(\"Initializing Global RAG system...\")\n",
    "global_rag_manager.add_all_pdfs()\n",
    "\n",
    "def create_global_rag_agent():\n",
    "    \"\"\"Create a single agent that uses the global index\"\"\"\n",
    "\n",
    "    instructions = f\"\"\"\n",
    "    You are a Global Document RAG Agent that can search and analyze content from multiple PDF documents using a single global index.\n",
    "\n",
    "    AVAILABLE DOCUMENTS: {list(global_rag_manager.indexed_files.keys())}\n",
    "\n",
    "    CAPABILITIES:\n",
    "    - Search across all indexed PDF documents simultaneously\n",
    "    - Extract specific information from government documents, reports, policies\n",
    "    - Provide detailed answers with document citations\n",
    "    - Handle queries about regulations, compliance requirements, legal documents\n",
    "    - Compare information across multiple documents\n",
    "\n",
    "    INSTRUCTIONS:\n",
    "    1. Use the global search tool to find relevant information across all documents\n",
    "    2. Always cite which specific document(s) your information comes from\n",
    "    3. If asked about a specific file, you can search for it by including the filename in your query\n",
    "    4. Provide comprehensive answers with relevant context from the documents\n",
    "    5. When information spans multiple documents, clearly distinguish between sources\n",
    "\n",
    "    SEARCH CAPABILITIES:\n",
    "    - You have access to a single powerful search tool that searches across ALL indexed documents\n",
    "    - The search results will include metadata showing which document each result comes from\n",
    "    - You can search for specific documents by including the filename in your query\n",
    "\n",
    "    You excel at:\n",
    "    - Finding specific regulatory requirements across policy documents\n",
    "    - Extracting compliance guidelines from multiple government publications\n",
    "    - Analyzing and comparing legal documents and case files\n",
    "    - Summarizing key points from technical reports\n",
    "    - Cross-referencing information between documents\n",
    "    \"\"\"\n",
    "\n",
    "    # Create agent with single global search tool\n",
    "    agent = AgentFactory.create(\n",
    "        name=\"Global Document RAG Agent\",\n",
    "        description=\"Agent that searches across all indexed PDF documents using a global index\",\n",
    "        instructions=instructions,\n",
    "        tools=[\n",
    "            AgentFactory.create_model_tool(\n",
    "                model=global_rag_manager.index.id,\n",
    "                name=\"global_document_search\"\n",
    "            )\n",
    "        ]\n",
    "    )\n",
    "\n",
    "    return agent\n",
    "\n",
    "# Create the global RAG agent\n",
    "file_rag_agent = create_global_rag_agent()\n",
    "\n",
    "print(f\"Global RAG Agent created: {file_rag_agent.name}\")\n",
    "print(f\"Agent ID: {file_rag_agent.id}\")\n",
    "print(f\"Global Index ID: {global_rag_manager.index.id}\")\n",
    "print(f\"Available indexed files: {list(global_rag_manager.indexed_files.keys())}\")\n",
    "\n",
    "# Utility functions\n",
    "def test_global_agent(query: str):\n",
    "    \"\"\"Test the global RAG agent with a query\"\"\"\n",
    "    try:\n",
    "        response = file_rag_agent.run(query)\n",
    "        print(f\"Query: {query}\")\n",
    "        print(f\"Response: {response.data.output}\")\n",
    "        return response.data.output\n",
    "    except Exception as e:\n",
    "        print(f\"Error: {e}\")\n",
    "        return None\n",
    "\n",
    "def add_new_file(filename: str):\n",
    "    \"\"\"Add a new file to the global index\"\"\"\n",
    "    try:\n",
    "        record_id = global_rag_manager.add_file_to_index(filename)\n",
    "        print(f\"Successfully added {filename} to global index\")\n",
    "\n",
    "        # The agent automatically uses the updated index - no need to recreate\n",
    "        print(\"Agent can now search the new file content\")\n",
    "        return record_id\n",
    "    except Exception as e:\n",
    "        print(f\"Error adding {filename}: {e}\")\n",
    "        return None\n",
    "\n",
    "def remove_file(filename: str):\n",
    "    \"\"\"Remove a file from the global index\"\"\"\n",
    "    return global_rag_manager.remove_file_from_index(filename)\n",
    "\n",
    "def show_index_info():\n",
    "    \"\"\"Show information about the global index\"\"\"\n",
    "    info = global_rag_manager.get_index_info()\n",
    "    print(\"\\n=== Global Index Information ===\")\n",
    "    print(f\"Index Name: {info['index_name']}\")\n",
    "    print(f\"Index ID: {info['index_id']}\")\n",
    "    print(f\"Total Records: {info['total_records']}\")\n",
    "    print(f\"Indexed Files: {', '.join(info['indexed_files'])}\")\n",
    "    return info\n",
    "\n",
    "def search_directly(query: str, top_k: int = 5):\n",
    "    \"\"\"Search the global index directly without the agent\"\"\"\n",
    "    return global_rag_manager.search_index(query, top_k)\n",
    "\n",
    "# Simple query parser (optional - the global search handles this better now)\n",
    "def simple_query_parser(query: str) -> tuple:\n",
    "    \"\"\"Extract filename from query if specified\"\"\"\n",
    "    filename = None\n",
    "    patterns = [\n",
    "        r'(\\w+\\.pdf)',\n",
    "        r'([a-zA-Z0-9_\\-]+\\.pdf)',\n",
    "        r'[\\'\"]?([a-zA-Z0-9_\\-\\.]+\\.pdf)[\\'\"]?',\n",
    "    ]\n",
    "\n",
    "    for pattern in patterns:\n",
    "        match = re.search(pattern, query, re.IGNORECASE)\n",
    "        if match:\n",
    "            filename = match.group(1)\n",
    "            break\n",
    "\n",
    "    return filename, query"
   ]
  },
  {
   "cell_type": "code",
   "execution_count": 6,
   "metadata": {
    "colab": {
     "base_uri": "https://localhost:8080/",
     "height": 490
    },
    "id": "FI77B1JwHDcq",
    "outputId": "484002b7-c0d2-43d1-ad83-e5de2104157b"
   },
   "outputs": [
    {
     "name": "stdout",
     "output_type": "stream",
     "text": [
      "Query: health risks of poor housing according to who_guidelines.pdf?\n",
      "Response: According to the WHO guidelines, poor housing can expose individuals to several health risks, including:\n",
      "\n",
      "1. **Injury Risks**: Structurally deficient housing can increase the likelihood of slips and falls, leading to injuries. Poor accessibility can also expose disabled and elderly residents to stress and isolation.\n",
      "\n",
      "2. **Respiratory and Cardiovascular Issues**: Housing that is difficult or expensive to heat can contribute to poor respiratory and cardiovascular outcomes. High indoor temperatures can increase cardiovascular mortality.\n",
      "\n",
      "3. **Indoor Air Pollution**: Poor indoor air quality can harm respiratory health and trigger allergic reactions, such as asthma.\n",
      "\n",
      "4. **Infectious Diseases**: Crowded housing increases the risk of exposure to infectious diseases and stress.\n",
      "\n",
      "5. **Sanitation Issues**: Inadequate water supply and sanitation facilities can affect food safety and personal hygiene.\n",
      "\n",
      "6. **Urban Design**: Poor urban design can discourage physical activity, contributing to obesity and related conditions.\n",
      "\n",
      "7. **Unsafe Building Materials**: Use of unsafe materials or practices can expose residents to hazards, including injury from building collapse.\n",
      "\n",
      "8. **Slum Conditions**: Living in slums or informal housing poses particular health risks due to inadequate sanitation, overcrowding, and exposure to environmental hazards.\n",
      "\n",
      "These risks are particularly pronounced for vulnerable groups, including children, the elderly, and those with disabilities, who spend more time at home and are thus more exposed to these hazards.\n"
     ]
    },
    {
     "data": {
      "application/vnd.google.colaboratory.intrinsic+json": {
       "type": "string"
      },
      "text/plain": [
       "'According to the WHO guidelines, poor housing can expose individuals to several health risks, including:\\n\\n1. **Injury Risks**: Structurally deficient housing can increase the likelihood of slips and falls, leading to injuries. Poor accessibility can also expose disabled and elderly residents to stress and isolation.\\n\\n2. **Respiratory and Cardiovascular Issues**: Housing that is difficult or expensive to heat can contribute to poor respiratory and cardiovascular outcomes. High indoor temperatures can increase cardiovascular mortality.\\n\\n3. **Indoor Air Pollution**: Poor indoor air quality can harm respiratory health and trigger allergic reactions, such as asthma.\\n\\n4. **Infectious Diseases**: Crowded housing increases the risk of exposure to infectious diseases and stress.\\n\\n5. **Sanitation Issues**: Inadequate water supply and sanitation facilities can affect food safety and personal hygiene.\\n\\n6. **Urban Design**: Poor urban design can discourage physical activity, contributing to obesity and related conditions.\\n\\n7. **Unsafe Building Materials**: Use of unsafe materials or practices can expose residents to hazards, including injury from building collapse.\\n\\n8. **Slum Conditions**: Living in slums or informal housing poses particular health risks due to inadequate sanitation, overcrowding, and exposure to environmental hazards.\\n\\nThese risks are particularly pronounced for vulnerable groups, including children, the elderly, and those with disabilities, who spend more time at home and are thus more exposed to these hazards.'"
      ]
     },
     "execution_count": 6,
     "metadata": {},
     "output_type": "execute_result"
    }
   ],
   "source": [
    "test_global_agent(\"health risks of poor housing according to who_guidelines.pdf?\")\n"
   ]
  },
  {
   "cell_type": "markdown",
   "metadata": {
    "id": "f-jAEE9KbTKX"
   },
   "source": [
    "### Slack integration"
   ]
  },
  {
   "cell_type": "code",
   "execution_count": null,
   "metadata": {
    "colab": {
     "base_uri": "https://localhost:8080/"
    },
    "id": "qyrWaRexbWid",
    "outputId": "6ba3db62-b058-4558-dfac-2619fe605855"
   },
   "outputs": [
    {
     "name": "stdout",
     "output_type": "stream",
     "text": [
      "Slack utility created with ID: 689763d208d90b9df2c186e6\n"
     ]
    }
   ],
   "source": [
    "# Slack integration for aiXplain\n",
    "\n",
    "# Slack Bot Token\n",
    "SLACK_TOKEN = \"Your Slack Bot Token\"\n",
    "\n",
    "# Create the Slack utility with proper parameter definitions\n",
    "def slack_notification_tool(message: str, notification_type: str, delay_minutes: str, source: str, effective_date: str):\n",
    "    \"\"\"\n",
    "    Send notifications to Slack - Fixed version with all required parameters as strings\n",
    "\n",
    "    Args:\n",
    "        message (str): The message content to send\n",
    "        notification_type (str): Type of notification - 'update', 'reminder', 'alert', or 'policy_update'\n",
    "        delay_minutes (str): Minutes to delay the message (\"0\" for immediate)\n",
    "        source (str): Source document or URL (\"\" for none)\n",
    "        effective_date (str): When policy takes effect (\"\" for none)\n",
    "\n",
    "    Returns:\n",
    "        dict: Status and result message\n",
    "    \"\"\"\n",
    "    import requests\n",
    "    from datetime import datetime, timedelta\n",
    "\n",
    "    # Your Slack Bot Token\n",
    "    SLACK_TOKEN = \"Your Slack Bot Token\"\n",
    "    slack_token = SLACK_TOKEN\n",
    "    channel = \"#all-policy-navigator-bot\"\n",
    "    base_url = \"https://slack.com/api\"\n",
    "\n",
    "    headers = {\n",
    "        \"Authorization\": f\"Bearer {slack_token}\",\n",
    "        \"Content-Type\": \"application/json\"\n",
    "    }\n",
    "\n",
    "    try:\n",
    "        # Convert string parameters to appropriate types\n",
    "        delay_mins = int(delay_minutes) if delay_minutes.strip() else 0\n",
    "\n",
    "        # Handle empty or default values\n",
    "        if not notification_type or notification_type.lower() in ['', 'none']:\n",
    "            notification_type = \"update\"\n",
    "\n",
    "        if not source or source.lower() in ['', 'none', 'n/a']:\n",
    "            source = \"\"\n",
    "\n",
    "        if not effective_date or effective_date.lower() in ['', 'none', 'n/a']:\n",
    "            effective_date = \"\"\n",
    "\n",
    "        if notification_type == \"reminder\" and delay_mins > 0:\n",
    "            # Schedule message\n",
    "            url = f\"{base_url}/chat.scheduleMessage\"\n",
    "            post_at = datetime.now() + timedelta(minutes=delay_mins)\n",
    "            payload = {\n",
    "                \"channel\": channel,\n",
    "                \"text\": f\"🔔 Reminder: {message}\",\n",
    "                \"post_at\": int(post_at.timestamp())\n",
    "            }\n",
    "        else:\n",
    "            # Send immediate message\n",
    "            url = f\"{base_url}/chat.postMessage\"\n",
    "            emoji = \"📢\" if notification_type == \"alert\" else \"ℹ️\"\n",
    "\n",
    "            # Create rich message blocks for policy updates\n",
    "            if notification_type == \"policy_update\":\n",
    "                blocks = [\n",
    "                    {\n",
    "                        \"type\": \"header\",\n",
    "                        \"text\": {\"type\": \"plain_text\", \"text\": \"📋 Policy Update\"}\n",
    "                    },\n",
    "                    {\n",
    "                        \"type\": \"section\",\n",
    "                        \"text\": {\"type\": \"mrkdwn\", \"text\": f\"*Update:*\\n{message}\"}\n",
    "                    }\n",
    "                ]\n",
    "                if source and source.strip() and source.lower() not in ['n/a', 'none']:\n",
    "                    blocks.append({\n",
    "                        \"type\": \"section\",\n",
    "                        \"text\": {\"type\": \"mrkdwn\", \"text\": f\"*Source:* {source}\"}\n",
    "                    })\n",
    "                if effective_date and effective_date.strip() and effective_date.lower() not in ['n/a', 'none']:\n",
    "                    blocks.append({\n",
    "                        \"type\": \"section\",\n",
    "                        \"text\": {\"type\": \"mrkdwn\", \"text\": f\"*Effective Date:* {effective_date}\"}\n",
    "                    })\n",
    "\n",
    "                payload = {\"channel\": channel, \"text\": message, \"blocks\": blocks}\n",
    "            else:\n",
    "                payload = {\"channel\": channel, \"text\": f\"{emoji} {message}\"}\n",
    "\n",
    "        response = requests.post(url, headers=headers, json=payload)\n",
    "        result = response.json()\n",
    "\n",
    "        if result.get(\"ok\"):\n",
    "            return {\"status\": \"success\", \"message\": \"Notification sent successfully\", \"channel\": channel}\n",
    "        else:\n",
    "            error_msg = result.get('error', 'Unknown error')\n",
    "            return {\"status\": \"error\", \"message\": f\"Slack API error: {error_msg}\"}\n",
    "\n",
    "    except Exception as e:\n",
    "        return {\"status\": \"error\", \"message\": f\"Exception occurred: {str(e)}\"}\n",
    "\n",
    "# Create and deploy Slack utility\n",
    "try:\n",
    "    slack_utility = ModelFactory.create_utility_model(\n",
    "        name=\"Slack Notification Tool\",\n",
    "        description=\"Send policy updates, alerts, and reminders to Slack channel\",\n",
    "        code=slack_notification_tool\n",
    "    )\n",
    "\n",
    "    print(f\"Slack utility created with ID: {slack_utility.id}\")\n",
    "\n",
    "except Exception as e:\n",
    "    print(f\"Error creating utility: {e}\")\n",
    "\n",
    "# Test the utility function directly (optional)\n",
    "def test_slack_function():\n",
    "    \"\"\"Test the Slack function directly\"\"\"\n",
    "    test_result = slack_notification_tool(\n",
    "        message=\"Test message from Policy Navigator Agent\",\n",
    "        notification_type=\"update\",\n",
    "        source=\"Test source\"\n",
    "    )\n",
    "    print(f\"Test result: {test_result}\")\n",
    "\n",
    "# Uncomment to test:\n",
    "# test_slack_function()"
   ]
  },
  {
   "cell_type": "code",
   "execution_count": null,
   "metadata": {
    "collapsed": true,
    "id": "9B-S2yMX2evl"
   },
   "outputs": [],
   "source": [
    "# Deploy the utility\n",
    "slack_utility.deploy()"
   ]
  },
  {
   "cell_type": "code",
   "execution_count": null,
   "metadata": {
    "id": "KjUEbC6AEh5c"
   },
   "outputs": [],
   "source": [
    "slack_agent_instructions = \"\"\"\n",
    "You are a Slack Notification Agent specialized in sending various types of notifications to Slack channels.\n",
    "\n",
    "IMPORTANT: When using the Slack notification tool, you MUST provide ALL required parameters:\n",
    "- message (required): The main content to send\n",
    "- notification_type (required): \"update\", \"alert\", \"reminder\", or \"policy_update\"\n",
    "- delay_minutes (required): Number of minutes to delay as STRING (use \"0\" for immediate)\n",
    "- source (required): Source information as STRING (use \"\" or \"N/A\" if none)\n",
    "- effective_date (required): Effective date as STRING (use \"\" or \"N/A\" if none)\n",
    "\n",
    "PARAMETER HANDLING:\n",
    "- Always convert delay_minutes to string format (\"0\", \"30\", \"60\", etc.)\n",
    "- For missing source/effective_date, use empty string \"\" or \"N/A\"\n",
    "- Default notification_type to \"update\" if not specified\n",
    "- Handle user requests that don't provide all details gracefully\n",
    "\n",
    "NOTIFICATION TYPES:\n",
    "- \"update\": General information updates (ℹ️)\n",
    "- \"alert\": Urgent or high-priority messages (📢)\n",
    "- \"reminder\": Scheduled messages sent after delay (🔔)\n",
    "- \"policy_update\": Structured policy information with rich formatting (📋)\n",
    "\n",
    "EXAMPLES OF PROPER TOOL USAGE:\n",
    "\n",
    "1. Simple message:\n",
    "   - message: \"System maintenance completed\"\n",
    "   - notification_type: \"update\"\n",
    "   - delay_minutes: \"0\"\n",
    "   - source: \"\"\n",
    "   - effective_date: \"\"\n",
    "\n",
    "2. Policy update:\n",
    "   - message: \"New data retention policy\"\n",
    "   - notification_type: \"policy_update\"\n",
    "   - delay_minutes: \"0\"\n",
    "   - source: \"Policy Document v2.1\"\n",
    "   - effective_date: \"2025-09-01\"\n",
    "\n",
    "3. Scheduled reminder:\n",
    "   - message: \"Review pending approvals\"\n",
    "   - notification_type: \"reminder\"\n",
    "   - delay_minutes: \"60\"\n",
    "   - source: \"\"\n",
    "   - effective_date: \"\"\n",
    "\n",
    "Always confirm successful delivery and handle any errors gracefully.\n",
    "\"\"\""
   ]
  },
  {
   "cell_type": "code",
   "execution_count": null,
   "metadata": {
    "colab": {
     "base_uri": "https://localhost:8080/"
    },
    "id": "ueHld8SMbahL",
    "outputId": "623770f5-9ea2-442a-cada-b9711ea48705"
   },
   "outputs": [
    {
     "name": "stdout",
     "output_type": "stream",
     "text": [
      "Slack agent created successfully with ID: 689763f708d90b9df2c186e7\n"
     ]
    }
   ],
   "source": [
    "# Creating Slack notification agent\n",
    "try:\n",
    "    slack_agent = AgentFactory.create(\n",
    "        name=\"Slack Notification Agent\",\n",
    "        description=\"An agent that sends various types of notifications to Slack channels\",\n",
    "        instructions=slack_agent_instructions,\n",
    "        tools=[\n",
    "            AgentFactory.create_model_tool(\n",
    "                model=slack_utility.id,\n",
    "                description=\"Send Slack notifications - requires message, notification_type, delay_minutes, source, and effective_date as strings\"\n",
    "            )\n",
    "        ]\n",
    "    )\n",
    "    print(f\"Slack agent created successfully with ID: {slack_agent.id}\")\n",
    "except Exception as e:\n",
    "    print(f\"Error creating Slack agent: {e}\")"
   ]
  },
  {
   "cell_type": "code",
   "execution_count": null,
   "metadata": {
    "colab": {
     "base_uri": "https://localhost:8080/"
    },
    "id": "2fIgozQNNJjv",
    "outputId": "8344328f-0ae9-4c2f-c69b-6ccfc72fccf8"
   },
   "outputs": [
    {
     "data": {
      "text/plain": [
       "AgentResponse(status=SUCCESS, data='AgentResponseData(input={'input': 'Send a notification in slack with this data \"Testing from Agent\"', 'chat_history': [], 'outputFormat': 'text', 'expectedOutput': 'None'}, output=Notification sent successfully to #all-policy-navigator-bot., session_id='e6fef293-978a-482a-877e-6d38183384ce', intermediate_steps=[{'agent': 'Slack Notification Agent', 'input': '{\\'input\\': \\'Send a notification in slack with this data \"Testing from Agent\"\\', \\'chat_history\\': [], \\'outputFormat\\': \\'text\\', \\'expectedOutput\\': \\'None\\'}', 'output': 'Notification sent successfully to #all-policy-navigator-bot.', 'tool_steps': [{'tool': 'utilities-aixplain-slack_notification_tool', 'input': \"{'message': 'Testing from Agent', 'notification_type': 'update', 'delay_minutes': '0', 'source': '', 'effective_date': ''}\", 'output': \"{'status': 'success',\\n 'message': 'Notification sent successfully',\\n 'channel': '#all-policy-navigator-bot'}\"}], 'thought': None, 'runTime': 3.625, 'usedCredits': 0.00038385, 'apiCalls': 2, 'task': None, 'policy': None}], execution_stats={'status': 'SUCCESS', 'api_calls': 2, 'credits': 0.00038385, 'runtime': 3.625, 'api_call_breakdown': {'Slack Notification Agent': 2}, 'runtime_breakdown': {'Slack Notification Agent': 3.625}, 'credit_breakdown': {'Slack Notification Agent': 0.00038385}, 'session_id': 'e6fef293-978a-482a-877e-6d38183384ce', 'environment': 'prod', 'assets_used': ['tool:utilities-aixplain-slack_notification_tool', 'agent:Slack Notification Agent'], 'time_stamp': '2025-08-07 06:34:54.308448', 'params': {'id': '689445f8686ec479bfbf1f0b', 'sessionId': 'e6fef293-978a-482a-877e-6d38183384ce'}}, critiques='')', completed=True, used_credits=0.00038385, run_time=3.625)"
      ]
     },
     "execution_count": 55,
     "metadata": {},
     "output_type": "execute_result"
    }
   ],
   "source": [
    "slack_agent.run(\"Send a notification in slack with this data \\\"Testing from Agent\\\"\")"
   ]
  },
  {
   "cell_type": "code",
   "execution_count": null,
   "metadata": {
    "id": "MFFp6xBzZZRr"
   },
   "outputs": [],
   "source": [
    "slack_agent.deploy()"
   ]
  },
  {
   "cell_type": "markdown",
   "metadata": {
    "id": "UereWmXmHexP"
   },
   "source": [
    "### Creating the Policy Navigator Agent"
   ]
  },
  {
   "cell_type": "code",
   "execution_count": null,
   "metadata": {
    "id": "TPDvVesgKnYm"
   },
   "outputs": [],
   "source": [
    "Instructions=\"\"\"You are the Policy Navigator Agent - an advanced agentic RAG system for comprehensive government regulation and policy research.\n",
    "\n",
    "Agents CAPABILITIES:\n",
    "1. EPA_agent: Answers queries related to Environmental Protection Agency regulations and compliance\n",
    "2. scraper_agent: Web scraping agent for retrieving information from websites\n",
    "3. caseLawAgent: Case law research and legal precedent analysis using CourtListener API\n",
    "4. gdpr_agent: Answers queries related to GDPR and data privacy regulations\n",
    "5. slack_agent: Sends notifications to Slack channels\n",
    "6. Local Document RAG Agent: Analysis of uploaded PDF documents, reports, and local files\n",
    "\n",
    "WORKFLOW:\n",
    "1. Analyze the user query to determine which agents are most relevant\n",
    "2. Route initial research to appropriate specialist agents\n",
    "3. Cross-reference findings between agents when beneficial\n",
    "4. Synthesize comprehensive responses combining multiple sources\n",
    "5. Always cite sources and distinguish between different types of information\n",
    "\n",
    "When you find important policy information, compliance requirements, or regulatory changes:\n",
    "1. Provide the information to the user\n",
    "2. Offer to send Slack notifications about important findings\n",
    "3. Use appropriate notification types based on urgency and content type\n",
    "\n",
    "SLACK INTEGRATION:\n",
    "- Use the Slack Notification Agent for sending alerts and updates\n",
    "- Include source information and effective dates when available\n",
    "---\n",
    "- For queries about specific uploaded documents, route to Local Document RAG Agent\n",
    "\n",
    "\"\"\""
   ]
  },
  {
   "cell_type": "code",
   "execution_count": null,
   "metadata": {
    "id": "qHzDjeu5HfOn"
   },
   "outputs": [],
   "source": [
    "policyNavigatorAgent = TeamAgentFactory.create(\n",
    "\tname=\"Policy Navigator Agent\",\n",
    "\tdescription = \"Agentic RAG System for Government Regulation Search\",\n",
    "\tinstructions=Instructions,\n",
    "  agents=[EPA_agent, scraper_agent, caseLawAgent, gdpr_agent, slack_agent,file_rag_agent],\n",
    "  use_mentalist=True,\n",
    "\n",
    ") # default LLM is GPT4o"
   ]
  },
  {
   "cell_type": "code",
   "execution_count": null,
   "metadata": {
    "colab": {
     "base_uri": "https://localhost:8080/",
     "height": 123
    },
    "id": "YrQGMMyEQLyS",
    "outputId": "5edac680-fb2a-42a9-bb43-bb9878be4109"
   },
   "outputs": [
    {
     "data": {
      "application/vnd.google.colaboratory.intrinsic+json": {
       "type": "string"
      },
      "text/plain": [
       "'Yes, Section 230 of the Communications Decency Act has been challenged in court multiple times. Here are some recent cases that reference Section 230:\\n\\n1. **[JANE DOE v. Deffenbaugh](https://www.courtlistener.com/docket/71060574/jane-doe-v-deffenbaugh/)**  \\n   - **Filed:** August 8, 2025  \\n   - **Court:** District Court, S.D. New York  \\n   - **Summary:** This case involves a civil cover sheet and details related to a diversity-libel, assault, and slander claim.\\n\\n2. **[Ward v. Homeowner Solutions Pros Inc](https://www.courtlistener.com/docket/71059455/ward-v-homeowner-solutions-pros-inc/)**  \\n   - **Filed:** August 8, 2025  \\n   - **Court:** District Court, E.D. Michigan  \\n   - **Summary:** This case includes a complaint filed against Homeowner Solutions Pros Inc with a jury demand.\\n\\n3. **[Peloquin v. Tesla, Inc.](https://www.courtlistener.com/docket/71056233/peloquin-v-tesla-inc-dba-in-california-as-tesla-motors-inc/)**  \\n   - **Filed:** August 7, 2025  \\n   - **Court:** District Court, N.D. California  \\n   - **Summary:** This case involves employment discrimination claims against Tesla, Inc.\\n\\n4. **[National Education Association-New Hampshire v. NH Attorney General](https://www.courtlistener.com/docket/71052463/national-education-association-new-hampshire-v-nh-attorney-general/)**  \\n   - **Filed:** August 7, 2025  \\n   - **Court:** District Court, D. New Hampshire  \\n   - **Summary:** This case involves a civil rights action related to state statutes.\\n\\n5. **[Southern Utah Wilderness Alliance v. United States Department of the Interior](https://www.courtlistener.com/docket/71051491/southern-utah-wilderness-alliance-v-united-states-department-of-the/)**  \\n   - **Filed:** August 7, 2025  \\n   - **Court:** District Court, D. Utah  \\n   - **Summary:** This case involves a complaint for declaratory and injunctive relief against the Department of the Interior.\\n\\nThese cases illustrate various legal challenges and contexts in which Section 230 has been referenced. If you need more detailed information about any specific case or its outcome, please let me know!'"
      ]
     },
     "execution_count": 117,
     "metadata": {},
     "output_type": "execute_result"
    }
   ],
   "source": [
    "#@markdown **Run and test the agent**\n",
    "\n",
    "Query = \"Has Section 230 ever been challenged in court? What was the outcome?\" #@param {type:\"string\"}\n",
    "\n",
    "agent_response = policyNavigatorAgent.run(Query)\n",
    "agent_response['data']['output']"
   ]
  },
  {
   "cell_type": "code",
   "execution_count": null,
   "metadata": {
    "colab": {
     "base_uri": "https://localhost:8080/"
    },
    "collapsed": true,
    "id": "JM9Ehn6Keqny",
    "outputId": "fae38b43-c1cf-4d20-dc06-f0f86944b8fa"
   },
   "outputs": [
    {
     "data": {
      "text/plain": [
       "{'input': \"{'input': 'Has Section 230 ever been challenged in court? What was the outcome?', 'chat_history': [], 'outputFormat': 'text', 'expectedOutput': 'None'}\",\n",
       " 'output': 'Yes, Section 230 of the Communications Decency Act has been challenged in court multiple times. Here are some recent cases that reference Section 230:\\n\\n1. **[JANE DOE v. Deffenbaugh](https://www.courtlistener.com/docket/71060574/jane-doe-v-deffenbaugh/)**  \\n   - **Filed:** August 8, 2025  \\n   - **Court:** District Court, S.D. New York  \\n   - **Summary:** This case involves a civil cover sheet and details related to a diversity-libel, assault, and slander claim.\\n\\n2. **[Ward v. Homeowner Solutions Pros Inc](https://www.courtlistener.com/docket/71059455/ward-v-homeowner-solutions-pros-inc/)**  \\n   - **Filed:** August 8, 2025  \\n   - **Court:** District Court, E.D. Michigan  \\n   - **Summary:** This case includes a complaint filed against Homeowner Solutions Pros Inc with a jury demand.\\n\\n3. **[Peloquin v. Tesla, Inc.](https://www.courtlistener.com/docket/71056233/peloquin-v-tesla-inc-dba-in-california-as-tesla-motors-inc/)**  \\n   - **Filed:** August 7, 2025  \\n   - **Court:** District Court, N.D. California  \\n   - **Summary:** This case involves employment discrimination claims against Tesla, Inc.\\n\\n4. **[National Education Association-New Hampshire v. NH Attorney General](https://www.courtlistener.com/docket/71052463/national-education-association-new-hampshire-v-nh-attorney-general/)**  \\n   - **Filed:** August 7, 2025  \\n   - **Court:** District Court, D. New Hampshire  \\n   - **Summary:** This case involves a civil rights action related to state statutes.\\n\\n5. **[Southern Utah Wilderness Alliance v. United States Department of the Interior](https://www.courtlistener.com/docket/71051491/southern-utah-wilderness-alliance-v-united-states-department-of-the/)**  \\n   - **Filed:** August 7, 2025  \\n   - **Court:** District Court, D. Utah  \\n   - **Summary:** This case involves a complaint for declaratory and injunctive relief against the Department of the Interior.\\n\\nThese cases illustrate various legal challenges and contexts in which Section 230 has been referenced. If you need more detailed information about any specific case or its outcome, please let me know!',\n",
       " 'session_id': '0409089a-cd8c-45f0-bcf1-575cabd25c44',\n",
       " 'intermediate_steps': [{'agent': 'mentalist',\n",
       "   'input': 'INPUT\\n--------------------\\n\\nUSER: Has Section 230 ever been challenged in court? What was the outcome?',\n",
       "   'output': '[\\'{\"name\":\"\",\"description\":\"Search for court cases that reference Section 230\",\"expectedOutput\":\"\",\"dependencies\":null,\"agent\":\"Case Finder Agent\",\"status\":\"PENDING\"}\\', \\'{\"name\":\"\",\"description\":\"Retrieve summaries and outcomes of the relevant cases\",\"expectedOutput\":\"\",\"dependencies\":null,\"agent\":\"Case Finder Agent\",\"status\":\"PENDING\"}\\']',\n",
       "   'tool_steps': None,\n",
       "   'thought': 'The user is asking about legal challenges related to Section 230, which is a significant part of U.S. law concerning internet service providers and user-generated content. To find relevant case law, I will utilize the Case Finder Agent to search for cases that reference Section 230 and provide summaries of the outcomes.',\n",
       "   'runTime': 3.276,\n",
       "   'usedCredits': 0.00035475000000000003,\n",
       "   'apiCalls': 1,\n",
       "   'task': None,\n",
       "   'policy': None},\n",
       "  {'agent': 'orchestrator',\n",
       "   'input': 'Task:\\nSearch for court cases that reference Section 230\\n\\nContext:\\n<intermediate_steps></intermediate_steps>\\n\\nUser Request:\\n<chat_history>\\n    <USER>Has Section 230 ever been challenged in court? What was the outcome?</USER>\\n</chat_history>\\n\\nYour goal is to solve the task. Ignore any other task mentioned in the user request or context.',\n",
       "   'output': \"Case Finder Agent(input='Task:\\nSearch for court cases that reference Section 230\\n\\nContext:\\n<intermediate_steps></intermediate_steps>\\n\\nUser Request:\\n<chat_history>\\n    <USER>Has Section 230 ever been challenged in court? What was the outcome?</USER>\\n</chat_history>\\n\\nYour goal is to solve the task. Ignore any other task mentioned in the user request or context.')\",\n",
       "   'tool_steps': None,\n",
       "   'thought': '',\n",
       "   'runTime': 0,\n",
       "   'usedCredits': 0,\n",
       "   'apiCalls': 0,\n",
       "   'task': None,\n",
       "   'policy': None},\n",
       "  {'agent': 'Case Finder Agent',\n",
       "   'input': 'Task:\\nSearch for court cases that reference Section 230\\n\\nContext:\\n<intermediate_steps></intermediate_steps>\\n\\nUser Request:\\n<chat_history>\\n    <USER>Has Section 230 ever been challenged in court? What was the outcome?</USER>\\n</chat_history>\\n\\nYour goal is to solve the task. Ignore any other task mentioned in the user request or context.',\n",
       "   'output': 'Here are some recent court cases that reference Section 230:\\n\\n1. **[JANE DOE v. Deffenbaugh](https://www.courtlistener.com/docket/71060574/jane-doe-v-deffenbaugh/)**  \\n   - **Filed:** 2025-08-08  \\n   - **Court:** District Court, S.D. New York  \\n   - **Summary:** This case involves a civil cover sheet and details related to a diversity-libel, assault, and slander claim.\\n\\n2. **[Ward v. Homeowner Solutions Pros Inc](https://www.courtlistener.com/docket/71059455/ward-v-homeowner-solutions-pros-inc/)**  \\n   - **Filed:** 2025-08-08  \\n   - **Court:** District Court, E.D. Michigan  \\n   - **Summary:** This case includes a complaint filed against Homeowner Solutions Pros Inc with a jury demand.\\n\\n3. **[Peloquin v. Tesla, Inc.](https://www.courtlistener.com/docket/71056233/peloquin-v-tesla-inc-dba-in-california-as-tesla-motors-inc/)**  \\n   - **Filed:** 2025-08-07  \\n   - **Court:** District Court, N.D. California  \\n   - **Summary:** This case involves employment discrimination claims against Tesla, Inc.\\n\\n4. **[National Education Association-New Hampshire v. NH Attorney General](https://www.courtlistener.com/docket/71052463/national-education-association-new-hampshire-v-nh-attorney-general/)**  \\n   - **Filed:** 2025-08-07  \\n   - **Court:** District Court, D. New Hampshire  \\n   - **Summary:** This case involves a civil rights action related to state statutes.\\n\\n5. **[Southern Utah Wilderness Alliance v. United States Department of the Interior](https://www.courtlistener.com/docket/71051491/southern-utah-wilderness-alliance-v-united-states-department-of-the/)**  \\n   - **Filed:** 2025-08-07  \\n   - **Court:** District Court, D. Utah  \\n   - **Summary:** This case involves a complaint for declaratory and injunctive relief against the Department of the Interior.\\n\\nThese cases illustrate various legal challenges and contexts in which Section 230 has been referenced.',\n",
       "   'tool_steps': [{'tool': 'utilities-aixplain-get_cases',\n",
       "     'input': 'Section 230',\n",
       "     'output': '[{\\'case_name\\': \\'JANE DOE v. Deffenbaugh\\',\\n  \\'docket_url\\': \\'https://www.courtlistener.com/docket/71060574/jane-doe-v-deffenbaugh/\\',\\n  \\'date_filed\\': \\'2025-08-08\\',\\n  \\'court\\': \\'District Court, S.D. New York\\',\\n  \\'cause\\': \\'28:1332lb Diversity-Libel, Assault, Slander\\',\\n  \\'suit_nature\\': \\'320 Assault Libel & Slander\\',\\n  \\'summary\\': \\'JS 44C/SDNY                                                              CIVIL COVER SHEET\\\\nREV.\\\\n12/04/2024             The JS-44 civil cover sheet and the information contained herein neither replace nor supplement the filing and service of pleadings or\\\\n                       other papers as required by law, except as provided by local rules of court. This form, approved by the Judicial Conference of the\\\\n                       United States in September 1974, is required for use of the Clerk of \\',\\n  \\'documents\\': [{\\'document_number\\': 2,\\n    \\'description\\': \\'CIVIL COVER SHEET filed..(Hines, Philip) (Entered: 08/08/2025)\\',\\n    \\'snippet\\': \\'JS 44C/SDNY                                                              CIVIL COVER SHEET\\\\nREV.\\\\n12/04/2024             The JS-44 civil cover sheet and the information contained herein neither replace nor supplement the filing and service of pleadings or\\\\n                       other papers as required by law, except as provided by local rules of court. This form, approved by the Judicial Conference of the\\\\n                       United States in September 1974, is required for use of the Clerk of \\',\\n    \\'file_url\\': \\'https://www.courtlistener.com/docket/71060574/2/jane-doe-v-deffenbaugh/\\',\\n    \\'entry_date\\': \\'2025-08-08\\',\\n    \\'page_count\\': 2}]},\\n {\\'case_name\\': \\'Ward v. Homeowner Solutions Pros Inc\\',\\n  \\'docket_url\\': \\'https://www.courtlistener.com/docket/71059455/ward-v-homeowner-solutions-pros-inc/\\',\\n  \\'date_filed\\': \\'2025-08-08\\',\\n  \\'court\\': \\'District Court, E.D. Michigan\\',\\n  \\'cause\\': \\'\\',\\n  \\'suit_nature\\': \\'\\',\\n  \\'summary\\': \\'                 Case 2:25-cv-12463-JJCG-APP\\\\nJS 44 (Rev. 10/20)                           ECFCOVER\\\\n                                          CIVIL           PageID.19 Filed&RXQW\\\\\\\\\\\\x03LQ\\\\x03ZKLFK\\\\x03DFWLRQ\\\\x03DURVH\\\\x1d\\\\x03BBBBBBBBBBBBBBB\\\\n                                                 No. 1-1, SHEET           08/08/25 Page 1 of 2\\\\nThe JS 44 civil cover sheet and the information contained herein neither replace nor supplement the filing and service of pleadings or other papers as required by law, except as\\\\nprovided \\',\\n  \\'documents\\': [{\\'document_number\\': 1,\\n    \\'description\\': \\'COMPLAINT filed by Marcella J. Ward against Homeowner Solutions Pros Inc with Jury Demand. Plaintiff requests summons issued. Receipt No: AMIEDC-10352540 - Fee: $ 405. County of 1st Plaintiff: Out of State - County Where Action Arose: Kent - County of 1st Defendant: Kent. [Previously dismissed case: No] [Possible companion case(s): None] (Attachments: (1) Exhibit Civil Cover Sheet) (Paronich, Anthony)\\',\\n    \\'snippet\\': \\'                 Case 2:25-cv-12463-JJCG-APP\\\\nJS 44 (Rev. 10/20)                           ECFCOVER\\\\n                                          CIVIL           PageID.19 Filed&RXQW\\\\\\\\\\\\x03LQ\\\\x03ZKLFK\\\\x03DFWLRQ\\\\x03DURVH\\\\x1d\\\\x03BBBBBBBBBBBBBBB\\\\n                                                 No. 1-1, SHEET           08/08/25 Page 1 of 2\\\\nThe JS 44 civil cover sheet and the information contained herein neither replace nor supplement the filing and service of pleadings or other papers as required by law, except as\\\\nprovided \\',\\n    \\'file_url\\': \\'https://www.courtlistener.com/docket/71059455/1/1/ward-v-homeowner-solutions-pros-inc/\\',\\n    \\'entry_date\\': \\'2025-08-08\\',\\n    \\'page_count\\': 2}]},\\n {\\'case_name\\': \\'Peloquin v. Tesla, Inc. d/b/a in California as Tesla Motors, Inc.\\',\\n  \\'docket_url\\': \\'https://www.courtlistener.com/docket/71056233/peloquin-v-tesla-inc-dba-in-california-as-tesla-motors-inc/\\',\\n  \\'date_filed\\': \\'2025-08-07\\',\\n  \\'court\\': \\'District Court, N.D. California\\',\\n  \\'cause\\': \\'28:1332 Diversity-Employment Discrimination\\',\\n  \\'suit_nature\\': \\'442 Civil Rights: Jobs\\',\\n  \\'summary\\': \\'        Case 3:25-cv-06690      Document 1   Filed 08/07/25   Page 1 of 159\\\\n\\\\n\\\\n\\\\n 1   Carl E. Douglas (Cal. Bar No. 97011)\\\\n       Carl@DouglasHicksLaw.com\\\\n 2   Jamon R. Hicks (Cal. Bar No. 232747)\\\\n       Jamon@DouglasHicksLaw.com\\\\n 3   Terrence M. Jones (Cal. Bar No. 256603)\\\\n       Terrence@DouglasHicksLaw.com\\\\n 4   DOUGLAS / HICKS LAW APC\\\\n       5120 Goldleaf Circle, Suite 425\\\\n 5     Los Angeles, California 90056\\\\n       (323) 655-6505 | www.DouglasHicksLaw.com\\\\n 6\\\\n     Attorneys for Plaintiffs LINDA\\',\\n  \\'documents\\': [{\\'document_number\\': 1,\\n    \\'description\\': \\'COMPLAINT against Tesla, Inc. d/b/a in California as Tesla Motors, Inc. ( Filing fee $ 405, receipt number ACANDC-20986530.). Filed by Ozell Murray, Sharnique Martin, Linda Peloquin, Tiara Paulino, Adam Chow, Gregory Vass. (Attachments: # 1 Civil Cover Sheet)(Jones, Terrence) (Filed on 8/7/2025) (Entered: 08/07/2025)\\',\\n    \\'snippet\\': \\'        Case 3:25-cv-06690      Document 1   Filed 08/07/25   Page 1 of 159\\\\n\\\\n\\\\n\\\\n 1   Carl E. Douglas (Cal. Bar No. 97011)\\\\n       Carl@DouglasHicksLaw.com\\\\n 2   Jamon R. Hicks (Cal. Bar No. 232747)\\\\n       Jamon@DouglasHicksLaw.com\\\\n 3   Terrence M. Jones (Cal. Bar No. 256603)\\\\n       Terrence@DouglasHicksLaw.com\\\\n 4   DOUGLAS / HICKS LAW APC\\\\n       5120 Goldleaf Circle, Suite 425\\\\n 5     Los Angeles, California 90056\\\\n       (323) 655-6505 | www.DouglasHicksLaw.com\\\\n 6\\\\n     Attorneys for Plaintiffs LINDA\\',\\n    \\'file_url\\': \\'https://www.courtlistener.com/docket/71056233/1/peloquin-v-tesla-inc-dba-in-california-as-tesla-motors-inc/\\',\\n    \\'entry_date\\': \\'2025-08-07\\',\\n    \\'page_count\\': 159}]},\\n {\\'case_name\\': \\'National Education Association-New Hampshire v. NH Attorney General\\',\\n  \\'docket_url\\': \\'https://www.courtlistener.com/docket/71052463/national-education-association-new-hampshire-v-nh-attorney-general/\\',\\n  \\'date_filed\\': \\'2025-08-07\\',\\n  \\'court\\': \\'District Court, D. New Hampshire\\',\\n  \\'cause\\': \\'42:1983 Civil Rights Act\\',\\n  \\'suit_nature\\': \\'950 Constitutional - State Statute\\',\\n  \\'summary\\': \\'JS 44 (Rev. 03/24)                 Case 1:25-cv-00293 CIVIL\\\\n                                                        Document\\\\n                                                            COVER1-45 SHEET\\\\n                                                                        Filed 08/07/25                                                                 Page 1 of 2\\\\nThe JS 44 civil cover sheet and the information contained herein neither replace nor supplement the filing and service of pleadings or o\\',\\n  \\'documents\\': [{\\'document_number\\': 1,\\n    \\'description\\': \\'NEW CASE/ COMPLAINT Filing fee $ 405, receipt number ANHDC-2664785 filed by Dottie Morris, Dover School District, New Hampshire Outright, Oyster River Cooperative School District, James T. McKim Jr., National Education Association-New Hampshire, Somersworth School District, Grantham School District. (Attachments: # 1 Exhibit 1 -- HB2 Anti-DEI Law, # 2 Exhibit 2 -- July 11, 2025 NHDOE Enforcement Letter to School Districts, # 3 Exhibit 3 -- July 17, 2025 NHDOE Enforcement Letter to Higher Education Institutions, # 4 Exhibit 4 -- July 23, 2025 NHDAS Enforcement Email to State Agencies, # 5 Exhibit 5 -- June 13, 2025 Fair Funding Article, # 6 Exhibit 6 -- 2020 Plaintiff James McKim Implicit Bias Slides for NHDOJ, # 7 Exhibit 7 -- March 28, 2025 Anti-DEI Proposal, # 8 Exhibit 8 -- March 31, 2025 House Finance Transcript, # 9 Exhibit 9 -- April 1, 2025 Anti-DEI Proposal, # 10 Exhibit 10 -- April 1, 2025 House Finance Transcript, # 11 Exhibit 11 -- April 10, 2025 Full House Transcript, # 12 Exhibit 12 -- HB2 Docket, # 13 Exhibit 13 -- May 6, 2025 Public Hearing Senate Report, # 14 Exhibit 14 -- May 27, 2025 Senate Finance Packet (Excerpts), # 15 Exhibit 15 -- May 27, 2025 Senate Finance Transcript, # 16 Exhibit 16 -- May 30, 2025 ACLU-NH/DRC-NH Letter, # 17 Exhibit 17 -- May 27, 2025 Coalition Letter to Senate, # 18 Exhibit 18 -- May 27, 2025 Coalition Letter to Governor, # 19 Exhibit 19 -- Keene State College Pre HB2 Website, # 20 Exhibit 20 -- Keene State College Post HB2 Website, # 21 Exhibit 21 -- July 1, 2025 UNH Letter, # 22 Exhibit 22 -- May 9, 2022 UNH President Remarks, # 23 Exhibit 23 -- UNH Pre HB2 Website, # 24 Exhibit 24 -- UNH Post HB2 Website, # 25 Exhibit 25 -- UNH Law Pre HB2 Website, # 26 Exhibit 26 -- UNH Law Post HB2 Website, # 27 Exhibit 27 -- Plymouth State University Pre HB2 Website, # 28 Exhibit 28 -- Plymouth State University Post HB2 Website, # 29 Exhibit 29 -- RVCC Pre HB2 Website, # 30 Exhibit 30 -- RVCC Post HB2 Website, # 31 Exhibit 31 -- July 14, 2025 NHDOE-Grantham School District Email Exchange, # 32 Exhibit 32 -- July 2021 NHDOE Commissioner Edelblut Op-ed, # 33 Exhibit 33 -- July 14, 2025 ACLU-NH Email Regarding Certification Date, # 34 Exhibit (Affidavit) 34 -- NEA-NH Declaration, # 35 Exhibit (Affidavit) 35 -- NEA-NH Member A Declaration, # 36 Exhibit (Affidavit) 36 -- NEA-NH Member B Declaration, # 37 Exhibit (Affidavit) 37 -- NEA-NH Member C Declaration, # 38 Exhibit (Affidavit) 38 -- Shaps/Oyster River Declaration, # 39 Exhibit (Affidavit) 39 -- Boston/Dover Declaration, # 40 Exhibit (Affidavit) 40 -- Shea/Somersworth Declaration, # 41 Exhibit (Affidavit) 41 -- Downing/Grantham Declaration, # 42 Exhibit (Affidavit) 42 -- Dottie Morris Declaration, # 43 Exhibit (Affidavit) 43 -- James McKim Declaration, # 44 Exhibit (Affidavit) 44 -- New Hampshire Outright Declaration, # 45 Civil Cover Sheet, # 46 Summons - Waiver (New Hampshire Department of Justice), # 47 Summons - Waiver (New Hampshire Department of Education), # 48 Summons - Waiver (New Hampshire Department of Administrative Services), # 49 Summons - Waiver (New Hampshire Treasury))(Bissonnette, Gilles) (Entered: 08/07/2025)\\',\\n    \\'snippet\\': \\'JS 44 (Rev. 03/24)                 Case 1:25-cv-00293 CIVIL\\\\n                                                        Document\\\\n                                                            COVER1-45 SHEET\\\\n                                                                        Filed 08/07/25                                                                 Page 1 of 2\\\\nThe JS 44 civil cover sheet and the information contained herein neither replace nor supplement the filing and service of pleadings or o\\',\\n    \\'file_url\\': \\'https://www.courtlistener.com/docket/71052463/1/45/national-education-association-new-hampshire-v-formella/\\',\\n    \\'entry_date\\': \\'2025-08-07\\',\\n    \\'page_count\\': 2},\\n   {\\'document_number\\': 1,\\n    \\'description\\': \\'NEW CASE/ COMPLAINT Filing fee $ 405, receipt number ANHDC-2664785 filed by Dottie Morris, Dover School District, New Hampshire Outright, Oyster River Cooperative School District, James T. McKim Jr., National Education Association-New Hampshire, Somersworth School District, Grantham School District. (Attachments: # 1 Exhibit 1 -- HB2 Anti-DEI Law, # 2 Exhibit 2 -- July 11, 2025 NHDOE Enforcement Letter to School Districts, # 3 Exhibit 3 -- July 17, 2025 NHDOE Enforcement Letter to Higher Education Institutions, # 4 Exhibit 4 -- July 23, 2025 NHDAS Enforcement Email to State Agencies, # 5 Exhibit 5 -- June 13, 2025 Fair Funding Article, # 6 Exhibit 6 -- 2020 Plaintiff James McKim Implicit Bias Slides for NHDOJ, # 7 Exhibit 7 -- March 28, 2025 Anti-DEI Proposal, # 8 Exhibit 8 -- March 31, 2025 House Finance Transcript, # 9 Exhibit 9 -- April 1, 2025 Anti-DEI Proposal, # 10 Exhibit 10 -- April 1, 2025 House Finance Transcript, # 11 Exhibit 11 -- April 10, 2025 Full House Transcript, # 12 Exhibit 12 -- HB2 Docket, # 13 Exhibit 13 -- May 6, 2025 Public Hearing Senate Report, # 14 Exhibit 14 -- May 27, 2025 Senate Finance Packet (Excerpts), # 15 Exhibit 15 -- May 27, 2025 Senate Finance Transcript, # 16 Exhibit 16 -- May 30, 2025 ACLU-NH/DRC-NH Letter, # 17 Exhibit 17 -- May 27, 2025 Coalition Letter to Senate, # 18 Exhibit 18 -- May 27, 2025 Coalition Letter to Governor, # 19 Exhibit 19 -- Keene State College Pre HB2 Website, # 20 Exhibit 20 -- Keene State College Post HB2 Website, # 21 Exhibit 21 -- July 1, 2025 UNH Letter, # 22 Exhibit 22 -- May 9, 2022 UNH President Remarks, # 23 Exhibit 23 -- UNH Pre HB2 Website, # 24 Exhibit 24 -- UNH Post HB2 Website, # 25 Exhibit 25 -- UNH Law Pre HB2 Website, # 26 Exhibit 26 -- UNH Law Post HB2 Website, # 27 Exhibit 27 -- Plymouth State University Pre HB2 Website, # 28 Exhibit 28 -- Plymouth State University Post HB2 Website, # 29 Exhibit 29 -- RVCC Pre HB2 Website, # 30 Exhibit 30 -- RVCC Post HB2 Website, # 31 Exhibit 31 -- July 14, 2025 NHDOE-Grantham School District Email Exchange, # 32 Exhibit 32 -- July 2021 NHDOE Commissioner Edelblut Op-ed, # 33 Exhibit 33 -- July 14, 2025 ACLU-NH Email Regarding Certification Date, # 34 Exhibit (Affidavit) 34 -- NEA-NH Declaration, # 35 Exhibit (Affidavit) 35 -- NEA-NH Member A Declaration, # 36 Exhibit (Affidavit) 36 -- NEA-NH Member B Declaration, # 37 Exhibit (Affidavit) 37 -- NEA-NH Member C Declaration, # 38 Exhibit (Affidavit) 38 -- Shaps/Oyster River Declaration, # 39 Exhibit (Affidavit) 39 -- Boston/Dover Declaration, # 40 Exhibit (Affidavit) 40 -- Shea/Somersworth Declaration, # 41 Exhibit (Affidavit) 41 -- Downing/Grantham Declaration, # 42 Exhibit (Affidavit) 42 -- Dottie Morris Declaration, # 43 Exhibit (Affidavit) 43 -- James McKim Declaration, # 44 Exhibit (Affidavit) 44 -- New Hampshire Outright Declaration, # 45 Civil Cover Sheet, # 46 Summons - Waiver (New Hampshire Department of Justice), # 47 Summons - Waiver (New Hampshire Department of Education), # 48 Summons - Waiver (New Hampshire Department of Administrative Services), # 49 Summons - Waiver (New Hampshire Treasury))(Bissonnette, Gilles) (Entered: 08/07/2025)\\',\\n    \\'snippet\\': \\'        Case 1:25-cv-00293        Document 1   Filed 08/07/25    Page 1 of 109\\\\n\\\\n\\\\n\\\\n\\\\n                       UNITED STATES DISTRICT COURT\\\\n                     FOR THE DISTRICT OF NEW HAMPSHIRE\\\\n\\\\n\\\\n\\\\nNATIONAL EDUCATION\\\\nASSOCIATION-NEW HAMPSHIRE;\\\\nOYSTER RIVER COOPERATIVE\\\\nSCHOOL DISTRICT; DOVER SCHOOL\\\\nDISTRICT; SOMERSWORTH SCHOOL\\\\nDISTRICT; GRANTHAM SCHOOL                  Case No.: 25-cv-293\\\\nDISTRICT; DOTTIE MORRIS; JAMES\\\\nT. MCKIM, JR.; and NEW HAMPSHIRE\\\\nOUTRIGHT\\\\n\\\\n                         Plaintiffs,\\\\n   \\',\\n    \\'file_url\\': \\'https://www.courtlistener.com/docket/71052463/1/national-education-association-new-hampshire-v-formella/\\',\\n    \\'entry_date\\': \\'2025-08-07\\',\\n    \\'page_count\\': 109}]},\\n {\\'case_name\\': \\'Southern Utah Wilderness Alliance v. United States Department of the Interior\\',\\n  \\'docket_url\\': \\'https://www.courtlistener.com/docket/71051491/southern-utah-wilderness-alliance-v-united-states-department-of-the/\\',\\n  \\'date_filed\\': \\'2025-08-07\\',\\n  \\'court\\': \\'District Court, D. Utah\\',\\n  \\'cause\\': \\'42:4321 Review of Agency Action-Environment\\',\\n  \\'suit_nature\\': \\'899 Other Statutes: Administrative Procedures Act/Review or Appeal of Agency Decision\\',\\n  \\'summary\\': \\'JS 44 (Rev. 10/20) Case 2:25-cv-00657                                  CIVIL\\\\n                                                                   Document   COVER\\\\n                                                                            1-10 Filed SHEET\\\\n                                                                                       08/07/25                                     PageID.1755                                Page 1 of 2\\\\nThe JS 44 civil cover sheet and the information contained h\\',\\n  \\'documents\\': [{\\'document_number\\': 1,\\n    \\'description\\': \\'COMPLAINT for Declaratory and Injunctive Relief against All Defendants (Filing fee $ 405, receipt number AUTDC-5512320) filed by Southern Utah Wilderness Alliance. (Attachments: # 1 Exhibit 1 - 2019 ROD, # 2 Exhibit 2 - 2019 EIS, # 3 Exhibit 3 - 2025 Mining Plan, # 4 Exhibit 4 - Peak Minerals Presentation, # 5 Exhibit 5 - 2025 Scoping Comments, # 6 Exhibit 6 - 2025 DNA, # 7 Exhibit 7 - 2025 DNA Letter, # 8 Exhibit 8 - 2025 DNA DR, # 9 Exhibit 9 - BLM NEPA Handbook, # 10 Civil Cover Sheet) (Larsen, Hanna) (Entered: 08/07/2025)\\',\\n    \\'snippet\\': \\'JS 44 (Rev. 10/20) Case 2:25-cv-00657                                  CIVIL\\\\n                                                                   Document   COVER\\\\n                                                                            1-10 Filed SHEET\\\\n                                                                                       08/07/25                                     PageID.1755                                Page 1 of 2\\\\nThe JS 44 civil cover sheet and the information contained h\\',\\n    \\'file_url\\': \\'https://www.courtlistener.com/docket/71051491/1/10/southern-utah-wilderness-alliance-v-united-states-department-of-the/\\',\\n    \\'entry_date\\': \\'2025-08-07\\',\\n    \\'page_count\\': 2},\\n   {\\'document_number\\': 1,\\n    \\'description\\': \\'COMPLAINT for Declaratory and Injunctive Relief against All Defendants (Filing fee $ 405, receipt number AUTDC-5512320) filed by Southern Utah Wilderness Alliance. (Attachments: # 1 Exhibit 1 - 2019 ROD, # 2 Exhibit 2 - 2019 EIS, # 3 Exhibit 3 - 2025 Mining Plan, # 4 Exhibit 4 - Peak Minerals Presentation, # 5 Exhibit 5 - 2025 Scoping Comments, # 6 Exhibit 6 - 2025 DNA, # 7 Exhibit 7 - 2025 DNA Letter, # 8 Exhibit 8 - 2025 DNA DR, # 9 Exhibit 9 - BLM NEPA Handbook, # 10 Civil Cover Sheet) (Larsen, Hanna) (Entered: 08/07/2025)\\',\\n    \\'snippet\\': \\'Case 2:25-cv-00657   Document 1-2   Filed 08/07/25   PageID.138   Page 1 of 227\\\\n\\\\n\\\\n\\\\n\\\\n                     EXHIBIT 2\\\\n\\\\x0c   Case 2:25-cv-00657   Document 1-2   Filed 08/07/25   PageID.139   Page 2 of 227\\\\n      U.S. Department of the Interior\\\\n      Bureau of Land Management                                                      Utah\\\\n\\\\n\\\\nSevier Playa Potash Project\\\\nFinal Environmental Impact Statement\\\\n\\\\n\\\\n\\\\n\\\\n                                                                             July 2019\\\\n\\\\n\\\\n\\\\n            \\',\\n    \\'file_url\\': \\'https://www.courtlistener.com/docket/71051491/1/2/southern-utah-wilderness-alliance-v-united-states-department-of-the/\\',\\n    \\'entry_date\\': \\'2025-08-07\\',\\n    \\'page_count\\': 227},\\n   {\\'document_number\\': 1,\\n    \\'description\\': \\'COMPLAINT for Declaratory and Injunctive Relief against All Defendants (Filing fee $ 405, receipt number AUTDC-5512320) filed by Southern Utah Wilderness Alliance. (Attachments: # 1 Exhibit 1 - 2019 ROD, # 2 Exhibit 2 - 2019 EIS, # 3 Exhibit 3 - 2025 Mining Plan, # 4 Exhibit 4 - Peak Minerals Presentation, # 5 Exhibit 5 - 2025 Scoping Comments, # 6 Exhibit 6 - 2025 DNA, # 7 Exhibit 7 - 2025 DNA Letter, # 8 Exhibit 8 - 2025 DNA DR, # 9 Exhibit 9 - BLM NEPA Handbook, # 10 Civil Cover Sheet) (Larsen, Hanna) (Entered: 08/07/2025)\\',\\n    \\'snippet\\': \\'Case 2:25-cv-00657   Document 1-3   Filed 08/07/25   PageID.365   Page 1 of 954\\\\n\\\\n\\\\n\\\\n\\\\n                     EXHIBIT 3\\\\n\\\\x0cCase 2:25-cv-00657    Document 1-3     Filed 08/07/25     PageID.366   Page 2 of 954\\\\n                                                                   RECEIVED\\\\n                                                                   March 21, 2025\\\\n                                                                   DIVISION OF OIL, GAS AND MINING\\\\n                                          \\',\\n    \\'file_url\\': \\'https://www.courtlistener.com/docket/71051491/1/3/southern-utah-wilderness-alliance-v-united-states-department-of-the/\\',\\n    \\'entry_date\\': \\'2025-08-07\\',\\n    \\'page_count\\': 954}]},\\n {\\'case_name\\': \\'Ballout v. Radio Free Europe Corporation\\',\\n  \\'docket_url\\': \\'https://www.courtlistener.com/docket/71050301/ballout-v-radio-free-europe-corporation/\\',\\n  \\'date_filed\\': \\'2025-08-06\\',\\n  \\'court\\': \\'District Court, E.D. Michigan\\',\\n  \\'cause\\': \\'No cause code entered\\',\\n  \\'suit_nature\\': \\'320 Assault Libel & Slander\\',\\n  \\'summary\\': \"6 Vg M33-SDK-APP ECF No. 1, PagelD.1 Filed 08/06/25 Page 1 of 9 1 4\\\\n\\\\nMIED ProSe t (Rev 5/16) Complaint for a Civil Case |\\\\n\\\\na)\\\\n\\\\nIN THE UNITED STATES DISTRICT COURT\\\\nFOR THE EASTERN DISTRICT OF MICHIGAN\\\\n\\\\n3\\\\n\\\\n\\' Case: 4:25-cv—-12433 | | |\\\\nAssigned To : Kumar, Shalina D.\\\\n\\\\nReferral Judge: Patti, Anthony P. . |\\\\n\\\\n. \\\\\\\\ | Assign. Date : 8/6/2025 |\\\\n(3 eny AMV & a 0 ur, BALLOUT V. RADIO FREE EUROPEIRADIO LISERT\\\\nPO Se INC. (CMP)(CMC) 3 rt nd,\\\\n(Write the full name of each plaintiff who is filing this complaint. \",\\n  \\'documents\\': [{\\'document_number\\': 1,\\n    \\'description\\': \\'COMPLAINT filed by Benjamin Ballout against All Defendants Receipt No: Awaiting Receipt # - Fee: $ 405. (Attachments: # 1 Exhibit, # 2 Exhibit) (CShr) (Entered: 08/07/2025)\\',\\n    \\'snippet\\': \"6 Vg M33-SDK-APP ECF No. 1, PagelD.1 Filed 08/06/25 Page 1 of 9 1 4\\\\n\\\\nMIED ProSe t (Rev 5/16) Complaint for a Civil Case |\\\\n\\\\na)\\\\n\\\\nIN THE UNITED STATES DISTRICT COURT\\\\nFOR THE EASTERN DISTRICT OF MICHIGAN\\\\n\\\\n3\\\\n\\\\n\\' Case: 4:25-cv—-12433 | | |\\\\nAssigned To : Kumar, Shalina D.\\\\n\\\\nReferral Judge: Patti, Anthony P. . |\\\\n\\\\n. \\\\\\\\ | Assign. Date : 8/6/2025 |\\\\n(3 eny AMV & a 0 ur, BALLOUT V. RADIO FREE EUROPEIRADIO LISERT\\\\nPO Se INC. (CMP)(CMC) 3 rt nd,\\\\n(Write the full name of each plaintiff who is filing this complaint. \",\\n    \\'file_url\\': \\'https://www.courtlistener.com/docket/71050301/1/ballout-v-radio-free-europe-corporation/\\',\\n    \\'entry_date\\': \\'2025-08-07\\',\\n    \\'page_count\\': 9}]},\\n {\\'case_name\\': \\'Troost v. The Arkin Group DE LLC d/b/a The Arkin Group\\',\\n  \\'docket_url\\': \\'https://www.courtlistener.com/docket/71046667/troost-v-the-arkin-group-de-llc-dba-the-arkin-group/\\',\\n  \\'date_filed\\': \\'2025-08-06\\',\\n  \\'court\\': \\'District Court, S.D. New York\\',\\n  \\'cause\\': \\'28:1332lb Diversity-Libel, Assault, Slander\\',\\n  \\'suit_nature\\': \\'320 Assault Libel & Slander\\',\\n  \\'summary\\': \\'            Case 1:25-cv-06487       Document 1      Filed 08/06/25      Page 1 of 108\\\\n\\\\n\\\\n\\\\n                          UNITED STATES DISTRICT COURT\\\\n                     FOR THE SOUTHERN DISTRICT OF NEW YORK\\\\n\\\\nNIELS TROOST,\\\\n\\\\n                       Plaintiff,\\\\n\\\\n       v.                                              Civ. No. 25-CV-6487\\\\n\\\\nTHE ARKIN GROUP DE LLC D/B/A THE                       JURY TRIAL DEMANDED\\\\nARKIN GROUP, AND VICTORIA KATAOKA,\\\\n\\\\n\\\\n                       Defendants.\\\\n\\\\n                     \\',\\n  \\'documents\\': [{\\'document_number\\': 1,\\n    \\'description\\': \\'COMPLAINT against Victoria Kataoka, The Arkin Group DE LLC d/b/a The Arkin Group. (Filing Fee $ 405.00, Receipt Number ANYSDC-31495823)Document filed by Niels Troost. (Attachments: # 1 Exhibit 01 - 20230503 Audio Recording, # 2 Exhibit 02 - 20230503 Audio Recording, # 3 Exhibit 03 - 20230503 Audio Recording, # 4 Exhibit 04 - 20230503 Audio Recording, # 5 Exhibit 05 - 20230503 Audio Recording, # 6 Exhibit 06 - 20230504 Audio Recording, # 7 Exhibit 07 - 20230504 Audio Recording, # 8 Exhibit 08 - 20230504 Audio Recording, # 9 Exhibit 09 - 20230504 Audio Recording, # 10 Exhibit 10 - 20230505 Audio Recording, # 11 Exhibit 11 - 20230505 Audio Recording, # 12 Exhibit 12 - 20230506 Audio Recording, # 13 Exhibit 13 - 20230506 Audio Recording, # 14 Exhibit 14 - 20230506 Audio Recording, # 15 Exhibit 15 - 20230508 Audio Recording, # 16 Exhibit 16 - 20230508 Audio Recording, # 17 Exhibit 17 - 20230508 Audio Recording, # 18 Exhibit 18 - 20230508 Audio Recording, # 19 Exhibit 19 - 20230508 Audio Recording, # 20 Exhibit 20 - 20230508 Audio Recording, # 21 Exhibit 21 - 20230508 Audio Recording, # 22 Exhibit 22 - Affidavit of O. Bamba, # 23 Exhibit 23 - Declaration of I. Camara, # 24 Exhibit 24 - Affidavit of C. Hinn, # 25 Exhibit 25 - Affidavit of A. Kagimu, # 26 Exhibit 26 - Affidavit of J. Reese, # 27 Exhibit 27 - First Suppl. Affidavit of J. Reese, # 28 Exhibit 28 - Affidavit of G. Smith, # 29 Exhibit 29 - Affidavit of M. Taylor, # 30 Exhibit 30 - Affidavit of J. Wasem, # 31 Exhibit 31 - 20230508 Baker Hostetler Memo, # 32 Exhibit 32 - 20230508 Baker Hostetler Memo, # 33 Exhibit 33 - 20241202 OffshoreAlert Transcript, # 34 Exhibit 34 - 20250504 Targeted Transcript, # 35 Exhibit 35 - Affidavit of R. Luisier, # 36 Exhibit 36 - Affidavit of F. Mauron, # 37 Exhibit 37 - 20210814 Ltr from H. Alfadit to Srivastava, # 38 Exhibit 38 - 20220607 Ltr from Srivastava to Degalo, # 39 Exhibit 39 - 20230520 J. Maguire text messages).(Brechbill, Nicholas) (Entered: 08/06/2025)\\',\\n    \\'snippet\\': \\'            Case 1:25-cv-06487       Document 1      Filed 08/06/25      Page 1 of 108\\\\n\\\\n\\\\n\\\\n                          UNITED STATES DISTRICT COURT\\\\n                     FOR THE SOUTHERN DISTRICT OF NEW YORK\\\\n\\\\nNIELS TROOST,\\\\n\\\\n                       Plaintiff,\\\\n\\\\n       v.                                              Civ. No. 25-CV-6487\\\\n\\\\nTHE ARKIN GROUP DE LLC D/B/A THE                       JURY TRIAL DEMANDED\\\\nARKIN GROUP, AND VICTORIA KATAOKA,\\\\n\\\\n\\\\n                       Defendants.\\\\n\\\\n                     \\',\\n    \\'file_url\\': \\'https://www.courtlistener.com/docket/71046667/1/troost-v-the-arkin-group-de-llc-dba-the-arkin-group/\\',\\n    \\'entry_date\\': \\'2025-08-06\\',\\n    \\'page_count\\': 108}]},\\n {\\'case_name\\': \\'Yaghobyan v. County of Los Angeles\\',\\n  \\'docket_url\\': \\'https://www.courtlistener.com/docket/71044881/yaghobyan-v-county-of-los-angeles/\\',\\n  \\'date_filed\\': \\'2025-08-06\\',\\n  \\'court\\': \\'United States Bankruptcy Court, C.D. California\\',\\n  \\'cause\\': \\'\\',\\n  \\'suit_nature\\': \\'\\',\\n  \\'summary\\': \\'Case 2:25-ap-01335-DS Doc1 Filed 08/06/25 -Entered 08/06/25 15:40:46 Desc\\\\nMain Document Page 1 of 24\\\\n\\\\nHASMIK YAGHOBYAN : FILED\\\\n2241 Flintridge Drive\\\\nGlendale, CA 91206 . AUG 0 6 2025\\\\nTel: (818) 641-9514\\\\ne-mail: hasoyaghob@rocketmail.com CENTRAL BHI OC AAUESHA a\\\\n. LS\\\\nDebtor in Pro Per\\\\nUNITED STATES BANKRUPTCY COURT\\\\nCENTRAL DISTRICT OF CALIFORNIA\\\\nLOS ANGELES DIVISION\\\\nIn Re:\\\\nHASMIK YAGHOBYAN Case No.: 2:24-bk-17511-DS\\\\nDebtor. Chapter 11\\\\nAdv. No.: 2:24-ap- -DS\\\\nHASMIK YAGHOBYAN\\\\nCOMPLAINT FOR:\\\\nPlainti\\',\\n  \\'documents\\': [{\\'document_number\\': 1,\\n    \\'description\\': \\'\\',\\n    \\'snippet\\': \\'Case 2:25-ap-01335-DS Doc1 Filed 08/06/25 -Entered 08/06/25 15:40:46 Desc\\\\nMain Document Page 1 of 24\\\\n\\\\nHASMIK YAGHOBYAN : FILED\\\\n2241 Flintridge Drive\\\\nGlendale, CA 91206 . AUG 0 6 2025\\\\nTel: (818) 641-9514\\\\ne-mail: hasoyaghob@rocketmail.com CENTRAL BHI OC AAUESHA a\\\\n. LS\\\\nDebtor in Pro Per\\\\nUNITED STATES BANKRUPTCY COURT\\\\nCENTRAL DISTRICT OF CALIFORNIA\\\\nLOS ANGELES DIVISION\\\\nIn Re:\\\\nHASMIK YAGHOBYAN Case No.: 2:24-bk-17511-DS\\\\nDebtor. Chapter 11\\\\nAdv. No.: 2:24-ap- -DS\\\\nHASMIK YAGHOBYAN\\\\nCOMPLAINT FOR:\\\\nPlainti\\',\\n    \\'file_url\\': \\'https://www.courtlistener.com/docket/71044881/1/yaghobyan-v-county-of-los-angeles/\\',\\n    \\'entry_date\\': \\'2025-08-06\\',\\n    \\'page_count\\': 24}]},\\n {\\'case_name\\': \\'Mercy Hospital Liquidation Trust Oversight Committ v. Mercy Health Network, Inc.\\',\\n  \\'docket_url\\': \\'https://www.courtlistener.com/docket/71044327/mercy-hospital-liquidation-trust-oversight-committ-v-mercy-health-network/\\',\\n  \\'date_filed\\': \\'2025-08-06\\',\\n  \\'court\\': \\'United States Bankruptcy Court, N.D. Iowa\\',\\n  \\'cause\\': \\'\\',\\n  \\'suit_nature\\': \\'\\',\\n  \\'summary\\': \\'     Case 23-00623 Doc -1 Filed 08/06/25 Entered 08/06/25 16:56:41 Desc Main\\\\nDocument Complaint for Avoidance and Recovery of Fraudulent Transfers Void Page 1 of 104\\\\n\\\\n\\\\n\\\\n                                UNITED STATES BANKRUPTCY COURT\\\\n                                   NORTHERN DISTRICT OF IOWA\\\\n\\\\n\\\\n     In re:                                                 Chapter 11\\\\n\\\\n     MERCY HOSPITAL, IOWA CITY, IOWA, et al.,               Case No. 23-00623 (TJC)\\\\n\\\\n                                   Debtors.     \\',\\n  \\'documents\\': [{\\'document_number\\': 1,\\n    \\'description\\': \\'Adversary case 25-09117. Complaint by Mercy Hospital Liquidation Trust Oversight Committee as designee of the Liquidation Trustee against Mercy Health Network, Inc. Fee Amount $350 Fee PAID. (Attachments: (1) Main Document Complaint for Avoidance and Recovery of Fraudulent Transfers, Voidable Transfers, Breach of Contract, Unjust Enrichment, Negligent Misrepresentation, Breach of Fiduciary Duties, and Other Relief (2) Exhibit 1 (3) Exhibit 2 (4) Exhibit 3 (5) Exhibit 4 (6) Exhibit 5) (12 (Recovery of money/property - 547 preference)),(13 (Recovery of money/property - 548 fraudulent transfer)),(02 (Other (e.g. other actions that would have been brought in state court if unrelated to bankruptcy))) (Leaf, Roy)\\',\\n    \\'snippet\\': \\'     Case 23-00623 Doc -1 Filed 08/06/25 Entered 08/06/25 16:56:41 Desc Main\\\\nDocument Complaint for Avoidance and Recovery of Fraudulent Transfers Void Page 1 of 104\\\\n\\\\n\\\\n\\\\n                                UNITED STATES BANKRUPTCY COURT\\\\n                                   NORTHERN DISTRICT OF IOWA\\\\n\\\\n\\\\n     In re:                                                 Chapter 11\\\\n\\\\n     MERCY HOSPITAL, IOWA CITY, IOWA, et al.,               Case No. 23-00623 (TJC)\\\\n\\\\n                                   Debtors.     \\',\\n    \\'file_url\\': \\'https://www.courtlistener.com/docket/71044327/1/1/mercy-hospital-liquidation-trust-oversight-committ-v-mercy-health-network/\\',\\n    \\'entry_date\\': \\'2025-08-06\\',\\n    \\'page_count\\': 104}]},\\n {\\'case_name\\': \\'Federal Trade Commission v. MediaAlpha, Inc.\\',\\n  \\'docket_url\\': \\'https://www.courtlistener.com/docket/71043671/federal-trade-commission-v-mediaalpha-inc/\\',\\n  \\'date_filed\\': \\'2025-08-06\\',\\n  \\'court\\': \\'District Court, C.D. California\\',\\n  \\'cause\\': \\'15:0045 Federal Trade Commission Act\\',\\n  \\'suit_nature\\': \\'890 Other Statutory Actions\\',\\n  \\'summary\\': \\'       Case 2:25-cv-07263   Document 1   Filed 08/06/25   Page 1 of 53 Page ID #:1\\\\n\\\\n\\\\n\\\\n\\\\n     MATTHEW G. SCHILTZ (pro hac vice forthcoming)\\\\n1    mschiltz@ftc.gov\\\\n2    RACHEL GRANETZ (pro hac vice forthcoming)\\\\n     rgranetz@ftc.gov\\\\n3    FEDERAL TRADE COMMISSION\\\\n     230 South Dearborn Street, Suite 3030\\\\n4    Chicago, IL 60604\\\\n5    Telephone: (312) 960-5619 (Schiltz)\\\\n     Telephone: (312) 960-5620 (Granetz)\\\\n6\\\\n   Local Counsel:\\\\n7  DAVID L. HANKIN (CA BAR NO. 319825)\\\\n8 dhankin@ftc.gov\\\\n   FEDERAL TRADE\\',\\n  \\'documents\\': [{\\'document_number\\': 1,\\n    \\'description\\': \\'COMPLAINT No Fee Required - US Government, filed by Plaintiff Federal Trade Commission. (Attorney David Louis Hankin added to party Federal Trade Commission(pty:pla))(Hankin, David) (Entered: 08/06/2025)\\',\\n    \\'snippet\\': \\'       Case 2:25-cv-07263   Document 1   Filed 08/06/25   Page 1 of 53 Page ID #:1\\\\n\\\\n\\\\n\\\\n\\\\n     MATTHEW G. SCHILTZ (pro hac vice forthcoming)\\\\n1    mschiltz@ftc.gov\\\\n2    RACHEL GRANETZ (pro hac vice forthcoming)\\\\n     rgranetz@ftc.gov\\\\n3    FEDERAL TRADE COMMISSION\\\\n     230 South Dearborn Street, Suite 3030\\\\n4    Chicago, IL 60604\\\\n5    Telephone: (312) 960-5619 (Schiltz)\\\\n     Telephone: (312) 960-5620 (Granetz)\\\\n6\\\\n   Local Counsel:\\\\n7  DAVID L. HANKIN (CA BAR NO. 319825)\\\\n8 dhankin@ftc.gov\\\\n   FEDERAL TRADE\\',\\n    \\'file_url\\': \\'https://www.courtlistener.com/docket/71043671/1/federal-trade-commission-v-mediaalpha-inc/\\',\\n    \\'entry_date\\': \\'2025-08-06\\',\\n    \\'page_count\\': 53}]},\\n {\\'case_name\\': \\'Ndizeye v. City of San Diego, Vlad Grem, (Does 1 - 10, inclusive)\\',\\n  \\'docket_url\\': \\'https://www.courtlistener.com/docket/71043547/ndizeye-v-city-of-san-diego-vlad-grem-does-1-10-inclusive/\\',\\n  \\'date_filed\\': \\'2025-08-06\\',\\n  \\'court\\': \\'District Court, N.D. Texas\\',\\n  \\'cause\\': \\'\\',\\n  \\'suit_nature\\': \\'\\',\\n  \\'summary\\': \\'fe |\\\\n\\\\nCase 2:25-cv-00176-Z Document3 _ Filed 08/06/25 Pagelof20 PagelD5\\\\n\\\\nPlaintiff: Daniel Ndizeye\\\\nAddress: 711 51st St, San Diego, CA 92114-1001, USA\\\\n\\\\nEmail: danislndiseyel 00¢@email.com | 2 - 2 5 C Vv - 1 \"7 6 ™ Z\\\\n\\\\nUNITED STATES DISTRICT COURT NORTHERN DISTRICT OF TEXAS, AMARILLO DIVISION\\\\n\\\\nCITY OF SAN DIEGO, VLAD GREM, (DOES\\\\n1-10, inclusive), (In Their Official Capacity),\\\\n\\\\nJUDGE CAROLYN CAIETTI, VLAD GREM,\\\\nDANIEL NDIZEYE (In Their Official Capacity),\\\\n\\\\nPlaintiff... GAVIN CHRISTOPHER NEWSOM,\\\\nMOL\\',\\n  \\'documents\\': [{\\'document_number\\': 3,\\n    \\'description\\': \\'\\',\\n    \\'snippet\\': \\'fe |\\\\n\\\\nCase 2:25-cv-00176-Z Document3 _ Filed 08/06/25 Pagelof20 PagelD5\\\\n\\\\nPlaintiff: Daniel Ndizeye\\\\nAddress: 711 51st St, San Diego, CA 92114-1001, USA\\\\n\\\\nEmail: danislndiseyel 00¢@email.com | 2 - 2 5 C Vv - 1 \"7 6 ™ Z\\\\n\\\\nUNITED STATES DISTRICT COURT NORTHERN DISTRICT OF TEXAS, AMARILLO DIVISION\\\\n\\\\nCITY OF SAN DIEGO, VLAD GREM, (DOES\\\\n1-10, inclusive), (In Their Official Capacity),\\\\n\\\\nJUDGE CAROLYN CAIETTI, VLAD GREM,\\\\nDANIEL NDIZEYE (In Their Official Capacity),\\\\n\\\\nPlaintiff... GAVIN CHRISTOPHER NEWSOM,\\\\nMOL\\',\\n    \\'file_url\\': \\'https://www.courtlistener.com/docket/71043547/3/ndizeye-v-city-of-san-diego-vlad-grem-does-1-10-inclusive/\\',\\n    \\'entry_date\\': \\'2025-08-06\\',\\n    \\'page_count\\': 20}]},\\n {\\'case_name\\': \\'HOLDEN v. AMERICAN MEDICAL RESPONSE MID-ATLANTIC, INC.\\',\\n  \\'docket_url\\': \\'https://www.courtlistener.com/docket/71043409/holden-v-american-medical-response-mid-atlantic-inc/\\',\\n  \\'date_filed\\': \\'2025-08-06\\',\\n  \\'court\\': \\'District Court, E.D. Pennsylvania\\',\\n  \\'cause\\': \\'42:1981 Job Discrimination (Race)\\',\\n  \\'suit_nature\\': \\'442 Civil Rights: Employment\\',\\n  \\'summary\\': \\'JS 44 (Rev. 04/21)          Case 2:25-cv-04498-KSM\\\\n                                                CIVILDocument\\\\n                                                      COVER1SHEET\\\\n                                                              Filed 08/06/25                                                                       Page 1 of 16\\\\nThe JS 44 civil cover sheet and the information contained herein neither replace nor supplement the filing and service of pleadings or other papers as required b\\',\\n  \\'documents\\': [{\\'document_number\\': 1,\\n    \\'description\\': \\'COMPLAINT WITH JURY DEMAND against AMERICAN MEDICAL RESPONSE MID-ATLANTIC, INC. ( Filing fee $ 405 receipt number APAEDC-18492677.), filed by RAKETA HOLDEN.(GOLD, SIDNEY) (Entered: 08/06/2025)\\',\\n    \\'snippet\\': \\'JS 44 (Rev. 04/21)          Case 2:25-cv-04498-KSM\\\\n                                                CIVILDocument\\\\n                                                      COVER1SHEET\\\\n                                                              Filed 08/06/25                                                                       Page 1 of 16\\\\nThe JS 44 civil cover sheet and the information contained herein neither replace nor supplement the filing and service of pleadings or other papers as required b\\',\\n    \\'file_url\\': \\'https://www.courtlistener.com/docket/71043409/1/holden-v-american-medical-response-mid-atlantic-inc/\\',\\n    \\'entry_date\\': \\'2025-08-06\\',\\n    \\'page_count\\': 16}]},\\n {\\'case_name\\': \\'GMR Holdings of NH, LLC v. Madison, NH, Town of\\',\\n  \\'docket_url\\': \\'https://www.courtlistener.com/docket/71042808/gmr-holdings-of-nh-llc-v-madison-nh-town-of/\\',\\n  \\'date_filed\\': \\'2025-08-06\\',\\n  \\'court\\': \\'District Court, D. New Hampshire\\',\\n  \\'cause\\': \\'47:332 Federal Telecommunications Act of 1996\\',\\n  \\'suit_nature\\': \\'890 Other Statutory Actions\\',\\n  \\'summary\\': \\'                                    Case 1:25-cv-00292                              Document 1-1                    Filed 08/06/25                       Page 1 of 1\\\\nJS 44 (Rev. 03/24)                                                            CIVIL COVER SHEET\\\\nThe JS 44 civil cover sheet and the information contained herein neither replace nor supplement the filing and service of pleadings or other papers as required by law, except as\\\\nprovided by local rules of court. This fonn, approved by the \\',\\n  \\'documents\\': [{\\'document_number\\': 1,\\n    \\'description\\': \\'NEW CASE/ COMPLAINT Filing fee $ 405, receipt number ANHDC-2664486 filed by GMR Holdings of NH, LLC. (Attachments: # 1 Civil Cover Sheet, # 2 Summons - Waiver, # 3 Summons - Waiver)(Springer, Jonathan) (Entered: 08/06/2025)\\',\\n    \\'snippet\\': \\'                                    Case 1:25-cv-00292                              Document 1-1                    Filed 08/06/25                       Page 1 of 1\\\\nJS 44 (Rev. 03/24)                                                            CIVIL COVER SHEET\\\\nThe JS 44 civil cover sheet and the information contained herein neither replace nor supplement the filing and service of pleadings or other papers as required by law, except as\\\\nprovided by local rules of court. This fonn, approved by the \\',\\n    \\'file_url\\': \\'https://www.courtlistener.com/docket/71042808/1/1/gmr-holdings-of-nh-llc-v-madison-nh-town-of/\\',\\n    \\'entry_date\\': \\'2025-08-06\\',\\n    \\'page_count\\': 1}]},\\n {\\'case_name\\': \\'HENRY v. BAPTIST HEALTH SOUTH FLORIDA, INC.\\',\\n  \\'docket_url\\': \\'https://www.courtlistener.com/docket/71042507/henry-v-baptist-health-south-florida-inc/\\',\\n  \\'date_filed\\': \\'2025-08-06\\',\\n  \\'court\\': \\'District Court, S.D. Florida\\',\\n  \\'cause\\': \\'\\',\\n  \\'suit_nature\\': \\'\\',\\n  \\'summary\\': \\'Case 1:25-cv-23528-DSL Document 1 Entered on FLSD Docket 08/06/2025 Page 1 of 58\\\\n\\\\n\\\\n\\\\n\\\\n                          IN THE UNITED STATES DISTRICT COURT\\\\n                              SOUTHERN DISTRICT OF FLORIDA\\\\n\\\\n\\\\n     SARAH HENRY and JOEL GILIO,\\\\n     individually and on behalf of all others\\\\n     similarly situated;                                Case No.:\\\\n\\\\n                               Plaintiffs,              COMPLAINT-CLASS ACTION\\\\n\\\\n     v.                                                 JURY TRIAL\\',\\n  \\'documents\\': [{\\'document_number\\': 1,\\n    \\'description\\': \\'\\',\\n    \\'snippet\\': \\'Case 1:25-cv-23528-DSL Document 1 Entered on FLSD Docket 08/06/2025 Page 1 of 58\\\\n\\\\n\\\\n\\\\n\\\\n                          IN THE UNITED STATES DISTRICT COURT\\\\n                              SOUTHERN DISTRICT OF FLORIDA\\\\n\\\\n\\\\n     SARAH HENRY and JOEL GILIO,\\\\n     individually and on behalf of all others\\\\n     similarly situated;                                Case No.:\\\\n\\\\n                               Plaintiffs,              COMPLAINT-CLASS ACTION\\\\n\\\\n     v.                                                 JURY TRIAL\\',\\n    \\'file_url\\': \\'https://www.courtlistener.com/docket/71042507/1/henry-v-baptist-health-south-florida-inc/\\',\\n    \\'entry_date\\': \\'2025-08-06\\',\\n    \\'page_count\\': 58}]},\\n {\\'case_name\\': \\'Green v. Turn Key Health Clinics, LLC\\',\\n  \\'docket_url\\': \\'https://www.courtlistener.com/docket/71042179/green-v-turn-key-health-clinics-llc/\\',\\n  \\'date_filed\\': \\'2025-08-06\\',\\n  \\'court\\': \\'District Court, N.D. Oklahoma\\',\\n  \\'cause\\': \\'42:1983 Civil Rights Act\\',\\n  \\'suit_nature\\': \\'440 Civil Rights: Other\\',\\n  \\'summary\\': \\'Case 4:25-cv-00412-CDL         Document 2 Filed in USDC ND/OK on 08/06/25                 Page 1 of 48\\\\n\\\\n\\\\n\\\\n\\\\n                       IN THE UNITED STATES DISTRICT COURT\\\\n                     FOR THE NORTHERN DISTRICT OF OKLAHOMA\\\\n\\\\n (1) PATRICE GREEN, as Special Administratrix )\\\\n of the Estate of MONTOYA HOLMES, deceased, )\\\\n                                              )\\\\n         Plaintiff,                           )\\\\n                                              )\\\\n v.                                 \\',\\n  \\'documents\\': [{\\'document_number\\': 2,\\n    \\'description\\': \\'COMPLAINT with Jury Demand against All Defendants (paid $405 filing fee; receipt number AOKNDC-3257931) by Patrice Green (Smolen, Daniel) (Entered: 08/06/2025)\\',\\n    \\'snippet\\': \\'Case 4:25-cv-00412-CDL         Document 2 Filed in USDC ND/OK on 08/06/25                 Page 1 of 48\\\\n\\\\n\\\\n\\\\n\\\\n                       IN THE UNITED STATES DISTRICT COURT\\\\n                     FOR THE NORTHERN DISTRICT OF OKLAHOMA\\\\n\\\\n (1) PATRICE GREEN, as Special Administratrix )\\\\n of the Estate of MONTOYA HOLMES, deceased, )\\\\n                                              )\\\\n         Plaintiff,                           )\\\\n                                              )\\\\n v.                                 \\',\\n    \\'file_url\\': \\'https://www.courtlistener.com/docket/71042179/2/green-v-turn-key-health-clinics-llc/\\',\\n    \\'entry_date\\': \\'2025-08-06\\',\\n    \\'page_count\\': 48}]},\\n {\\'case_name\\': \"Claire\\'s Holdings LLC\",\\n  \\'docket_url\\': \\'https://www.courtlistener.com/docket/71035961/claires-holdings-llc/\\',\\n  \\'date_filed\\': \\'2025-08-06\\',\\n  \\'court\\': \\'United States Bankruptcy Court, D. Delaware\\',\\n  \\'cause\\': \\'\\',\\n  \\'suit_nature\\': \\'\\',\\n  \\'summary\\': \\'                   Case 25-11454-BLS              Doc 27       Filed 08/06/25         Page 1 of 45\\\\n\\\\n\\\\n\\\\n\\\\n                          IN THE UNITED STATES BANKRUPTCY COURT\\\\n                               FOR THE DISTRICT OF DELAWARE\\\\n\\\\n                                                                )\\\\n    In re:                                                      )        Chapter 11\\\\n                                                                )\\\\n    CLAIRE’S HOLDINGS LLC, et al.,1                     \\',\\n  \\'documents\\': [{\\'document_number\\': 27,\\n    \\'description\\': \"Affidavit/Declaration in Support of First Day Motion (Declaration of Chris Cramer, Chief Executive Officer, Chief Operating Officer, and Chief Financial Officer of Claire\\'s Holdings LLC and Certain of its Affiliates, in Support of the Debtors\\' Chapter 11 Petitions and First Day Pleadings) Filed By Claire\\'s Holdings LLC (Shapiro, Zachary) (Entered: 08/06/2025)\",\\n    \\'snippet\\': \\'                   Case 25-11454-BLS              Doc 27       Filed 08/06/25         Page 1 of 45\\\\n\\\\n\\\\n\\\\n\\\\n                          IN THE UNITED STATES BANKRUPTCY COURT\\\\n                               FOR THE DISTRICT OF DELAWARE\\\\n\\\\n                                                                )\\\\n    In re:                                                      )        Chapter 11\\\\n                                                                )\\\\n    CLAIRE’S HOLDINGS LLC, et al.,1                     \\',\\n    \\'file_url\\': \\'https://www.courtlistener.com/docket/71035961/27/claires-holdings-llc/\\',\\n    \\'entry_date\\': \\'2025-08-06\\',\\n    \\'page_count\\': 45}]},\\n {\\'case_name\\': \\'BAPTISTE v. SEQUOIA CAPITAL OPERATIONS, LLC\\',\\n  \\'docket_url\\': \\'https://www.courtlistener.com/docket/71044231/baptiste-v-sequoia-capital-operations-llc/\\',\\n  \\'date_filed\\': \\'2025-08-05\\',\\n  \\'court\\': \\'District Court, District of Columbia\\',\\n  \\'cause\\': \\'\\',\\n  \\'suit_nature\\': \\'\\',\\n  \\'summary\\': \\'       Case 1:25-cv-02566-UNA   Document 1        Filed 08/05/25   Page 1 of 292\\\\n\\\\n\\\\n\\\\n\\\\n1    AMBER BAPTISTE\\\\n     Propia Persona\\\\n2\\\\n     8306 #2020 WILSHIRE BLVD\\\\n3    LOS ANGELES, CALIFORINA 90211\\\\n4\\\\n     PH: 424-533-4363\\\\n     Amberslitigation@gmail.com\\\\n5\\\\n\\\\n6\\\\n\\\\n7                         UNITED STATES DISTRICT COURT\\\\n8\\\\n                                     FOR\\\\n9                          THE DISTRICT OF COLUMBIA\\\\n10\\\\n\\\\n11\\\\n\\\\n12\\\\n\\\\n13\\\\n\\\\n14    Amber Baptiste,                         )\\\\n                                \\',\\n  \\'documents\\': [{\\'document_number\\': 1,\\n    \\'description\\': \\'\\',\\n    \\'snippet\\': \\'       Case 1:25-cv-02566-UNA   Document 1        Filed 08/05/25   Page 1 of 292\\\\n\\\\n\\\\n\\\\n\\\\n1    AMBER BAPTISTE\\\\n     Propia Persona\\\\n2\\\\n     8306 #2020 WILSHIRE BLVD\\\\n3    LOS ANGELES, CALIFORINA 90211\\\\n4\\\\n     PH: 424-533-4363\\\\n     Amberslitigation@gmail.com\\\\n5\\\\n\\\\n6\\\\n\\\\n7                         UNITED STATES DISTRICT COURT\\\\n8\\\\n                                     FOR\\\\n9                          THE DISTRICT OF COLUMBIA\\\\n10\\\\n\\\\n11\\\\n\\\\n12\\\\n\\\\n13\\\\n\\\\n14    Amber Baptiste,                         )\\\\n                                \\',\\n    \\'file_url\\': \\'https://www.courtlistener.com/docket/71044231/1/baptiste-v-sequoia-capital-operations-llc/\\',\\n    \\'entry_date\\': \\'2025-08-05\\',\\n    \\'page_count\\': 292}]},\\n {\\'case_name\\': \\'Yunus v. Detroit, City of\\',\\n  \\'docket_url\\': \\'https://www.courtlistener.com/docket/71040360/yunus-v-detroit-city-of/\\',\\n  \\'date_filed\\': \\'2025-08-05\\',\\n  \\'court\\': \\'District Court, E.D. Michigan\\',\\n  \\'cause\\': \\'No cause code entered\\',\\n  \\'suit_nature\\': \\'440 Civil Rights: Other\\',\\n  \\'summary\\': \\'Y\\\\n\\\\nCase 2:25-cv-12417-BRM-EAS ECF No. 1, PagelD. fF OARS pagel of 42\\\\n\\\\nReferral Judge: Stafford, Elizabeth A.\\\\nAssign. Date : 8/5/2025\\\\n\\\\nDescription: CMP RAMZU YUNUS\\\\nV. CITY OF DETROIT ET AL (JB)\\\\n\\\\nIN THE UNITED STATES DISi news CUUnt\\\\nFOR THE EASTERN DISTRICT OF MICHIGAN\\\\n\\\\nRamzu Yunus, individually and on behalf of all others similarly situated,\\\\nPlaintiff,\\\\n\\\\nCity of Detroit; Detroit Land Bank Authority; Wayne County Treasurer; Detroit Police\\\\nDepartment; and John Does 1-50,\\\\nDefendants.\\\\n\\\\nCLASS ACTION CO\\',\\n  \\'documents\\': [{\\'document_number\\': 1,\\n    \\'description\\': \\'COMPLAINT filed by Ramzu Yunus against All Defendants. (CShr) (Entered: 08/06/2025)\\',\\n    \\'snippet\\': \\'Y\\\\n\\\\nCase 2:25-cv-12417-BRM-EAS ECF No. 1, PagelD. fF OARS pagel of 42\\\\n\\\\nReferral Judge: Stafford, Elizabeth A.\\\\nAssign. Date : 8/5/2025\\\\n\\\\nDescription: CMP RAMZU YUNUS\\\\nV. CITY OF DETROIT ET AL (JB)\\\\n\\\\nIN THE UNITED STATES DISi news CUUnt\\\\nFOR THE EASTERN DISTRICT OF MICHIGAN\\\\n\\\\nRamzu Yunus, individually and on behalf of all others similarly situated,\\\\nPlaintiff,\\\\n\\\\nCity of Detroit; Detroit Land Bank Authority; Wayne County Treasurer; Detroit Police\\\\nDepartment; and John Does 1-50,\\\\nDefendants.\\\\n\\\\nCLASS ACTION CO\\',\\n    \\'file_url\\': \\'https://www.courtlistener.com/docket/71040360/1/yunus-v-detroit-city-of/\\',\\n    \\'entry_date\\': \\'2025-08-05\\',\\n    \\'page_count\\': 42}]},\\n {\\'case_name\\': \\'SandP Solutions LLC, dba Bitcoin of America of America\\',\\n  \\'docket_url\\': \\'https://www.courtlistener.com/docket/71035441/sandp-solutions-llc-dba-bitcoin-of-america-of-america/\\',\\n  \\'date_filed\\': \\'2025-08-05\\',\\n  \\'court\\': \\'United States Bankruptcy Court, N.D. Illinois\\',\\n  \\'cause\\': \\'\\',\\n  \\'suit_nature\\': \\'\\',\\n  \\'summary\\': \\'                    Case 25-11977            Doc 1       Filed 08/05/25 Entered 08/05/25 21:38:13                            Desc Main\\\\n                                                          Document     Page 1 of 101\\\\n\\\\nFill in this information to identify the case:\\\\n\\\\nUnited States Bankruptcy Court for the:\\\\n\\\\nNORTHERN DISTRICT OF ILLINOIS\\\\n\\\\nCase number (if known)                                                     Chapter       7\\\\n                                                                    \\',\\n  \\'documents\\': [{\\'document_number\\': 1,\\n    \\'description\\': \"Chapter 7 Voluntary Petition for Non-Individual Fee Amount $338, Filed by Steve Jakubowski on behalf of SandP Solutions LLC, dba Bitcoin of America (Jakubowski, Steve) Modified on 8/6/2025 to correct debtor\\'s name (VG). (Entered: 08/05/2025)\",\\n    \\'snippet\\': \\'                    Case 25-11977            Doc 1       Filed 08/05/25 Entered 08/05/25 21:38:13                            Desc Main\\\\n                                                          Document     Page 1 of 101\\\\n\\\\nFill in this information to identify the case:\\\\n\\\\nUnited States Bankruptcy Court for the:\\\\n\\\\nNORTHERN DISTRICT OF ILLINOIS\\\\n\\\\nCase number (if known)                                                     Chapter       7\\\\n                                                                    \\',\\n    \\'file_url\\': \\'https://www.courtlistener.com/docket/71035441/1/sandp-solutions-llc-dba-bitcoin-of-america/\\',\\n    \\'entry_date\\': \\'2025-08-05\\',\\n    \\'page_count\\': 101}]},\\n {\\'case_name\\': \\'Burns v. Fragile, Inc.\\',\\n  \\'docket_url\\': \\'https://www.courtlistener.com/docket/71033918/burns-v-fragile-inc/\\',\\n  \\'date_filed\\': \\'2025-08-05\\',\\n  \\'court\\': \\'District Court, N.D. California\\',\\n  \\'cause\\': \\'18:1962 Racketeering (RICO) Act\\',\\n  \\'suit_nature\\': \\'470 Racketeer/Corrupt Organization\\',\\n  \\'summary\\': \\'               Case 3:25-cv-06604        Document 1     Filed 08/05/25     Page 1 of 84\\\\n\\\\n\\\\n\\\\n\\\\n      JOSEPH W. COTCHETT, Cal. Bar No. 36324          Mark S. Reich (pro hac vice pending)\\\\n 1    THOMAS E. LOESER, Cal. Bar No. 202724           Michael N. Pollack (pro hac vice pending)\\\\n 2    COTCHETT, PITRE & MCCARTHY, LLP                 LEVI & KORSINSKY, LLP\\\\n      840 Malcom Road                                 33 Whitehall Street, Floor 17\\\\n 3    Burlingame, CA 94010                            New Yor\\',\\n  \\'documents\\': [{\\'document_number\\': 1,\\n    \\'description\\': \\'COMPLAINT against Fragile, Inc., NZXT, INC. ( Filing fee $ 405, receipt number ACANDC-20975290.). Filed by Steven Zou, Jonathan Moulton, Jacob Burns. (Attachments: # 1 Civil Cover Sheet, # 2 Summons, # 3 Summons, # 4 Declaration of Steven Zou Re: CLRA Venue)(Loeser, Thomas) (Filed on 8/5/2025) (Entered: 08/05/2025)\\',\\n    \\'snippet\\': \\'               Case 3:25-cv-06604        Document 1     Filed 08/05/25     Page 1 of 84\\\\n\\\\n\\\\n\\\\n\\\\n      JOSEPH W. COTCHETT, Cal. Bar No. 36324          Mark S. Reich (pro hac vice pending)\\\\n 1    THOMAS E. LOESER, Cal. Bar No. 202724           Michael N. Pollack (pro hac vice pending)\\\\n 2    COTCHETT, PITRE & MCCARTHY, LLP                 LEVI & KORSINSKY, LLP\\\\n      840 Malcom Road                                 33 Whitehall Street, Floor 17\\\\n 3    Burlingame, CA 94010                            New Yor\\',\\n    \\'file_url\\': \\'https://www.courtlistener.com/docket/71033918/1/burns-v-fragile-inc/\\',\\n    \\'entry_date\\': \\'2025-08-05\\',\\n    \\'page_count\\': 84}]}]'}],\n",
       "   'thought': None,\n",
       "   'runTime': 21.121,\n",
       "   'usedCredits': 0.0032454,\n",
       "   'apiCalls': 3,\n",
       "   'task': '',\n",
       "   'policy': None},\n",
       "  {'agent': 'orchestrator',\n",
       "   'input': 'Task:\\nRetrieve summaries and outcomes of the relevant cases\\n\\nContext:\\n<intermediate_steps>\\n    <step number=\"1\">\\n        <agent>Case Finder Agent</agent>\\n        <input>Search for court cases that reference Section 230</input>\\n        <response>Here are some recent court cases that reference Section 230:\\n\\n1. **[JANE DOE v. Deffenbaugh](https://www.courtlistener.com/docket/71060574/jane-doe-v-deffenbaugh/)**  \\n   - **Filed:** 2025-08-08  \\n   - **Court:** District Court, S.D. New York  \\n   - **Summary:** This case involves a civil cover sheet and details related to a diversity-libel, assault, and slander claim.\\n\\n2. **[Ward v. Homeowner Solutions Pros Inc](https://www.courtlistener.com/docket/71059455/ward-v-homeowner-solutions-pros-inc/)**  \\n   - **Filed:** 2025-08-08  \\n   - **Court:** District Court, E.D. Michigan  \\n   - **Summary:** This case includes a complaint filed against Homeowner Solutions Pros Inc with a jury demand.\\n\\n3. **[Peloquin v. Tesla, Inc.](https://www.courtlistener.com/docket/71056233/peloquin-v-tesla-inc-dba-in-california-as-tesla-motors-inc/)**  \\n   - **Filed:** 2025-08-07  \\n   - **Court:** District Court, N.D. California  \\n   - **Summary:** This case involves employment discrimination claims against Tesla, Inc.\\n\\n4. **[National Education Association-New Hampshire v. NH Attorney General](https://www.courtlistener.com/docket/71052463/national-education-association-new-hampshire-v-nh-attorney-general/)**  \\n   - **Filed:** 2025-08-07  \\n   - **Court:** District Court, D. New Hampshire  \\n   - **Summary:** This case involves a civil rights action related to state statutes.\\n\\n5. **[Southern Utah Wilderness Alliance v. United States Department of the Interior](https://www.courtlistener.com/docket/71051491/southern-utah-wilderness-alliance-v-united-states-department-of-the/)**  \\n   - **Filed:** 2025-08-07  \\n   - **Court:** District Court, D. Utah  \\n   - **Summary:** This case involves a complaint for declaratory and injunctive relief against the Department of the Interior.\\n\\nThese cases illustrate various legal challenges and contexts in which Section 230 has been referenced.</response>\\n    </step>\\n</intermediate_steps>\\n\\nUser Request:\\n<chat_history>\\n    <USER>Has Section 230 ever been challenged in court? What was the outcome?</USER>\\n</chat_history>\\n\\nYour goal is to solve the task. Ignore any other task mentioned in the user request or context.',\n",
       "   'output': 'Case Finder Agent(input=\\'Task:\\nRetrieve summaries and outcomes of the relevant cases\\n\\nContext:\\n<intermediate_steps>\\n    <step number=\"1\">\\n        <agent>Case Finder Agent</agent>\\n        <input>Search for court cases that reference Section 230</input>\\n        <response>Here are some recent court cases that reference Section 230:\\n\\n1. **[JANE DOE v. Deffenbaugh](https://www.courtlistener.com/docket/71060574/jane-doe-v-deffenbaugh/)**  \\n   - **Filed:** 2025-08-08  \\n   - **Court:** District Court, S.D. New York  \\n   - **Summary:** This case involves a civil cover sheet and details related to a diversity-libel, assault, and slander claim.\\n\\n2. **[Ward v. Homeowner Solutions Pros Inc](https://www.courtlistener.com/docket/71059455/ward-v-homeowner-solutions-pros-inc/)**  \\n   - **Filed:** 2025-08-08  \\n   - **Court:** District Court, E.D. Michigan  \\n   - **Summary:** This case includes a complaint filed against Homeowner Solutions Pros Inc with a jury demand.\\n\\n3. **[Peloquin v. Tesla, Inc.](https://www.courtlistener.com/docket/71056233/peloquin-v-tesla-inc-dba-in-california-as-tesla-motors-inc/)**  \\n   - **Filed:** 2025-08-07  \\n   - **Court:** District Court, N.D. California  \\n   - **Summary:** This case involves employment discrimination claims against Tesla, Inc.\\n\\n4. **[National Education Association-New Hampshire v. NH Attorney General](https://www.courtlistener.com/docket/71052463/national-education-association-new-hampshire-v-nh-attorney-general/)**  \\n   - **Filed:** 2025-08-07  \\n   - **Court:** District Court, D. New Hampshire  \\n   - **Summary:** This case involves a civil rights action related to state statutes.\\n\\n5. **[Southern Utah Wilderness Alliance v. United States Department of the Interior](https://www.courtlistener.com/docket/71051491/southern-utah-wilderness-alliance-v-united-states-department-of-the/)**  \\n   - **Filed:** 2025-08-07  \\n   - **Court:** District Court, D. Utah  \\n   - **Summary:** This case involves a complaint for declaratory and injunctive relief against the Department of the Interior.\\n\\nThese cases illustrate various legal challenges and contexts in which Section 230 has been referenced.</response>\\n    </step>\\n</intermediate_steps>\\n\\nUser Request:\\n<chat_history>\\n    <USER>Has Section 230 ever been challenged in court? What was the outcome?</USER>\\n</chat_history>\\n\\nYour goal is to solve the task. Ignore any other task mentioned in the user request or context.\\')',\n",
       "   'tool_steps': None,\n",
       "   'thought': '',\n",
       "   'runTime': 0,\n",
       "   'usedCredits': 0,\n",
       "   'apiCalls': 0,\n",
       "   'task': None,\n",
       "   'policy': None},\n",
       "  {'agent': 'Case Finder Agent',\n",
       "   'input': 'Task:\\nRetrieve summaries and outcomes of the relevant cases\\n\\nContext:\\n<intermediate_steps>\\n    <step number=\"1\">\\n        <agent>Case Finder Agent</agent>\\n        <input>Search for court cases that reference Section 230</input>\\n        <response>Here are some recent court cases that reference Section 230:\\n\\n1. **[JANE DOE v. Deffenbaugh](https://www.courtlistener.com/docket/71060574/jane-doe-v-deffenbaugh/)**  \\n   - **Filed:** 2025-08-08  \\n   - **Court:** District Court, S.D. New York  \\n   - **Summary:** This case involves a civil cover sheet and details related to a diversity-libel, assault, and slander claim.\\n\\n2. **[Ward v. Homeowner Solutions Pros Inc](https://www.courtlistener.com/docket/71059455/ward-v-homeowner-solutions-pros-inc/)**  \\n   - **Filed:** 2025-08-08  \\n   - **Court:** District Court, E.D. Michigan  \\n   - **Summary:** This case includes a complaint filed against Homeowner Solutions Pros Inc with a jury demand.\\n\\n3. **[Peloquin v. Tesla, Inc.](https://www.courtlistener.com/docket/71056233/peloquin-v-tesla-inc-dba-in-california-as-tesla-motors-inc/)**  \\n   - **Filed:** 2025-08-07  \\n   - **Court:** District Court, N.D. California  \\n   - **Summary:** This case involves employment discrimination claims against Tesla, Inc.\\n\\n4. **[National Education Association-New Hampshire v. NH Attorney General](https://www.courtlistener.com/docket/71052463/national-education-association-new-hampshire-v-nh-attorney-general/)**  \\n   - **Filed:** 2025-08-07  \\n   - **Court:** District Court, D. New Hampshire  \\n   - **Summary:** This case involves a civil rights action related to state statutes.\\n\\n5. **[Southern Utah Wilderness Alliance v. United States Department of the Interior](https://www.courtlistener.com/docket/71051491/southern-utah-wilderness-alliance-v-united-states-department-of-the/)**  \\n   - **Filed:** 2025-08-07  \\n   - **Court:** District Court, D. Utah  \\n   - **Summary:** This case involves a complaint for declaratory and injunctive relief against the Department of the Interior.\\n\\nThese cases illustrate various legal challenges and contexts in which Section 230 has been referenced.</response>\\n    </step>\\n</intermediate_steps>\\n\\nUser Request:\\n<chat_history>\\n    <USER>Has Section 230 ever been challenged in court? What was the outcome?</USER>\\n</chat_history>\\n\\nYour goal is to solve the task. Ignore any other task mentioned in the user request or context.',\n",
       "   'output': 'Here are some recent court cases that reference Section 230:\\n\\n1. **[JANE DOE v. Deffenbaugh](https://www.courtlistener.com/docket/71060574/jane-doe-v-deffenbaugh/)**  \\n   - **Filed:** 2025-08-08  \\n   - **Court:** District Court, S.D. New York  \\n   - **Summary:** This case involves a civil cover sheet and details related to a diversity-libel, assault, and slander claim.\\n\\n2. **[Ward v. Homeowner Solutions Pros Inc](https://www.courtlistener.com/docket/71059455/ward-v-homeowner-solutions-pros-inc/)**  \\n   - **Filed:** 2025-08-08  \\n   - **Court:** District Court, E.D. Michigan  \\n   - **Summary:** This case includes a complaint filed against Homeowner Solutions Pros Inc with a jury demand.\\n\\n3. **[Peloquin v. Tesla, Inc.](https://www.courtlistener.com/docket/71056233/peloquin-v-tesla-inc-dba-in-california-as-tesla-motors-inc/)**  \\n   - **Filed:** 2025-08-07  \\n   - **Court:** District Court, N.D. California  \\n   - **Summary:** This case involves employment discrimination claims against Tesla, Inc.\\n\\n4. **[National Education Association-New Hampshire v. NH Attorney General](https://www.courtlistener.com/docket/71052463/national-education-association-new-hampshire-v-nh-attorney-general/)**  \\n   - **Filed:** 2025-08-07  \\n   - **Court:** District Court, D. New Hampshire  \\n   - **Summary:** This case involves a civil rights action related to state statutes.\\n\\n5. **[Southern Utah Wilderness Alliance v. United States Department of the Interior](https://www.courtlistener.com/docket/71051491/southern-utah-wilderness-alliance-v-united-states-department-of-the/)**  \\n   - **Filed:** 2025-08-07  \\n   - **Court:** District Court, D. Utah  \\n   - **Summary:** This case involves a complaint for declaratory and injunctive relief against the Department of the Interior.\\n\\nThese cases illustrate various legal challenges and contexts in which Section 230 has been referenced.',\n",
       "   'tool_steps': [],\n",
       "   'thought': None,\n",
       "   'runTime': 20.445,\n",
       "   'usedCredits': 0.0005091,\n",
       "   'apiCalls': 1,\n",
       "   'task': '',\n",
       "   'policy': None},\n",
       "  {'agent': 'orchestrator',\n",
       "   'input': 'All steps were addressed.',\n",
       "   'output': \"FINISH(input='All steps were addressed.')\",\n",
       "   'tool_steps': None,\n",
       "   'thought': '',\n",
       "   'runTime': 0,\n",
       "   'usedCredits': 0,\n",
       "   'apiCalls': 0,\n",
       "   'task': None,\n",
       "   'policy': None},\n",
       "  {'agent': 'response_generator',\n",
       "   'input': '# User Query\\n\\n<chat_history>\\n    <USER>Has Section 230 ever been challenged in court? What was the outcome?</USER>\\n</chat_history>\\n\\n# Agents\\' Responses\\n\\n<intermediate_steps>\\n    <step number=\"1\">\\n        <agent>Case Finder Agent</agent>\\n        <input>Search for court cases that reference Section 230</input>\\n        <response>Here are some recent court cases that reference Section 230:\\n\\n1. **[JANE DOE v. Deffenbaugh](https://www.courtlistener.com/docket/71060574/jane-doe-v-deffenbaugh/)**  \\n   - **Filed:** 2025-08-08  \\n   - **Court:** District Court, S.D. New York  \\n   - **Summary:** This case involves a civil cover sheet and details related to a diversity-libel, assault, and slander claim.\\n\\n2. **[Ward v. Homeowner Solutions Pros Inc](https://www.courtlistener.com/docket/71059455/ward-v-homeowner-solutions-pros-inc/)**  \\n   - **Filed:** 2025-08-08  \\n   - **Court:** District Court, E.D. Michigan  \\n   - **Summary:** This case includes a complaint filed against Homeowner Solutions Pros Inc with a jury demand.\\n\\n3. **[Peloquin v. Tesla, Inc.](https://www.courtlistener.com/docket/71056233/peloquin-v-tesla-inc-dba-in-california-as-tesla-motors-inc/)**  \\n   - **Filed:** 2025-08-07  \\n   - **Court:** District Court, N.D. California  \\n   - **Summary:** This case involves employment discrimination claims against Tesla, Inc.\\n\\n4. **[National Education Association-New Hampshire v. NH Attorney General](https://www.courtlistener.com/docket/71052463/national-education-association-new-hampshire-v-nh-attorney-general/)**  \\n   - **Filed:** 2025-08-07  \\n   - **Court:** District Court, D. New Hampshire  \\n   - **Summary:** This case involves a civil rights action related to state statutes.\\n\\n5. **[Southern Utah Wilderness Alliance v. United States Department of the Interior](https://www.courtlistener.com/docket/71051491/southern-utah-wilderness-alliance-v-united-states-department-of-the/)**  \\n   - **Filed:** 2025-08-07  \\n   - **Court:** District Court, D. Utah  \\n   - **Summary:** This case involves a complaint for declaratory and injunctive relief against the Department of the Interior.\\n\\nThese cases illustrate various legal challenges and contexts in which Section 230 has been referenced.</response>\\n    </step>\\n</intermediate_steps>\\n\\n# Response Format\\n\\nFormat your response in the following \\'text\\' format.\\n\\n## Format Examples/Schema\\n\\n',\n",
       "   'output': 'Yes, Section 230 of the Communications Decency Act has been challenged in court multiple times. Here are some recent cases that reference Section 230:\\n\\n1. **[JANE DOE v. Deffenbaugh](https://www.courtlistener.com/docket/71060574/jane-doe-v-deffenbaugh/)**  \\n   - **Filed:** August 8, 2025  \\n   - **Court:** District Court, S.D. New York  \\n   - **Summary:** This case involves a civil cover sheet and details related to a diversity-libel, assault, and slander claim.\\n\\n2. **[Ward v. Homeowner Solutions Pros Inc](https://www.courtlistener.com/docket/71059455/ward-v-homeowner-solutions-pros-inc/)**  \\n   - **Filed:** August 8, 2025  \\n   - **Court:** District Court, E.D. Michigan  \\n   - **Summary:** This case includes a complaint filed against Homeowner Solutions Pros Inc with a jury demand.\\n\\n3. **[Peloquin v. Tesla, Inc.](https://www.courtlistener.com/docket/71056233/peloquin-v-tesla-inc-dba-in-california-as-tesla-motors-inc/)**  \\n   - **Filed:** August 7, 2025  \\n   - **Court:** District Court, N.D. California  \\n   - **Summary:** This case involves employment discrimination claims against Tesla, Inc.\\n\\n4. **[National Education Association-New Hampshire v. NH Attorney General](https://www.courtlistener.com/docket/71052463/national-education-association-new-hampshire-v-nh-attorney-general/)**  \\n   - **Filed:** August 7, 2025  \\n   - **Court:** District Court, D. New Hampshire  \\n   - **Summary:** This case involves a civil rights action related to state statutes.\\n\\n5. **[Southern Utah Wilderness Alliance v. United States Department of the Interior](https://www.courtlistener.com/docket/71051491/southern-utah-wilderness-alliance-v-united-states-department-of-the/)**  \\n   - **Filed:** August 7, 2025  \\n   - **Court:** District Court, D. Utah  \\n   - **Summary:** This case involves a complaint for declaratory and injunctive relief against the Department of the Interior.\\n\\nThese cases illustrate various legal challenges and contexts in which Section 230 has been referenced. If you need more detailed information about any specific case or its outcome, please let me know!',\n",
       "   'tool_steps': None,\n",
       "   'thought': '',\n",
       "   'runTime': 11.523,\n",
       "   'usedCredits': 0.00047804999999999994,\n",
       "   'apiCalls': 1,\n",
       "   'task': None,\n",
       "   'policy': None}],\n",
       " 'executionStats': {'status': 'SUCCESS',\n",
       "  'api_calls': 6,\n",
       "  'credits': 0.0045873,\n",
       "  'runtime': 56.364999999999995,\n",
       "  'api_call_breakdown': {'mentalist': 1,\n",
       "   'orchestrator': 0,\n",
       "   'Case Finder Agent': 4,\n",
       "   'response_generator': 1},\n",
       "  'runtime_breakdown': {'mentalist': 3.276,\n",
       "   'orchestrator': 0,\n",
       "   'Case Finder Agent': 41.566,\n",
       "   'response_generator': 11.523},\n",
       "  'credit_breakdown': {'mentalist': 0.00035475000000000003,\n",
       "   'orchestrator': 0,\n",
       "   'Case Finder Agent': 0.0037545,\n",
       "   'response_generator': 0.00047804999999999994},\n",
       "  'session_id': '0409089a-cd8c-45f0-bcf1-575cabd25c44',\n",
       "  'environment': 'prod',\n",
       "  'assets_used': ['agent:response_generator',\n",
       "   'agent:Case Finder Agent',\n",
       "   'agent:orchestrator',\n",
       "   'agent:mentalist',\n",
       "   'tool:utilities-aixplain-get_cases'],\n",
       "  'time_stamp': '2025-08-08 20:24:27.924057',\n",
       "  'params': {'id': '6896591d686ec479bfbf7279',\n",
       "   'sessionId': '0409089a-cd8c-45f0-bcf1-575cabd25c44'}},\n",
       " 'execution_stats': {'status': 'SUCCESS',\n",
       "  'api_calls': 6,\n",
       "  'credits': 0.0045873,\n",
       "  'runtime': 56.364999999999995,\n",
       "  'api_call_breakdown': {'mentalist': 1,\n",
       "   'orchestrator': 0,\n",
       "   'Case Finder Agent': 4,\n",
       "   'response_generator': 1},\n",
       "  'runtime_breakdown': {'mentalist': 3.276,\n",
       "   'orchestrator': 0,\n",
       "   'Case Finder Agent': 41.566,\n",
       "   'response_generator': 11.523},\n",
       "  'credit_breakdown': {'mentalist': 0.00035475000000000003,\n",
       "   'orchestrator': 0,\n",
       "   'Case Finder Agent': 0.0037545,\n",
       "   'response_generator': 0.00047804999999999994},\n",
       "  'session_id': '0409089a-cd8c-45f0-bcf1-575cabd25c44',\n",
       "  'environment': 'prod',\n",
       "  'assets_used': ['agent:response_generator',\n",
       "   'agent:Case Finder Agent',\n",
       "   'agent:orchestrator',\n",
       "   'agent:mentalist',\n",
       "   'tool:utilities-aixplain-get_cases'],\n",
       "  'time_stamp': '2025-08-08 20:24:27.924057',\n",
       "  'params': {'id': '6896591d686ec479bfbf7279',\n",
       "   'sessionId': '0409089a-cd8c-45f0-bcf1-575cabd25c44'}},\n",
       " 'critiques': ''}"
      ]
     },
     "execution_count": 118,
     "metadata": {},
     "output_type": "execute_result"
    }
   ],
   "source": [
    "agent_response['data']"
   ]
  },
  {
   "cell_type": "markdown",
   "metadata": {
    "id": "eIAz6VlYthYI"
   },
   "source": [
    "### Deploy"
   ]
  },
  {
   "cell_type": "code",
   "execution_count": null,
   "metadata": {
    "id": "a5e74363"
   },
   "outputs": [],
   "source": [
    "policyNavigatorAgent.deploy()"
   ]
  }
 ],
 "metadata": {
  "accelerator": "GPU",
  "colab": {
   "gpuType": "T4",
   "provenance": []
  },
  "kernelspec": {
   "display_name": "Python 3",
   "name": "python3"
  },
  "language_info": {
   "name": "python"
  }
 },
 "nbformat": 4,
 "nbformat_minor": 0
}
